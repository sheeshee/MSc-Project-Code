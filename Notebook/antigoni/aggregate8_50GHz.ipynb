{
 "cells": [
  {
   "cell_type": "code",
   "execution_count": 1,
   "metadata": {},
   "outputs": [],
   "source": [
    "import bempp.api\n",
    "import numpy as np\n",
    "import time\n",
    "from login import gmres \n",
    "from operators import PMCHWT_operator\n",
    "\n",
    "# bempp.api.enable_console_logging()\n",
    "bempp.api.set_ipython_notebook_viewer()"
   ]
  },
  {
   "cell_type": "code",
   "execution_count": 2,
   "metadata": {},
   "outputs": [],
   "source": [
    "from bempp.core.common.global_parameters import global_parameters # Interface to define global_parameters for operators\n",
    "\n",
    "quad_mu= [1,1,1,1]\n",
    "quad_nu= [4,3,2,6]\n",
    "# quad_dense = [4,4,4,6]\n",
    "\n",
    "mu = 0.1\n",
    "nu = 0.001"
   ]
  },
  {
   "cell_type": "code",
   "execution_count": 3,
   "metadata": {},
   "outputs": [],
   "source": [
    "################################################\n",
    "# Parameters nu\n",
    "\n",
    "parameters_nu = global_parameters()\n",
    "if nu == -1:\n",
    "\tparameters_nu.assembly.boundary_operator_assembly_type='dense'\n",
    "else:\n",
    "\tparameters_nu.assembly.boundary_operator_assembly_type='hmat'\n",
    "parameters_nu.hmat.eps = nu\n",
    "parameters_nu.quadrature.double_singular = quad_nu[3]\n",
    "parameters_nu.quadrature.far.double_order = quad_nu[2]\n",
    "parameters_nu.quadrature.medium.double_order = quad_nu[1]\n",
    "parameters_nu.quadrature.near.double_order = quad_nu[0]\n",
    "\n",
    "################################################\n",
    "################################################\n",
    "# Parameters mu near field\n",
    "\n",
    "parameters_mu_nf = global_parameters()\n",
    "if mu == -1:\n",
    "\tparameters_mu_nf.assembly.boundary_operator_assembly_type='dense'\n",
    "else:\n",
    "\tparameters_mu_nf.assembly.boundary_operator_assembly_type='hmat'\n",
    "parameters_mu_nf.hmat.eps = mu\n",
    "parameters_mu_nf.quadrature.double_singular = quad_mu[3]\n",
    "parameters_mu_nf.quadrature.far.double_order = quad_mu[2]\n",
    "parameters_mu_nf.quadrature.medium.double_order = quad_mu[1]\n",
    "parameters_mu_nf.quadrature.near.double_order = quad_mu[0]\n",
    "parameters_mu_nf.hmat.cutoff = 0\n"
   ]
  },
  {
   "cell_type": "code",
   "execution_count": 4,
   "metadata": {},
   "outputs": [],
   "source": [
    "def rescale(A, d1, d2):\n",
    "    \"\"\"Rescale the 2x2 block operator matrix A\"\"\"\n",
    "    \n",
    "    A[0, 1] = A[0, 1] * (d2 / d1)\n",
    "    A[1, 0] = A[1, 0] * (d1 / d2)\n",
    "    \n",
    "    return A"
   ]
  },
  {
   "cell_type": "code",
   "execution_count": 5,
   "metadata": {},
   "outputs": [],
   "source": [
    "def get_memory(number_of_scatterers, operator):\n",
    "    mem = 0\n",
    "    \n",
    "    if number_of_scatterers == 1:\n",
    "        for i in range(2*number_of_scatterers):\n",
    "            for j in range(2*number_of_scatterers):\n",
    "                mem += operator[i][j].memory\n",
    "    else:\n",
    "        for i in range(2*number_of_scatterers):\n",
    "            for j in range(2*number_of_scatterers):\n",
    "                op = operator[i][j]\n",
    "                mem += op.memory\n",
    "    return mem"
   ]
  },
  {
   "cell_type": "code",
   "execution_count": 6,
   "metadata": {},
   "outputs": [
    {
     "name": "stdout",
     "output_type": "stream",
     "text": [
      "wavelength: 1.639344262295082\n",
      "k_ext: 3.8327430373795477\n",
      "mesh size: 0.16393442622950818\n"
     ]
    }
   ],
   "source": [
    "frequency = 183E9\n",
    "wavelength = (3E8/frequency)*10**3 #scale to mm\n",
    "print('wavelength: {0}'.format(wavelength))\n",
    "k_ext = 2 *np.pi/wavelength\n",
    "print('k_ext: {0}'.format(k_ext))\n",
    "print('mesh size: {0}'.format(2*np.pi/(10*k_ext)))\n",
    "\n",
    "if frequency == 50E9:\n",
    "    r = 1.7754+0.00066j\n",
    "elif frequency == 183E9:\n",
    "    r = 1.7754+0.00243j\n",
    "elif frequency == 325E9:\n",
    "    r = 1.7754+0.0044j\n",
    "elif frequency == 664E9:\n",
    "    r=1.7754+0.00972j\n",
    "\n",
    "# r = 1.7728+0.00059j \n",
    "# r = 1.7728 + 0.015"
   ]
  },
  {
   "cell_type": "code",
   "execution_count": 7,
   "metadata": {},
   "outputs": [
    {
     "name": "stdout",
     "output_type": "stream",
     "text": [
      "The exterior wavenumber is: 3.8327430373795477\n",
      "The interior wavenumbers are: [(6.804651988563649+0.0093135655808323j), (6.804651988563649+0.0093135655808323j), (6.804651988563649+0.0093135655808323j), (6.804651988563649+0.0093135655808323j), (6.804651988563649+0.0093135655808323j), (6.804651988563649+0.0093135655808323j), (6.804651988563649+0.0093135655808323j), (6.804651988563649+0.0093135655808323j)]\n"
     ]
    }
   ],
   "source": [
    "number_of_scatterers = 8\n",
    "ref_index = [r] * number_of_scatterers\n",
    "k_int= [k_ext * i for i in ref_index]\n",
    "# number_of_scatterers = len(k_int)\n",
    "\n",
    "print(\"The exterior wavenumber is: {0}\".format(k_ext))\n",
    "print(\"The interior wavenumbers are: {0}\".format(k_int))\n",
    "\n",
    "mu_int = number_of_scatterers * [1.0]\n",
    "mu_ext = 1.0"
   ]
  },
  {
   "cell_type": "code",
   "execution_count": 9,
   "metadata": {},
   "outputs": [
    {
     "ename": "FileNotFoundError",
     "evalue": "[Errno 2] No such file or directory: '8aggregate_183GHz/1cm/hex0.msh'",
     "output_type": "error",
     "traceback": [
      "\u001b[0;31m---------------------------------------------------------------------------\u001b[0m",
      "\u001b[0;31mFileNotFoundError\u001b[0m                         Traceback (most recent call last)",
      "\u001b[0;32m<ipython-input-9-27193ea37554>\u001b[0m in \u001b[0;36m<module>\u001b[0;34m()\u001b[0m\n\u001b[1;32m      1\u001b[0m \u001b[0mgrids\u001b[0m \u001b[0;34m=\u001b[0m \u001b[0;34m[\u001b[0m\u001b[0;34m]\u001b[0m\u001b[0;34m\u001b[0m\u001b[0m\n\u001b[1;32m      2\u001b[0m \u001b[0;32mfor\u001b[0m \u001b[0mi\u001b[0m \u001b[0;32min\u001b[0m \u001b[0mrange\u001b[0m\u001b[0;34m(\u001b[0m\u001b[0mnumber_of_scatterers\u001b[0m\u001b[0;34m)\u001b[0m\u001b[0;34m:\u001b[0m\u001b[0;34m\u001b[0m\u001b[0m\n\u001b[0;32m----> 3\u001b[0;31m     \u001b[0mnew_grid\u001b[0m \u001b[0;34m=\u001b[0m \u001b[0mbempp\u001b[0m\u001b[0;34m.\u001b[0m\u001b[0mapi\u001b[0m\u001b[0;34m.\u001b[0m\u001b[0mimport_grid\u001b[0m\u001b[0;34m(\u001b[0m\u001b[0;34m'8aggregate_183GHz/1cm/hex'\u001b[0m \u001b[0;34m+\u001b[0m \u001b[0mstr\u001b[0m\u001b[0;34m(\u001b[0m\u001b[0mi\u001b[0m\u001b[0;34m)\u001b[0m \u001b[0;34m+\u001b[0m \u001b[0;34m'.msh'\u001b[0m\u001b[0;34m)\u001b[0m\u001b[0;34m\u001b[0m\u001b[0m\n\u001b[0m\u001b[1;32m      4\u001b[0m     \u001b[0mgrids\u001b[0m\u001b[0;34m.\u001b[0m\u001b[0mappend\u001b[0m\u001b[0;34m(\u001b[0m\u001b[0mnew_grid\u001b[0m\u001b[0;34m)\u001b[0m\u001b[0;34m\u001b[0m\u001b[0m\n\u001b[1;32m      5\u001b[0m \u001b[0;34m\u001b[0m\u001b[0m\n",
      "\u001b[0;32m/usr/lib/python3/dist-packages/bempp/api/file_interfaces/general_interface.py\u001b[0m in \u001b[0;36mimport_grid\u001b[0;34m(file_name, return_id_maps)\u001b[0m\n\u001b[1;32m    205\u001b[0m                 \u001b[0mimport_data_sets\u001b[0m\u001b[0;34m\u001b[0m\u001b[0m\n\u001b[1;32m    206\u001b[0m \u001b[0;34m\u001b[0m\u001b[0m\n\u001b[0;32m--> 207\u001b[0;31m         \u001b[0mdata_sets\u001b[0m \u001b[0;34m=\u001b[0m \u001b[0mimport_data_sets\u001b[0m\u001b[0;34m(\u001b[0m\u001b[0mfile_name\u001b[0m\u001b[0;34m)\u001b[0m\u001b[0;34m\u001b[0m\u001b[0m\n\u001b[0m\u001b[1;32m    208\u001b[0m     \u001b[0;32melif\u001b[0m \u001b[0mextension\u001b[0m \u001b[0;34m==\u001b[0m \u001b[0;34m'.json'\u001b[0m\u001b[0;34m:\u001b[0m\u001b[0;34m\u001b[0m\u001b[0m\n\u001b[1;32m    209\u001b[0m         \u001b[0;31m# Format is JSON\u001b[0m\u001b[0;34m\u001b[0m\u001b[0;34m\u001b[0m\u001b[0m\n",
      "\u001b[0;32m/usr/lib/python3/dist-packages/bempp/api/file_interfaces/gmsh.py\u001b[0m in \u001b[0;36mimport_data_sets\u001b[0;34m(file_name)\u001b[0m\n\u001b[1;32m    434\u001b[0m     (all_vertices, all_vertex_ids, \n\u001b[1;32m    435\u001b[0m             elements_list, element_ids_list, domain_indices_list) = \\\n\u001b[0;32m--> 436\u001b[0;31m                     \u001b[0mparse_gmsh\u001b[0m\u001b[0;34m(\u001b[0m\u001b[0mfile_name\u001b[0m\u001b[0;34m)\u001b[0m\u001b[0;34m\u001b[0m\u001b[0m\n\u001b[0m\u001b[1;32m    437\u001b[0m     grid_structure = create_grid_structure(all_vertices, all_vertex_ids,\n\u001b[1;32m    438\u001b[0m             elements_list, element_ids_list, domain_indices_list)\n",
      "\u001b[0;32m/usr/lib/python3/dist-packages/bempp/api/file_interfaces/gmsh.py\u001b[0m in \u001b[0;36mparse_gmsh\u001b[0;34m(file_name)\u001b[0m\n\u001b[1;32m    102\u001b[0m     \u001b[0;32mfrom\u001b[0m \u001b[0mIPython\u001b[0m \u001b[0;32mimport\u001b[0m \u001b[0membed\u001b[0m\u001b[0;34m\u001b[0m\u001b[0m\n\u001b[1;32m    103\u001b[0m \u001b[0;34m\u001b[0m\u001b[0m\n\u001b[0;32m--> 104\u001b[0;31m     \u001b[0;32mwith\u001b[0m \u001b[0mopen\u001b[0m\u001b[0;34m(\u001b[0m\u001b[0mfile_name\u001b[0m\u001b[0;34m,\u001b[0m \u001b[0;34m'rb'\u001b[0m\u001b[0;34m)\u001b[0m \u001b[0;32mas\u001b[0m \u001b[0mf\u001b[0m\u001b[0;34m:\u001b[0m\u001b[0;34m\u001b[0m\u001b[0m\n\u001b[0m\u001b[1;32m    105\u001b[0m         \u001b[0;32mwhile\u001b[0m \u001b[0;32mTrue\u001b[0m\u001b[0;34m:\u001b[0m\u001b[0;34m\u001b[0m\u001b[0m\n\u001b[1;32m    106\u001b[0m             \u001b[0ms\u001b[0m \u001b[0;34m=\u001b[0m \u001b[0mf\u001b[0m\u001b[0;34m.\u001b[0m\u001b[0mreadline\u001b[0m\u001b[0;34m(\u001b[0m\u001b[0;34m)\u001b[0m\u001b[0;34m.\u001b[0m\u001b[0mrstrip\u001b[0m\u001b[0;34m(\u001b[0m\u001b[0;34m)\u001b[0m\u001b[0;34m.\u001b[0m\u001b[0mdecode\u001b[0m\u001b[0;34m(\u001b[0m\u001b[0;34m'utf-8'\u001b[0m\u001b[0;34m)\u001b[0m\u001b[0;34m\u001b[0m\u001b[0m\n",
      "\u001b[0;31mFileNotFoundError\u001b[0m: [Errno 2] No such file or directory: '8aggregate_183GHz/1cm/hex0.msh'"
     ]
    }
   ],
   "source": [
    "grids = []\n",
    "for i in range(number_of_scatterers):\n",
    "    new_grid = bempp.api.import_grid('8aggregate_183GHz/1cm/hex' + str(i) + '.msh')\n",
    "    grids.append(new_grid)\n",
    "\n",
    "%matplotlib inline\n",
    "import matplotlib.pyplot as plt\n",
    "from mpl_toolkits.mplot3d import Axes3D\n",
    "\n",
    "fig = plt.figure()\n",
    "ax = Axes3D(fig)\n",
    "\n",
    "for i in range(number_of_scatterers):\n",
    "    vertices = grids[i].leaf_view.vertices\n",
    "    ax.scatter(vertices[0], vertices[1], vertices[2])"
   ]
  },
  {
   "cell_type": "code",
   "execution_count": 10,
   "metadata": {},
   "outputs": [
    {
     "ename": "IndexError",
     "evalue": "list index out of range",
     "output_type": "error",
     "traceback": [
      "\u001b[0;31m---------------------------------------------------------------------------\u001b[0m",
      "\u001b[0;31mIndexError\u001b[0m                                Traceback (most recent call last)",
      "\u001b[0;32m<ipython-input-10-7b61354fb32a>\u001b[0m in \u001b[0;36m<module>\u001b[0;34m()\u001b[0m\n\u001b[1;32m      2\u001b[0m \u001b[0;34m\u001b[0m\u001b[0m\n\u001b[1;32m      3\u001b[0m \u001b[0;32mfor\u001b[0m \u001b[0mi\u001b[0m \u001b[0;32min\u001b[0m \u001b[0mrange\u001b[0m\u001b[0;34m(\u001b[0m\u001b[0mnumber_of_scatterers\u001b[0m\u001b[0;34m)\u001b[0m\u001b[0;34m:\u001b[0m\u001b[0;34m\u001b[0m\u001b[0m\n\u001b[0;32m----> 4\u001b[0;31m     \u001b[0mel\u001b[0m \u001b[0;34m=\u001b[0m \u001b[0mgrids\u001b[0m\u001b[0;34m[\u001b[0m\u001b[0;36m0\u001b[0m\u001b[0;34m]\u001b[0m\u001b[0;34m.\u001b[0m\u001b[0mleaf_view\u001b[0m\u001b[0;34m.\u001b[0m\u001b[0melements\u001b[0m\u001b[0;34m\u001b[0m\u001b[0m\n\u001b[0m\u001b[1;32m      5\u001b[0m     \u001b[0msum_elements\u001b[0m \u001b[0;34m+=\u001b[0m \u001b[0mel\u001b[0m\u001b[0;34m.\u001b[0m\u001b[0mshape\u001b[0m\u001b[0;34m[\u001b[0m\u001b[0;36m1\u001b[0m\u001b[0;34m]\u001b[0m\u001b[0;34m\u001b[0m\u001b[0m\n\u001b[1;32m      6\u001b[0m \u001b[0mprint\u001b[0m\u001b[0;34m(\u001b[0m\u001b[0msum_elements\u001b[0m\u001b[0;34m)\u001b[0m\u001b[0;34m\u001b[0m\u001b[0m\n",
      "\u001b[0;31mIndexError\u001b[0m: list index out of range"
     ]
    }
   ],
   "source": [
    "sum_elements = 0\n",
    "\n",
    "for i in range(number_of_scatterers):\n",
    "    el = grids[0].leaf_view.elements\n",
    "    sum_elements += el.shape[1]\n",
    "print(sum_elements)"
   ]
  },
  {
   "cell_type": "code",
   "execution_count": 10,
   "metadata": {
    "collapsed": true
   },
   "outputs": [],
   "source": [
    "theta = np.pi / 4 # Incident wave travelling at a 60 degree angle\n",
    "direction = np.array([np.cos(theta), 0, np.sin(theta)])\n",
    "polarization = np.array([0, 1.0, 0])\n",
    "\n",
    "def plane_wave(point):\n",
    "    return polarization * np.exp(1j * k_ext * np.dot(point, direction))\n",
    "\n",
    "def dirichlet_trace_fun(point, n, domain_index, result):\n",
    "    result[:] =  np.cross(plane_wave(point), n)\n",
    "\n",
    "def plane_wave_curl(point):\n",
    "    return np.cross(direction, polarization) * 1j * k_ext * np.exp(1j * k_ext * np.dot(point, direction))\n",
    "\n",
    "def neumann_trace_fun(point, n, domain_index, result):\n",
    "    result[:] =  1./ (1j * k_ext) * np.cross(plane_wave_curl(point), n)"
   ]
  },
  {
   "cell_type": "code",
   "execution_count": 12,
   "metadata": {},
   "outputs": [
    {
     "name": "stdout",
     "output_type": "stream",
     "text": [
      "0 NDOF\n"
     ]
    }
   ],
   "source": [
    "# # spaces\n",
    "bc_space = [bempp.api.function_space(grid, \"BC\", 0) for grid in grids]\n",
    "rbc_space = [bempp.api.function_space(grid, \"RBC\", 0) for grid in grids]\n",
    "rwg_space = [bempp.api.function_space(grid, \"RWG\", 0) for grid in grids]\n",
    "snc_space = [bempp.api.function_space(grid, \"SNC\", 0) for grid in grids]\n",
    "\n",
    "b_rwg_space = [bempp.api.function_space(grid, \"B-RWG\", 0) for grid in grids]\n",
    "b_snc_space = [bempp.api.function_space(grid, \"B-SNC\", 0) for grid in grids]\n",
    "\n",
    "N = sum([space.global_dof_count for space in rwg_space])\n",
    "print (N ,'NDOF')"
   ]
  },
  {
   "cell_type": "code",
   "execution_count": 12,
   "metadata": {
    "scrolled": true
   },
   "outputs": [
    {
     "name": "stdout",
     "output_type": "stream",
     "text": [
      "Done\n"
     ]
    }
   ],
   "source": [
    "# set up operators\n",
    "\n",
    "[PMCHWT_nu, filter_operators_nu] = PMCHWT_operator(grids, k_ext, k_int, mu_ext, mu_int, parameters = parameters_nu)\n",
    "# [_, PMCHWT_diag_nu] = PMCHWT_operator(grids, k_ext, k_int, mu_ext, mu_int, preconditioner = True, parameters = parameters_nu)\n",
    "# [_, PMCHWT_interior_nu] = PMCHWT_operator(grids, k_ext, k_int, mu_ext, mu_int, preconditioner=True, parameters = parameters_nu,\n",
    "#                                           type_of_preconditioner='interior')\n",
    "[_, PMCHWT_interior_electric_nu] = PMCHWT_operator(grids, k_ext, k_int, mu_ext, mu_int, preconditioner=True, parameters=parameters_nu,\n",
    "                                                   type_of_preconditioner = 'interior_electric')\n",
    "# [_,PMCHWT_diag_mu_nf]= PMCHWT_operator(grids, k_ext, k_int, mu_ext, mu_int, preconditioner = True, parameters = parameters_mu_nf)\n",
    "# [_,PMCHWT_interior_mu_nf] = PMCHWT_operator(grids, k_ext, k_int, mu_ext, mu_int, preconditioner = True, \n",
    "#                                             parameters = parameters_mu_nf, type_of_preconditioner='interior')\n",
    "# [_,PMCHWT_interior_electric_mu_nf] = PMCHWT_operator(grids, k_ext, k_int, mu_ext, mu_int, preconditioner = True, \n",
    "#                                                      parameters = parameters_mu_nf, type_of_preconditioner='interior_electric')\n",
    "print('Done')"
   ]
  },
  {
   "cell_type": "code",
   "execution_count": 11,
   "metadata": {
    "scrolled": true
   },
   "outputs": [
    {
     "name": "stdout",
     "output_type": "stream",
     "text": [
      "creating mass-matrices\n"
     ]
    },
    {
     "ename": "NameError",
     "evalue": "name 'bc_space' is not defined",
     "output_type": "error",
     "traceback": [
      "\u001b[0;31m---------------------------------------------------------------------------\u001b[0m",
      "\u001b[0;31mNameError\u001b[0m                                 Traceback (most recent call last)",
      "\u001b[0;32m<ipython-input-11-9d5d385e1048>\u001b[0m in \u001b[0;36m<module>\u001b[0;34m()\u001b[0m\n\u001b[1;32m      6\u001b[0m     \u001b[0;32mfor\u001b[0m \u001b[0mj\u001b[0m \u001b[0;32min\u001b[0m \u001b[0mrange\u001b[0m\u001b[0;34m(\u001b[0m\u001b[0mnumber_of_scatterers\u001b[0m\u001b[0;34m)\u001b[0m\u001b[0;34m:\u001b[0m\u001b[0;34m\u001b[0m\u001b[0m\n\u001b[1;32m      7\u001b[0m         \u001b[0;32mif\u001b[0m \u001b[0mi\u001b[0m\u001b[0;34m==\u001b[0m\u001b[0mj\u001b[0m\u001b[0;34m:\u001b[0m\u001b[0;34m\u001b[0m\u001b[0m\n\u001b[0;32m----> 8\u001b[0;31m             \u001b[0mid_BC_SNC\u001b[0m \u001b[0;34m=\u001b[0m \u001b[0mbempp\u001b[0m\u001b[0;34m.\u001b[0m\u001b[0mapi\u001b[0m\u001b[0;34m.\u001b[0m\u001b[0moperators\u001b[0m\u001b[0;34m.\u001b[0m\u001b[0mboundary\u001b[0m\u001b[0;34m.\u001b[0m\u001b[0msparse\u001b[0m\u001b[0;34m.\u001b[0m\u001b[0midentity\u001b[0m\u001b[0;34m(\u001b[0m\u001b[0mbc_space\u001b[0m\u001b[0;34m[\u001b[0m\u001b[0mi\u001b[0m\u001b[0;34m]\u001b[0m\u001b[0;34m,\u001b[0m \u001b[0mbc_space\u001b[0m\u001b[0;34m[\u001b[0m\u001b[0mi\u001b[0m\u001b[0;34m]\u001b[0m\u001b[0;34m,\u001b[0m \u001b[0mb_snc_space\u001b[0m\u001b[0;34m[\u001b[0m\u001b[0mi\u001b[0m\u001b[0;34m]\u001b[0m\u001b[0;34m)\u001b[0m\u001b[0;34m\u001b[0m\u001b[0m\n\u001b[0m\u001b[1;32m      9\u001b[0m             \u001b[0minv_identity_BC_SNC\u001b[0m \u001b[0;34m=\u001b[0m \u001b[0mbempp\u001b[0m\u001b[0;34m.\u001b[0m\u001b[0mapi\u001b[0m\u001b[0;34m.\u001b[0m\u001b[0massembly\u001b[0m\u001b[0;34m.\u001b[0m\u001b[0mInverseSparseDiscreteBoundaryOperator\u001b[0m\u001b[0;34m(\u001b[0m\u001b[0mid_BC_SNC\u001b[0m\u001b[0;34m.\u001b[0m\u001b[0mweak_form\u001b[0m\u001b[0;34m(\u001b[0m\u001b[0;34m)\u001b[0m\u001b[0;34m)\u001b[0m\u001b[0;34m\u001b[0m\u001b[0m\n\u001b[1;32m     10\u001b[0m             \u001b[0mmass_matrix_BC_SNC\u001b[0m\u001b[0;34m[\u001b[0m\u001b[0;36m2\u001b[0m\u001b[0;34m*\u001b[0m\u001b[0mi\u001b[0m\u001b[0;34m,\u001b[0m \u001b[0;36m2\u001b[0m\u001b[0;34m*\u001b[0m\u001b[0mj\u001b[0m\u001b[0;34m]\u001b[0m \u001b[0;34m=\u001b[0m \u001b[0minv_identity_BC_SNC\u001b[0m\u001b[0;34m\u001b[0m\u001b[0m\n",
      "\u001b[0;31mNameError\u001b[0m: name 'bc_space' is not defined"
     ]
    }
   ],
   "source": [
    "print('creating mass-matrices')\n",
    "# BC discretisation\n",
    "mass_matrix_BC_SNC = np.empty((2 * number_of_scatterers, 2 * number_of_scatterers), dtype='O')\n",
    "t0 = time.time()\n",
    "for i in range(number_of_scatterers):\n",
    "    for j in range(number_of_scatterers):\n",
    "        if i==j:\n",
    "            id_BC_SNC = bempp.api.operators.boundary.sparse.identity(bc_space[i], bc_space[i], b_snc_space[i])\n",
    "            inv_identity_BC_SNC = bempp.api.assembly.InverseSparseDiscreteBoundaryOperator(id_BC_SNC.weak_form())\n",
    "            mass_matrix_BC_SNC[2*i, 2*j] = inv_identity_BC_SNC\n",
    "            mass_matrix_BC_SNC[2*i + 1, 2*j + 1] = inv_identity_BC_SNC\n",
    "mass_matrix_BC_SNC = bempp.api.assembly.BlockedDiscreteOperator(mass_matrix_BC_SNC)\n",
    "ta_mass_matrix_BC_SNC = time.time() - t0\n",
    "print('assembly time for mass_matrix_BC_SNC: {0}'.format(ta_mass_matrix_BC_SNC))\n",
    "\n",
    "mass_matrix_BRWG_RBC = np.empty((2*number_of_scatterers, 2*number_of_scatterers), dtype = 'O')\n",
    "t0 = time.time()\n",
    "for i in range(number_of_scatterers):\n",
    "    for j in range(number_of_scatterers):\n",
    "        if i==j:\n",
    "            id_BRWG_RBC = bempp.api.operators.boundary.sparse.identity(b_rwg_space[i], b_rwg_space[i], rbc_space[i])\n",
    "            inv_identity_BRWG_RBC = bempp.api.assembly.InverseSparseDiscreteBoundaryOperator(id_BRWG_RBC.weak_form())\n",
    "            mass_matrix_BRWG_RBC[2*i, 2*j] = inv_identity_BRWG_RBC\n",
    "            mass_matrix_BRWG_RBC[2*i + 1, 2*j+1] = inv_identity_BRWG_RBC\n",
    "mass_matrix_BRWG_RBC = bempp.api.assembly.BlockedDiscreteOperator(mass_matrix_BRWG_RBC)\n",
    "ta_mass_matrix_BRWG_RBC = time.time() - t0\n",
    "print('assembly time for mass_matrix_bc: {0}'.format(ta_mass_matrix_BRWG_RBC))"
   ]
  },
  {
   "cell_type": "code",
   "execution_count": 14,
   "metadata": {
    "scrolled": true
   },
   "outputs": [
    {
     "name": "stdout",
     "output_type": "stream",
     "text": [
      "assembly of PMCHWT operator - rwg discretisation - parameters_nu\n",
      "assembly time of op_nu_wf: 123.56513023376465\n"
     ]
    }
   ],
   "source": [
    "print('assembly of PMCHWT operator - rwg discretisation - parameters_nu')\n",
    "\n",
    "t0 = time.time()\n",
    "PMCHWT_nu_wf = PMCHWT_nu.weak_form()\n",
    "PMCHWT_nu_sf = mass_matrix_BC_SNC * PMCHWT_nu_wf\n",
    "ta_PMCHWT_nu_sf = time.time() - t0 + ta_mass_matrix_BC_SNC\n",
    "print('assembly time of op_nu_wf: {0}'.format(ta_PMCHWT_nu_sf))"
   ]
  },
  {
   "cell_type": "code",
   "execution_count": null,
   "metadata": {
    "collapsed": true
   },
   "outputs": [],
   "source": [
    "print('assembly of Cald nu parameters')\n",
    "t0 = time.time()\n",
    "PMCHWT_diag_nu_wf = PMCHWT_diag_nu.weak_form()\n",
    "op_cald_nu_sf = mass_matrix_BRWG_RBC * PMCHWT_diag_nu_wf * PMCHWT_nu_sf\n",
    "ta_cald_nu_sf = time.time() - t0 + ta_PMCHWT_nu_sf +ta_mass_matrix_BRWG_RBC\n",
    "print('assembly time sf: {0}'.format(ta_cald_nu_sf))"
   ]
  },
  {
   "cell_type": "code",
   "execution_count": null,
   "metadata": {
    "collapsed": true
   },
   "outputs": [],
   "source": [
    "print('assembly of interior nu parameters')\n",
    "t0 = time.time()\n",
    "PMCHWT_interior_nu_wf = PMCHWT_interior_nu.weak_form()\n",
    "op_interior_nu_sf = mass_matrix_BRWG_RBC * PMCHWT_interior_nu_wf * PMCHWT_nu_sf\n",
    "ta_interior_nu_sf = time.time() - t0 + ta_PMCHWT_nu_sf + ta_mass_matrix_BRWG_RBC\n",
    "print('assembly time sf: {0}'.format(ta_interior_nu_sf))"
   ]
  },
  {
   "cell_type": "code",
   "execution_count": 15,
   "metadata": {},
   "outputs": [
    {
     "name": "stdout",
     "output_type": "stream",
     "text": [
      "assembly of interior-electric nu parameters\n",
      "assembly time sf: 243.91487407684326\n"
     ]
    }
   ],
   "source": [
    "print('assembly of interior-electric nu parameters')\n",
    "t0 = time.time()\n",
    "PMCHWT_interior_electric_nu_wf = PMCHWT_interior_electric_nu.weak_form()\n",
    "op_interior_electric_nu_sf = mass_matrix_BRWG_RBC * PMCHWT_interior_electric_nu_wf * PMCHWT_nu_sf\n",
    "ta_interior_electric_nu_sf = time.time() - t0 + ta_PMCHWT_nu_sf + ta_mass_matrix_BRWG_RBC\n",
    "print('assembly time sf: {0}'.format(ta_interior_electric_nu_sf))"
   ]
  },
  {
   "cell_type": "code",
   "execution_count": null,
   "metadata": {
    "collapsed": true,
    "scrolled": true
   },
   "outputs": [],
   "source": [
    "print('assembly of bi-Cald prec near field')\n",
    "t0 = time.time()\n",
    "PMCHWT_diag_mu_nf_wf = PMCHWT_diag_mu_nf.weak_form()\n",
    "op_cald_bi_nf_sf = mass_matrix_BRWG_RBC * PMCHWT_diag_mu_nf_wf * PMCHWT_nu_sf\n",
    "ta_cald_bi_nf_sf = time.time() - t0 + ta_PMCHWT_nu_sf + ta_mass_matrix_BRWG_RBC \n",
    "print('time_sf: {0}'.format(ta_cald_bi_nf_sf))"
   ]
  },
  {
   "cell_type": "code",
   "execution_count": 16,
   "metadata": {},
   "outputs": [
    {
     "name": "stdout",
     "output_type": "stream",
     "text": [
      "assembly of interior prec near field\n",
      "time_sf: 2953.759608268738\n"
     ]
    }
   ],
   "source": [
    "print('assembly of interior prec near field')\n",
    "t0 = time.time()\n",
    "PMCHWT_interior_mu_nf_wf = PMCHWT_interior_mu_nf.weak_form()\n",
    "op_interior_bi_nf_sf = mass_matrix_BRWG_RBC * PMCHWT_interior_mu_nf_wf * PMCHWT_nu_sf\n",
    "ta_interior_bi_nf_sf = time.time() - t0 + ta_PMCHWT_nu_sf + ta_mass_matrix_BRWG_RBC \n",
    "print('time_sf: {0}'.format(ta_interior_bi_nf_sf))"
   ]
  },
  {
   "cell_type": "code",
   "execution_count": 16,
   "metadata": {},
   "outputs": [
    {
     "name": "stdout",
     "output_type": "stream",
     "text": [
      "assembly of interior-electric prec near field\n",
      "time_sf: 2557.6234345436096\n"
     ]
    }
   ],
   "source": [
    "print('assembly of interior-electric prec near field')\n",
    "t0 = time.time()\n",
    "PMCHWT_interior_electric_mu_nf_wf = PMCHWT_interior_electric_mu_nf.weak_form()\n",
    "op_interior_electric_bi_nf_sf = mass_matrix_BRWG_RBC * PMCHWT_interior_electric_mu_nf_wf * PMCHWT_nu_sf\n",
    "ta_interior_electric_bi_nf_sf = time.time() - t0 + ta_PMCHWT_nu_sf + ta_mass_matrix_BRWG_RBC \n",
    "print('time_sf: {0}'.format(ta_interior_electric_bi_nf_sf))"
   ]
  },
  {
   "cell_type": "code",
   "execution_count": null,
   "metadata": {
    "collapsed": true,
    "scrolled": true
   },
   "outputs": [],
   "source": [
    "# print('assembly of block PMCHWT')\n",
    "# t0 = time.time()\n",
    "# PMCHWT_block_sf = PMCHWT_block.strong_form()\n",
    "# ta_PMCHWT_block_sf = time.time() -t0\n",
    "\n",
    "# t0 = time.time()\n",
    "# PMCHWT_block_diag_sf = PMCHWT_block_diag.strong_form()\n",
    "# ta_PMCHWT_block_diag_sf = time.time() - t0\n",
    "\n",
    "\n",
    "# ############\n",
    "# t0 = time.time()\n",
    "# op_cald_block_sf = PMCHWT_block_diag_sf * PMCHWT_block_sf\n",
    "# ta_op_cald_block_sf = time.time() - t0 + ta_PMCHWT_block_sf + ta_PMCHWT_block_diag_sf\n",
    "\n",
    "# print('time cald_block_sf: {0}'.format(ta_op_cald_block_sf))"
   ]
  },
  {
   "cell_type": "code",
   "execution_count": null,
   "metadata": {
    "scrolled": true
   },
   "outputs": [
    {
     "name": "stdout",
     "output_type": "stream",
     "text": [
      "defining incident field - RWG\n",
      "rhs_nu wf\n",
      "rhs_interior_electric_nu_sf\n"
     ]
    }
   ],
   "source": [
    "# Assembly of RHS operators\n",
    "## Discretize the incident field\n",
    "print('defining incident field - RWG')\n",
    "incident_field_RWG = number_of_scatterers * [None]\n",
    "for i in range(number_of_scatterers):\n",
    "    dirichlet_trace_RWG = bempp.api.GridFunction(rwg_space[i], fun=dirichlet_trace_fun)\n",
    "    neumann_trace_RWG = (k_ext/mu_ext) * bempp.api.GridFunction(rwg_space[i], fun = neumann_trace_fun)\n",
    "    incident_field_RWG[i] = dirichlet_trace_RWG.coefficients.tolist() +  neumann_trace_RWG.coefficients.tolist()\n",
    "\n",
    "print('rhs_nu wf')\n",
    "rhs_nu_wf = []#number_of_scatterers * [None]\n",
    "for i in range(number_of_scatterers):\n",
    "    rhs_nu_wf.append(filter_operators_nu[i].weak_form() * incident_field_RWG[i])\n",
    "rhs_nu_wf = [y for x in rhs_nu_wf for y in x]\n",
    "\n",
    "# print('rhs_cald_nu sf')\n",
    "# rhs_cald_nu_sf = mass_matrix_BRWG_RBC * PMCHWT_diag_nu_wf * mass_matrix_BC_SNC * rhs_nu_wf\n",
    "\n",
    "# print('rhs_interior_nu_sf')\n",
    "# rhs_interior_nu_sf = mass_matrix_BRWG_RBC * PMCHWT_interior_nu_wf * mass_matrix_BC_SNC * rhs_nu_wf\n",
    "\n",
    "print('rhs_interior_electric_nu_sf')\n",
    "rhs_interior_electric_nu_sf = mass_matrix_BRWG_RBC * PMCHWT_interior_electric_nu_wf * mass_matrix_BC_SNC * rhs_nu_wf\n",
    "\n",
    "# print('rhs_cald_bi_nf_sf')\n",
    "# rhs_cald_bi_nf_sf = mass_matrix_BRWG_RBC * PMCHWT_diag_mu_nf_wf * mass_matrix_BC_SNC * rhs_nu_wf\n",
    "\n",
    "# print('rhs_interior_bi_nf_sf')\n",
    "# rhs_interior_bi_nf_sf = mass_matrix_BRWG_RBC * PMCHWT_interior_mu_nf_wf * mass_matrix_BC_SNC * rhs_nu_wf\n",
    "\n",
    "# print('rhs_interior_electric_bi_nf_sf')\n",
    "# rhs_interior_electric_bi_nf_sf = mass_matrix_BRWG_RBC * PMCHWT_interior_electric_mu_nf_wf * mass_matrix_BC_SNC * rhs_nu_wf"
   ]
  },
  {
   "cell_type": "code",
   "execution_count": null,
   "metadata": {
    "collapsed": true,
    "scrolled": true
   },
   "outputs": [],
   "source": [
    "# print('defining incident field - block')\n",
    "# incident_field_block = 2 * number_of_scatterers * [None]\n",
    "# for i in range(number_of_scatterers):\n",
    "#     dirichlet_trace_block = bempp.api.GridFunction(PMCHWT_block.domain_spaces[2*i], dual_space=PMCHWT_block.dual_to_range_spaces[2*i], fun=dirichlet_trace_fun)\n",
    "#     neumann_trace_block = (k_ext/mu_ext) * bempp.api.GridFunction(PMCHWT_block.domain_spaces[2*i+1], dual_space=PMCHWT_block.dual_to_range_spaces[2*i+1], fun=neumann_trace_fun)\n",
    "#     incident_field_block[i] = dirichlet_trace_block.coefficients.tolist() + neumann_trace_block.coefficients.tolist()\n",
    "\n",
    "# print('rhs_block wf & sf')\n",
    "# rhs_block_sf = []\n",
    "# for i in range(number_of_scatterers):\n",
    "#     rhs_block_sf.append(filter_operators_block[i].strong_form() * incident_field_block[i])\n",
    "# rhs_block_sf = [y for x in rhs_block_sf for y in x]\n",
    "\n",
    "# print('rhs_cald_block wf & sf')\n",
    "# rhs_cald_block_sf = PMCHWT_block_diag_sf * rhs_block_sf"
   ]
  },
  {
   "cell_type": "code",
   "execution_count": 25,
   "metadata": {},
   "outputs": [
    {
     "name": "stdout",
     "output_type": "stream",
     "text": [
      "solving interior-electric nu parameters\n",
      "number of iterations: 3198 \n",
      " time: 5868.213444709778\n"
     ]
    }
   ],
   "source": [
    "#### solving the linear system\n",
    "tolerance = 1e-5\n",
    "restart = 200\n",
    "maxiter = 5000\n",
    "\n",
    "\n",
    "# print('solving Calderon nu parameters')\n",
    "# t0 = time.time()\n",
    "# c_cald_nu_sf, info_cald_nu_sf, res_cald_nu_sf = gmres(op_cald_nu_sf, rhs_cald_nu_sf, tol = tolerance, restart=restart,\n",
    "#                                                      return_residuals=True, maxiter=maxiter)\n",
    "# ts_cald_nu_sf = time.time() - t0\n",
    "# print('number of iterations: {0} \\n time: {1}'.format(len(res_cald_nu_sf), ts_cald_nu_sf))\n",
    "\n",
    "# print('solving interior nu parameters')\n",
    "# t0 = time.time()\n",
    "# c_interior_nu_sf, info_interior_nu_sf, res_interior_nu_sf = gmres(op_interior_nu_sf, rhs_interior_nu_sf, tol = tolerance, \n",
    "#                                                                   restart=restart,\n",
    "#                                                                   return_residuals=True, maxiter=maxiter)\n",
    "# ts_interior_nu_sf = time.time() - t0\n",
    "# print('number of iterations: {0} \\n time: {1}'.format(len(res_interior_nu_sf), ts_interior_nu_sf))\n",
    "\n",
    "print('solving interior-electric nu parameters')\n",
    "t0 = time.time()\n",
    "c_interior_electric_nu_sf, info_interior_electric_nu_sf, res_interior_electric_nu_sf = gmres(op_interior_electric_nu_sf, \n",
    "                                                                                             rhs_interior_electric_nu_sf,\n",
    "                                                                                             tol = tolerance, restart=restart,\n",
    "                                                                                             return_residuals=True, \n",
    "                                                                                             maxiter=maxiter)\n",
    "ts_interior_electric_nu_sf = time.time() - t0\n",
    "print('number of iterations: {0} \\n time: {1}'.format(len(res_interior_electric_nu_sf), ts_interior_electric_nu_sf))\n",
    "\n",
    "# print('solver of bi-Calderon near field sf')\n",
    "# t0 = time.time()\n",
    "# c_cald_bi_nf_sf,  info_cald_bi_nf_sf, res_cald_bi_nf_sf  = gmres(op_cald_bi_nf_sf, rhs_cald_bi_nf_sf, tol=tolerance, restart=restart, \n",
    "#                                                                 return_residuals=True, maxiter=maxiter)\n",
    "# ts_cald_bi_nf_sf = time.time()-t0\n",
    "# print('number of iterations: {0} \\n time: {1}'.format(len(res_cald_bi_nf_sf), ts_cald_bi_nf_sf))\n",
    "\n",
    "# print('solver of bi-interior near field sf')\n",
    "# t0 = time.time()\n",
    "# c_interior_bi_nf_sf,  info_interior_bi_nf_sf, res_interior_bi_nf_sf  = gmres(op_interior_bi_nf_sf, rhs_interior_bi_nf_sf, \n",
    "#                                                                              tol=tolerance, restart=restart, \n",
    "#                                                                              return_residuals=True, maxiter=maxiter)\n",
    "# ts_interior_bi_nf_sf = time.time()-t0\n",
    "# print('number of iterations: {0} \\n time: {1}'.format(len(res_interior_bi_nf_sf), ts_interior_bi_nf_sf))\n",
    "\n",
    "# print('solver of bi-interior-electric near field sf')\n",
    "# t0 = time.time()\n",
    "# c_interior_electric_bi_nf_sf,  info_interior_electric_bi_nf_sf, res_interior_electric_bi_nf_sf  = gmres(op_interior_electric_bi_nf_sf, \n",
    "#                                                                                                         rhs_interior_electric_bi_nf_sf, \n",
    "#                                                                                                         tol=tolerance, restart=restart, \n",
    "#                                                                                                         return_residuals=True, maxiter=maxiter)\n",
    "# ts_interior_electric_bi_nf_sf = time.time()-t0\n",
    "# print('number of iterations: {0} \\n time: {1}'.format(len(res_interior_electric_bi_nf_sf), ts_interior_electric_bi_nf_sf))\n"
   ]
  },
  {
   "cell_type": "code",
   "execution_count": 26,
   "metadata": {},
   "outputs": [
    {
     "data": {
      "text/plain": [
       "[<matplotlib.lines.Line2D at 0x7efc80101be0>]"
      ]
     },
     "execution_count": 26,
     "metadata": {},
     "output_type": "execute_result"
    },
    {
     "data": {
      "image/png": "[encoded data removed]",
      "text/plain": [
       "<matplotlib.figure.Figure at 0x7eff18908940>"
      ]
     },
     "metadata": {},
     "output_type": "display_data"
    }
   ],
   "source": [
    "plt.semilogy(res_interior_electric_nu_sf)"
   ]
  },
  {
   "cell_type": "code",
   "execution_count": 27,
   "metadata": {},
   "outputs": [
    {
     "data": {
      "text/plain": [
       "9.9788953962613301e-06"
      ]
     },
     "execution_count": 27,
     "metadata": {},
     "output_type": "execute_result"
    }
   ],
   "source": [
    "res_interior_electric_nu_sf[-1]"
   ]
  },
  {
   "cell_type": "code",
   "execution_count": null,
   "metadata": {
    "collapsed": true
   },
   "outputs": [],
   "source": [
    "# mem_pre_nu_wf = get_memory(number_of_scatterers, PMCHWT_diag_nu_wf)\n",
    "# mem_interior_nu_wf = get_memory(number_of_scatterers, PMCHWT_interior_nu_wf)\n",
    "mem_interior_electric_nu_wf = get_memory(number_of_scatterers, PMCHWT_interior_electric_nu_wf)\n",
    "# mem_pre_bi_wf = get_memory(number_of_scatterers, PMCHWT_diag_mu_nf_wf)\n",
    "# mem_interior_bi_wf = get_memory(number_of_scatterers, PMCHWT_interior_mu_nf_wf)\n",
    "# mem_interior_electric_bi_wf = get_memory(number_of_scatterers, PMCHWT_interior_electric_mu_nf_wf)"
   ]
  },
  {
   "cell_type": "code",
   "execution_count": 28,
   "metadata": {},
   "outputs": [
    {
     "name": "stdout",
     "output_type": "stream",
     "text": [
      "ta_interior_electric_nu_sf = 243.91487407684326\n",
      "ts_interior_electric_nu_sf = 5868.213444709778\n",
      "mem_interior_electric_nu_wf = 15348663.921875\n",
      "iters_interior_electric_nu_sf = 3198\n"
     ]
    }
   ],
   "source": [
    "# print('ta_cald_nu_sf = {0}'.format(ta_cald_nu_sf))\n",
    "# print('ts_cald_nu_sf = {0}'.format(ts_cald_nu_sf))\n",
    "# print('mem_pre_nu_wf = {0}'.format(mem_pre_nu_wf))\n",
    "# print('iters_cald_nu_sf = {0}'.format(len(res_cald_nu_sf)))\n",
    "\n",
    "# print('ta_interior_nu_sf = {0}'.format(ta_interior_nu_sf))\n",
    "# print('ts_interior_nu_sf = {0}'.format(ts_interior_nu_sf))\n",
    "# print('mem_interior_nu_wf = {0}'.format(mem_interior_nu_wf))\n",
    "# print('iters_interior_nu_sf = {0}'.format(len(res_interior_nu_sf)))\n",
    "\n",
    "print('ta_interior_electric_nu_sf = {0}'.format(ta_interior_electric_nu_sf))\n",
    "print('ts_interior_electric_nu_sf = {0}'.format(ts_interior_electric_nu_sf))\n",
    "print('mem_interior_electric_nu_wf = {0}'.format(mem_interior_electric_nu_wf))\n",
    "print('iters_interior_electric_nu_sf = {0}'.format(len(res_interior_electric_nu_sf)))\n",
    "\n",
    "# print('ta_cald_bi_nf_sf = {0}'.format(ta_cald_bi_nf_sf))\n",
    "# print('ts_cald_bi_nf_sf = {0}'.format(ts_cald_bi_nf_sf))\n",
    "# print('mem_pre_bi_wf = {0}'.format(mem_pre_bi_wf))\n",
    "# print('iters_cald_bi_nf_sf = {0}'.format(len(res_cald_bi_nf_sf)))\n",
    "\n",
    "# print('ta_interior_bi_nf_sf = {0}'.format(ta_interior_bi_nf_sf))\n",
    "# print('ts_interior_bi_nf_sf = {0}'.format(ts_interior_bi_nf_sf))\n",
    "# print('mem_interior_bi_wf = {0}'.format(mem_interior_bi_wf))\n",
    "# print('iters_interior_bi_nf_sf = {0}'.format(len(res_interior_bi_nf_sf)))\n",
    "\n",
    "# print('ta_interior_electric_bi_nf_sf = {0}'.format(ta_interior_electric_bi_nf_sf))\n",
    "# print('ts_interior_electric_bi_nf_sf = {0}'.format(ts_interior_electric_bi_nf_sf))\n",
    "# print('mem_interior_electric_bi_wf = {0}'.format(mem_interior_electric_bi_wf))\n",
    "# print('iters_interior_electric_bi_nf_sf = {0}'.format(len(res_interior_electric_bi_nf_sf)))\n"
   ]
  },
  {
   "cell_type": "code",
   "execution_count": 18,
   "metadata": {},
   "outputs": [
    {
     "data": {
      "text/plain": [
       "2096.079815864563"
      ]
     },
     "execution_count": 18,
     "metadata": {},
     "output_type": "execute_result"
    }
   ],
   "source": [
    "ta_PMCHWT_nu_sf"
   ]
  },
  {
   "cell_type": "code",
   "execution_count": 17,
   "metadata": {},
   "outputs": [
    {
     "data": {
      "text/plain": [
       "218224784.0"
      ]
     },
     "execution_count": 17,
     "metadata": {},
     "output_type": "execute_result"
    }
   ],
   "source": [
    "get_memory(number_of_scatterers, PMCHWT_nu_wf)"
   ]
  },
  {
   "cell_type": "markdown",
   "metadata": {},
   "source": [
    "# Results for 50GHz"
   ]
  },
  {
   "cell_type": "code",
   "execution_count": 1,
   "metadata": {
    "collapsed": true
   },
   "outputs": [],
   "source": [
    "ta_PMCHWT_nu_sf = 9.30314326286316\n",
    "mem_PMCHWT_nu_wf = 279798.0\n",
    "\n",
    "ta_cald_nu_sf = 38.69108176231384\n",
    "ts_cald_nu_sf = 6.133894205093384\n",
    "mem_pre_nu_wf = 2484453.625\n",
    "iters_cald_nu_sf = 16\n",
    "\n",
    "ta_interior_nu_sf = 24.27958607673645\n",
    "ts_interior_nu_sf = 6.592127561569214\n",
    "mem_interior_nu_wf = 1251092.8125\n",
    "iters_interior_nu_sf = 28\n",
    "\n",
    "ta_interior_electric_nu_sf = 17.266040325164795\n",
    "ts_interior_electric_nu_sf = 15.44853138923645\n",
    "mem_interior_electric_nu_wf = 642616.40625\n",
    "iters_interior_electric_nu_sf = 89\n",
    "\n",
    "ta_cald_bi_nf_sf = 14.72873592376709\n",
    "ts_cald_bi_nf_sf = 31.291067838668823\n",
    "mem_pre_bi_wf = 609529.625\n",
    "iters_cald_bi_nf_sf = 95\n",
    "\n",
    "ta_interior_bi_nf_sf = 12.179664373397827\n",
    "ts_interior_bi_nf_sf = 10.738465547561646\n",
    "mem_interior_bi_wf = 304764.8125\n",
    "iters_interior_bi_nf_sf = 50\n",
    "\n",
    "ta_interior_electric_bi_nf_sf = 10.689980030059814\n",
    "ts_interior_electric_bi_nf_sf = 10.610501527786255\n",
    "mem_interior_electric_bi_wf = 152382.40625\n",
    "iters_interior_electric_bi_nf_sf = 66"
   ]
  },
  {
   "cell_type": "code",
   "execution_count": null,
   "metadata": {
    "collapsed": true
   },
   "outputs": [],
   "source": [
    "mem_pre_nu_wf/mem_PMCHWT_nu_wf"
   ]
  },
  {
   "cell_type": "code",
   "execution_count": 23,
   "metadata": {
    "collapsed": true
   },
   "outputs": [],
   "source": [
    "i=0\n",
    "ef = bempp.api.operators.boundary.maxwell.electric_field(rwg_space[i], rwg_space[i], snc_space[i], k_ext)\n",
    "ef_bc = bempp.api.operators.boundary.maxwell.electric_field(bc_space[i], bc_space[i], rbc_space[i], k_ext, use_projection_spaces=False)\n",
    "\n",
    "\n"
   ]
  },
  {
   "cell_type": "code",
   "execution_count": 15,
   "metadata": {},
   "outputs": [
    {
     "name": "stderr",
     "output_type": "stream",
     "text": [
      "09:54:20:Host dps32:Rank 0:root:INFO: EFIE. START ASSEMBLY. Dim: (378, 378). Assembly Type hmat\n",
      "09:54:20:Host dps32:Rank 0:root:INFO: EFIE. FINISHED ASSEMBLY. Time: 2.20E-01 sec. Mem Size (Mb) 2.32E+00. Compression: 1.07E+00.\n"
     ]
    }
   ],
   "source": [
    "ef_wf = ef.weak_form()"
   ]
  },
  {
   "cell_type": "code",
   "execution_count": 24,
   "metadata": {},
   "outputs": [
    {
     "name": "stderr",
     "output_type": "stream",
     "text": [
      "09:57:22:Host dps32:Rank 0:root:INFO: EFIE. START ASSEMBLY. Dim: (378, 378). Assembly Type hmat\n",
      "09:58:13:Host dps32:Rank 0:root:INFO: EFIE. FINISHED ASSEMBLY. Time: 5.07E+01 sec. Mem Size (Mb) 2.16E+00. Compression: 9.91E-01.\n"
     ]
    }
   ],
   "source": [
    "ef_bc_wf = ef_bc.weak_form()"
   ]
  },
  {
   "cell_type": "code",
   "execution_count": 25,
   "metadata": {},
   "outputs": [
    {
     "name": "stdout",
     "output_type": "stream",
     "text": [
      "2379.0\n"
     ]
    }
   ],
   "source": [
    "print(ef_wf.memory)"
   ]
  },
  {
   "cell_type": "code",
   "execution_count": 26,
   "metadata": {},
   "outputs": [
    {
     "name": "stdout",
     "output_type": "stream",
     "text": [
      "2213.0\n"
     ]
    }
   ],
   "source": [
    "print(ef_bc_wf.memory)"
   ]
  },
  {
   "cell_type": "code",
   "execution_count": 27,
   "metadata": {},
   "outputs": [
    {
     "name": "stdout",
     "output_type": "stream",
     "text": [
      "0.930222782681799\n"
     ]
    }
   ],
   "source": [
    "print(ef_bc_wf.memory/ef_wf.memory)"
   ]
  },
  {
   "cell_type": "markdown",
   "metadata": {},
   "source": [
    "# Results for 183GHz"
   ]
  },
  {
   "cell_type": "code",
   "execution_count": 1,
   "metadata": {
    "collapsed": true
   },
   "outputs": [],
   "source": [
    "ta_PMCHWT_nu_sf = 123.4242696762085\n",
    "mem_PMCHWT_nu_wf = 9273650.0\n",
    "\n",
    "ta_cald_nu_sf = 549.7623393535614\n",
    "ts_cald_nu_sf = 322.091721534729\n",
    "mem_pre_nu_wf = 53844795.6875\n",
    "iters_cald_nu_sf = 77\n",
    "\n",
    "ta_interior_nu_sf = 346.42875480651855\n",
    "ts_interior_nu_sf = 378.4247658252716\n",
    "mem_interior_nu_wf = 28212177.84375\n",
    "iters_interior_nu_sf = 148\n",
    "\n",
    "# ta_interior_electric_nu_sf = 252.7942190170288\n",
    "# ts_interior_electric_nu_sf = 687.7158274650574\n",
    "# mem_interior_electric_nu_wf = 15348663.921875\n",
    "# iters_interior_electric_nu_sf = 400\n",
    "\n",
    "#also tried S^i with maxiter = 5000 \n",
    "# ta_interior_electric_nu_sf = 243.91487407684326\n",
    "# ts_interior_electric_nu_sf = 5868.213444709778\n",
    "# mem_interior_electric_nu_wf = 15348663.921875\n",
    "# iters_interior_electric_nu_sf = 3198\n",
    "#\n",
    "\n",
    "ta_cald_bi_nf_sf = 200.34766960144043\n",
    "ts_cald_bi_nf_sf = 494.42973041534424\n",
    "mem_pre_bi_wf = 5801767.6875\n",
    "iters_cald_bi_nf_sf = 158\n",
    "\n",
    "ta_interior_bi_nf_sf = 161.2762999534607\n",
    "ts_interior_bi_nf_sf = 240.08003091812134\n",
    "mem_interior_bi_wf = 2900883.84375\n",
    "iters_interior_bi_nf_sf = 122\n",
    "\n",
    "ta_interior_electric_bi_nf_sf = 144.10506534576416\n",
    "ts_interior_electric_bi_nf_sf = 171.6575903892517\n",
    "mem_interior_electric_bi_wf = 1450441.921875\n",
    "iters_interior_electric_bi_nf_sf = 124"
   ]
  },
  {
   "cell_type": "markdown",
   "metadata": {},
   "source": [
    "# Results for 325GHz"
   ]
  },
  {
   "cell_type": "code",
   "execution_count": 1,
   "metadata": {
    "collapsed": true
   },
   "outputs": [],
   "source": [
    "# results for 325GHz\n",
    "ta_PMCHWT_nu_sf = 402.6476113796234\n",
    "mem_PMCHWT_nu_wf = 39269074.0\n",
    "\n",
    "ta_cald_nu_sf = 2010.1152694225311\n",
    "ts_cald_nu_sf = 3150.4270570278168\n",
    "mem_pre_nu_wf = 212827485.0625\n",
    "iters_cald_nu_sf = 181\n",
    "\n",
    "ta_interior_nu_sf = 1203.1498942375183\n",
    "ts_interior_nu_sf = 3731.326992034912\n",
    "mem_interior_nu_wf = 113038420.53125\n",
    "iters_interior_nu_sf = 368\n",
    "\n",
    "# ta_interior_electric_nu_sf = 829.8578546047211\n",
    "# ts_interior_electric_nu_sf = 5238.98911523819\n",
    "# mem_interior_electric_nu_wf = 63382028.265625\n",
    "# iters_interior_electric_nu_sf = 800 #reached maximum number of iterations\n",
    "\n",
    "# also tried S^i with maxiter = 2000\n",
    "ta_interior_electric_nu_sf = 855.5089135169983\n",
    "ts_interior_electric_nu_sf = 9592.018919706345\n",
    "mem_interior_electric_nu_wf = 63382028.265625\n",
    "iters_interior_electric_nu_sf = 1486\n",
    "\n",
    "\n",
    "ta_cald_bi_nf_sf = 675.0021326541901\n",
    "ts_cald_bi_nf_sf = 2071.830919265747\n",
    "mem_pre_bi_wf = 20063689.0625\n",
    "iters_cald_bi_nf_sf = 190\n",
    "\n",
    "ta_interior_bi_nf_sf = 543.0668017864227\n",
    "ts_interior_bi_nf_sf = 1446.9822089672089\n",
    "mem_interior_bi_wf = 10031844.53125\n",
    "iters_interior_bi_nf_sf = 215\n",
    "\n",
    "ta_interior_electric_bi_nf_sf = 474.5538191795349\n",
    "ts_interior_electric_bi_nf_sf = 1006.697327375412\n",
    "mem_interior_electric_bi_wf = 5015922.265625\n",
    "iters_interior_electric_bi_nf_sf = 214"
   ]
  },
  {
   "cell_type": "markdown",
   "metadata": {},
   "source": [
    "# Results for 664GHz"
   ]
  },
  {
   "cell_type": "code",
   "execution_count": 1,
   "metadata": {
    "collapsed": true
   },
   "outputs": [],
   "source": [
    "ta_PMCHWT_nu_sf = 2096.079815864563\n",
    "mem_PMCHWT_nu_wf = 218224784.0\n",
    "\n",
    "ta_interior_bi_nf_sf = 2953.759608268738\n",
    "ts_interior_bi_nf_sf = 5443.070297718048\n",
    "mem_interior_bi_wf = 37296451.640625\n",
    "iters_interior_bi_nf_sf = 167\n",
    "\n",
    "ta_interior_electric_bi_nf_sf = 2582.698178768158\n",
    "ts_interior_electric_bi_nf_sf = 3744.66814661026\n",
    "mem_interior_electric_bi_wf = 18648225.8203125\n",
    "iters_interior_electric_bi_nf_sf = 166"
   ]
  },
  {
   "cell_type": "code",
   "execution_count": 2,
   "metadata": {},
   "outputs": [
    {
     "name": "stdout",
     "output_type": "stream",
     "text": [
      "34.93466359774272\n",
      "43.04496964613597\n",
      "62.41113577683767\n"
     ]
    }
   ],
   "source": [
    "print(ta_PMCHWT_nu_sf/60)\n",
    "print(ta_interior_electric_bi_nf_sf/60)\n",
    "print(ts_interior_electric_bi_nf_sf/60)"
   ]
  },
  {
   "cell_type": "code",
   "execution_count": 3,
   "metadata": {},
   "outputs": [
    {
     "name": "stdout",
     "output_type": "stream",
     "text": [
      "11.702174035360489\n"
     ]
    }
   ],
   "source": [
    "print(mem_PMCHWT_nu_wf/mem_interior_electric_bi_wf)"
   ]
  },
  {
   "cell_type": "code",
   "execution_count": 4,
   "metadata": {},
   "outputs": [
    {
     "data": {
      "text/plain": [
       "9.3241125"
      ]
     },
     "execution_count": 4,
     "metadata": {},
     "output_type": "execute_result"
    }
   ],
   "source": [
    "18648225/2*10**(-6)"
   ]
  },
  {
   "cell_type": "code",
   "execution_count": 5,
   "metadata": {},
   "outputs": [
    {
     "data": {
      "text/plain": [
       "109.112392"
      ]
     },
     "execution_count": 5,
     "metadata": {},
     "output_type": "execute_result"
    }
   ],
   "source": [
    "218224784.0/2*10**(-6)"
   ]
  },
  {
   "cell_type": "markdown",
   "metadata": {},
   "source": [
    "# Comparing results"
   ]
  },
  {
   "cell_type": "code",
   "execution_count": null,
   "metadata": {
    "collapsed": true
   },
   "outputs": [],
   "source": []
  },
  {
   "cell_type": "code",
   "execution_count": 3,
   "metadata": {
    "collapsed": true
   },
   "outputs": [],
   "source": [
    "number_of_scatterers = 8\n",
    "tolerance = 1e-5\n",
    "restart = 200\n",
    "maxiter = 2000\n",
    "import numpy as np"
   ]
  },
  {
   "cell_type": "code",
   "execution_count": 5,
   "metadata": {},
   "outputs": [
    {
     "data": {
      "image/png": "[encoded data removed]",
      "text/plain": [
       "<matplotlib.figure.Figure at 0x7fe95c856080>"
      ]
     },
     "metadata": {},
     "output_type": "display_data"
    }
   ],
   "source": [
    "%matplotlib inline\n",
    "import matplotlib.pyplot as plt\n",
    "plt.rcParams.update({'font.size': 24})\n",
    "\n",
    "xtickslist = list([r'$\\mathbf{D}$', r'$\\mathbf{D}^i$', r'$\\mathbf{S}^i$', \n",
    "              r'$\\mathbf{D}_{bp}$', r'$\\mathbf{D}^i_{bp}$', r'$\\mathbf{S}^i_{bp}$'])\n",
    "\n",
    "x = [0,1,2,3,4,5]\n",
    "xx = [6]\n",
    "ta_op = [ta_PMCHWT_nu_sf/(ta_cald_nu_sf + ts_cald_nu_sf + ta_PMCHWT_nu_sf)]*6\n",
    "ta =  [ta_cald_nu_sf/(ta_cald_nu_sf + ts_cald_nu_sf + ta_PMCHWT_nu_sf), ta_interior_nu_sf/(ta_cald_nu_sf + ts_cald_nu_sf + ta_PMCHWT_nu_sf), \n",
    "       ta_interior_electric_nu_sf/(ta_cald_nu_sf + ts_cald_nu_sf + ta_PMCHWT_nu_sf), ta_cald_bi_nf_sf/(ta_cald_nu_sf + ts_cald_nu_sf + ta_PMCHWT_nu_sf), \n",
    "       ta_interior_bi_nf_sf/(ta_cald_nu_sf + ts_cald_nu_sf + ta_PMCHWT_nu_sf), ta_interior_electric_bi_nf_sf/(ta_cald_nu_sf + ts_cald_nu_sf + ta_PMCHWT_nu_sf)]\n",
    "ts = [ts_cald_nu_sf/(ta_cald_nu_sf + ts_cald_nu_sf + ta_PMCHWT_nu_sf), ts_interior_nu_sf/(ta_cald_nu_sf + ts_cald_nu_sf + ta_PMCHWT_nu_sf), \n",
    "      ts_interior_electric_nu_sf/(ta_cald_nu_sf + ts_cald_nu_sf + ta_PMCHWT_nu_sf), ts_cald_bi_nf_sf/(ta_cald_nu_sf + ts_cald_nu_sf + ta_PMCHWT_nu_sf), \n",
    "      ts_interior_bi_nf_sf/(ta_cald_nu_sf + ts_cald_nu_sf + ta_PMCHWT_nu_sf), ts_interior_electric_bi_nf_sf/(ta_cald_nu_sf + ts_cald_nu_sf + ta_PMCHWT_nu_sf)]\n",
    "mem =  [mem_pre_nu_wf/mem_pre_nu_wf, mem_interior_nu_wf/mem_pre_nu_wf, mem_interior_electric_nu_wf/mem_pre_nu_wf,\n",
    "        mem_pre_bi_wf/mem_pre_nu_wf, mem_interior_bi_wf/mem_pre_nu_wf, mem_interior_electric_bi_wf/mem_pre_nu_wf]\n",
    "iterations = [iters_cald_nu_sf, iters_interior_nu_sf, iters_interior_electric_nu_sf, \n",
    "              iters_cald_bi_nf_sf, iters_interior_bi_nf_sf, iters_interior_electric_bi_nf_sf]\n",
    "# matvecs = [4*number_of_scatterers*(number_of_scatterers + 3) * (iters_cald_nu_sf + np.floor(iters_cald_nu_sf/restart)) + 8 * number_of_scatterers,\n",
    "#            4*number_of_scatterers*(number_of_scatterers + 2) * (iters_interior_nu_sf + np.floor(iters_interior_nu_sf/restart)) + 4 * number_of_scatterers, \n",
    "#            2*number_of_scatterers*(2*number_of_scatterers + 3)* (iters_interior_electric_nu_sf + np.floor(iters_interior_electric_nu_sf/restart)) + 2 * number_of_scatterers, \n",
    "#            4*number_of_scatterers*(number_of_scatterers + 3) * (iters_cald_bi_nf_sf + np.floor(iters_cald_bi_nf_sf/restart)) + 8 * number_of_scatterers,\n",
    "#            4*number_of_scatterers*(number_of_scatterers + 2) * (iters_interior_bi_nf_sf + np.floor(iters_interior_bi_nf_sf/restart)) + 4 * number_of_scatterers, \n",
    "#            2*number_of_scatterers*(2*number_of_scatterers + 3)* (iters_interior_electric_bi_nf_sf + np.floor(iters_interior_electric_bi_nf_sf/restart)) + 2 * number_of_scatterers   \n",
    "#            ]\n",
    "\n",
    "fig, axs = plt.subplots(1,2,figsize = (20,6))\n",
    "plt.setp(axs, xticks=x, xticklabels=xtickslist)\n",
    "\n",
    "ta_A_bar = axs[0].bar(x, ta_op, label = r'assembly $\\mathbf{A}$', color = 'darkmagenta')\n",
    "ta_P_bar = axs[0].bar(x, ta, bottom = ta_op, label = r'assembly $\\mathbf{P}$', color = 'mediumpurple')\n",
    "ts_bar = axs[0].bar(x, ts, bottom = np.array(ta) + np.array(ta_op), label = 'solve', color = 'plum')\n",
    "axs[0].legend(fontsize = 18)\n",
    "axs[0].set_title('timings', fontsize = 18)\n",
    "axs[0].set_ylim([0,1.1])\n",
    "\n",
    "mem_bar2 = axs[1].bar(xx, [mem_PMCHWT_nu_wf/mem_pre_nu_wf], color = 'darkmagenta', label = r'mem($\\mathbf{A}$)')\n",
    "mem_bar = axs[1].bar(x, mem, color = 'mediumpurple', label = r'mem($\\mathbf{P}$)')\n",
    "axs[1].legend(fontsize = 18)\n",
    "axs[1].set_title('memory', fontsize = 20)\n",
    "axs[1].set_ylim([0,1.2])\n",
    "axs[1].set_yticks([])\n",
    "\n",
    "# axs[2].bar([i-0.2 for i in x],iterations, width = 0.4, label = 'iterations')\n",
    "# ax2 = axs[2].twinx()\n",
    "# ax2.bar([i+0.2 for i in x], matvecs, width = 0.4, color = 'orange', label = 'matvecs')\n",
    "# axs[2].legend(fontsize = 16, loc = 'upper left')\n",
    "# ax2.legend(fontsize = 16, loc = 'center left')\n",
    "# axs[2].set_ylabel('Iterations', fontsize = 20)\n",
    "# ax2.set_ylabel('matvecs', fontsize = 20)\n",
    "\n",
    "# for i in range(3):\n",
    "#     for tick in axs[i].get_xticklabels():\n",
    "#             tick.set_rotation(45)\n",
    "\n",
    "for rect in mem_bar:\n",
    "    height = rect.get_height()\n",
    "    axs[1].text(rect.get_x() + rect.get_width()/2.0, height, \"{:.0%}\".format(height), ha='center', va='bottom')\n",
    "    \n",
    "for rect in mem_bar2:\n",
    "    height = rect.get_height()\n",
    "    axs[1].text(rect.get_x() + rect.get_width()/2.0, height, \"{:.0%}\".format(height), ha='center', va='bottom')\n",
    "\n",
    "# plt.tight_layout()\n",
    "# fig.savefig('325GHz.png', format = 'png', dpi = 300)"
   ]
  },
  {
   "cell_type": "code",
   "execution_count": null,
   "metadata": {
    "collapsed": true
   },
   "outputs": [],
   "source": [
    "plt.semilogy(res_interior_electric_nu_sf)"
   ]
  },
  {
   "cell_type": "code",
   "execution_count": null,
   "metadata": {
    "collapsed": true
   },
   "outputs": [],
   "source": [
    "table = [ta, ts, mem, [int(i) for i in iterations], [int(i) for i in matvecs]]"
   ]
  },
  {
   "cell_type": "code",
   "execution_count": null,
   "metadata": {
    "collapsed": true
   },
   "outputs": [],
   "source": [
    "lines = list(['assembly time', 'solve time', 'mem', 'iterations', 'matvecs'])\n",
    "cols = xtickslist"
   ]
  },
  {
   "cell_type": "code",
   "execution_count": null,
   "metadata": {
    "collapsed": true
   },
   "outputs": [],
   "source": [
    "import pandas as pd\n",
    "pd.set_option('display.precision',10)\n",
    "pd.set_option('display.expand_frame_repr', False)\n",
    "pd.set_option('display.max_colwidth', 15)\n",
    "\n",
    "result = pd.DataFrame(table,index = lines,columns = cols)\n"
   ]
  },
  {
   "cell_type": "code",
   "execution_count": null,
   "metadata": {
    "collapsed": true
   },
   "outputs": [],
   "source": [
    "result"
   ]
  },
  {
   "cell_type": "markdown",
   "metadata": {},
   "source": [
    "# Extrapolating for 664GHz"
   ]
  },
  {
   "cell_type": "code",
   "execution_count": 1,
   "metadata": {
    "collapsed": true
   },
   "outputs": [],
   "source": [
    "M = [2556, 26418, 81318, 332523]\n",
    "N = [2556, 26418, 81318]"
   ]
  },
  {
   "cell_type": "code",
   "execution_count": 2,
   "metadata": {
    "collapsed": true
   },
   "outputs": [],
   "source": [
    "mem_pre_nu_wf = [2484453.625, 53844795.6875, 212827485.0625]\n",
    "mem_interior_nu_wf = [1251092.8125, 28212177.84375, 113038420.53125]\n",
    "mem_interior_electric_nu_wf = [642616.40625, 15348663.921875,63382028.265625]\n",
    "mem_pre_bi_wf = [609529.625, 5801767.6875,20063689.0625]\n",
    "mem_interior_bi_wf = [304764.8125, 2900883.84375,10031844.53125]\n",
    "mem_interior_electric_bi_wf = [152382.40625, 1450441.921875,5015922.265625]"
   ]
  },
  {
   "cell_type": "code",
   "execution_count": 65,
   "metadata": {
    "collapsed": true
   },
   "outputs": [],
   "source": [
    "iters_cald_nu_sf = [16, 77, 181]\n",
    "ta_cald_nu_sf = [38.69108176231384, 549.7623393535614, 2010.1152694225311]\n",
    "ts_cald_nu_sf = [6.133894205093384, 322.091721534729, 3150.4270570278168]\n",
    "\n",
    "ta_interior_nu_sf = [24.27958607673645, 346.42875480651855, 1203.1498942375183]\n",
    "ts_interior_nu_sf = [6.592127561569214, 378.4247658252716, 3731.326992034912]\n",
    "\n",
    "ta_interior_electric_nu_sf = [17.266040325164795, 252.7942190170288, 829.8578546047211]\n",
    "ts_interior_electric_nu_sf = [15.44853138923645, 687.7158274650574, 5238.98911523819]\n",
    "\n",
    "ta_cald_bi_nf_sf = [14.72873592376709, 200.34766960144043, 675.0021326541901]\n",
    "ts_cald_bi_nf_sf = [31.291067838668823, 494.42973041534424, 2071.830919265747]\n",
    "\n",
    "ta_interior_bi_nf_sf = [12.179664373397827, 161.2762999534607, 543.0668017864227]\n",
    "ts_interior_bi_nf_sf = [10.738465547561646, 240.08003091812134, 1446.9822089672089]\n",
    "\n",
    "ta_interior_electric_bi_nf_sf = [10.689980030059814, 144.10506534576416, 474.5538191795349]\n",
    "ts_interior_electric_bi_nf_sf = [10.610501527786255, 171.6575903892517, 1006.697327375412]"
   ]
  },
  {
   "cell_type": "code",
   "execution_count": 67,
   "metadata": {
    "collapsed": true
   },
   "outputs": [],
   "source": [
    "from scipy import optimize\n",
    "import numpy as np\n",
    "\n",
    "def test_func(x, A, alpha):\n",
    "    return np.log(A) + alpha*x + np.log(x)\n",
    "\n",
    "def gmres_approx(x, A): # x = N * iters **2\n",
    "    return A * x\n",
    "\n",
    "def gmres_iters_approx(x, A, alpha):\n",
    "    return np.log(A) + alpha * x"
   ]
  },
  {
   "cell_type": "code",
   "execution_count": 68,
   "metadata": {},
   "outputs": [
    {
     "name": "stderr",
     "output_type": "stream",
     "text": [
      "/home/antigoni/anaconda3/lib/python3.6/site-packages/ipykernel_launcher.py:11: RuntimeWarning: invalid value encountered in log\n",
      "  # This is added back by InteractiveShellApp.init_path()\n"
     ]
    }
   ],
   "source": [
    "params_iters_cald_nu, _ = optimize.curve_fit(gmres_iters_approx, np.log(N), np.log(iters_cald_nu_sf))"
   ]
  },
  {
   "cell_type": "code",
   "execution_count": 72,
   "metadata": {
    "collapsed": true
   },
   "outputs": [],
   "source": [
    "y_iters_cald_nu = params_iters_cald_nu[0] * M ** params_iters_cald_nu[1]"
   ]
  },
  {
   "cell_type": "code",
   "execution_count": 5,
   "metadata": {
    "collapsed": true
   },
   "outputs": [],
   "source": [
    "params_pre_nu, _ = optimize.curve_fit(test_func, np.log(N), np.log(mem_pre_nu_wf),p0=[1,1])\n",
    "params_interior_nu, _= optimize.curve_fit(test_func, np.log(N), np.log(mem_interior_nu_wf),p0=[1,1])\n",
    "params_interior_electric_nu, _ = optimize.curve_fit(test_func, np.log(N), np.log(mem_interior_electric_nu_wf),p0=[1,1])\n",
    "params_pre_bi, _ = optimize.curve_fit(test_func, np.log(N), np.log(mem_pre_bi_wf),p0=[1,1])\n",
    "params_interior_bi, _ = optimize.curve_fit(test_func, np.log(N), np.log(mem_interior_bi_wf),p0=[1,1])\n",
    "params_interior_electric_bi, _ = optimize.curve_fit(test_func, np.log(N), np.log(mem_interior_electric_bi_wf),p0=[1,1])"
   ]
  },
  {
   "cell_type": "code",
   "execution_count": 6,
   "metadata": {},
   "outputs": [
    {
     "name": "stderr",
     "output_type": "stream",
     "text": [
      "/home/antigoni/anaconda3/lib/python3.6/site-packages/ipykernel_launcher.py:5: RuntimeWarning: invalid value encountered in log\n",
      "  \"\"\"\n"
     ]
    }
   ],
   "source": [
    "params_ta_nu, _ = optimize.curve_fit(test_func, np.log(N), np.log(ta_cald_nu_sf),p0=[1,1])\n",
    "params_ta_interior_nu, _= optimize.curve_fit(test_func, np.log(N), np.log(ta_interior_nu_sf),p0=[1,1])\n",
    "params_ta_interior_electric_nu, _ = optimize.curve_fit(test_func, np.log(N), np.log(ta_interior_electric_nu_sf),p0=[1,1])\n",
    "params_ta_bi, _ = optimize.curve_fit(test_func, np.log(N), np.log(ta_cald_bi_nf_sf),p0=[1,1])\n",
    "params_ta_interior_bi, _ = optimize.curve_fit(test_func, np.log(N), np.log(ta_interior_bi_nf_sf),p0=[1,1])\n",
    "params_ta_interior_electric_bi, _ = optimize.curve_fit(test_func, np.log(N), np.log(ta_interior_electric_bi_nf_sf),p0=[1,1])"
   ]
  },
  {
   "cell_type": "code",
   "execution_count": 53,
   "metadata": {},
   "outputs": [
    {
     "name": "stderr",
     "output_type": "stream",
     "text": [
      "/home/antigoni/anaconda3/lib/python3.6/site-packages/ipykernel_launcher.py:5: RuntimeWarning: invalid value encountered in log\n",
      "  \"\"\"\n"
     ]
    }
   ],
   "source": [
    "params_ts_nu, _ = optimize.curve_fit(test_func, np.log(N), np.log(ts_cald_nu_sf),p0=[1,1])\n",
    "params_ts_interior_nu, _= optimize.curve_fit(test_func, np.log(N), np.log(ts_interior_nu_sf),p0=[1,1])\n",
    "params_ts_interior_electric_nu, _ = optimize.curve_fit(test_func, np.log(N), np.log(ts_interior_electric_nu_sf),p0=[1,1])\n",
    "params_ts_bi, _ = optimize.curve_fit(test_func, np.log(N), np.log(ts_cald_bi_nf_sf),p0=[1,1])\n",
    "params_ts_interior_bi, _ = optimize.curve_fit(test_func, np.log(N), np.log(ts_interior_bi_nf_sf),p0=[1,1])\n",
    "params_ts_interior_electric_bi, _ = optimize.curve_fit(test_func, np.log(N), np.log(ts_interior_electric_bi_nf_sf),p0=[1,1])"
   ]
  },
  {
   "cell_type": "code",
   "execution_count": 82,
   "metadata": {},
   "outputs": [
    {
     "name": "stderr",
     "output_type": "stream",
     "text": [
      "/home/antigoni/anaconda3/lib/python3.6/site-packages/ipykernel_launcher.py:8: RuntimeWarning: invalid value encountered in log\n",
      "  \n"
     ]
    },
    {
     "ename": "RuntimeError",
     "evalue": "Optimal parameters not found: Number of calls to function has reached maxfev = 600.",
     "output_type": "error",
     "traceback": [
      "\u001b[0;31m---------------------------------------------------------------------------\u001b[0m",
      "\u001b[0;31mRuntimeError\u001b[0m                              Traceback (most recent call last)",
      "\u001b[0;32m<ipython-input-82-22d24a7b1c86>\u001b[0m in \u001b[0;36m<module>\u001b[0;34m()\u001b[0m\n\u001b[0;32m----> 1\u001b[0;31m \u001b[0mparams_ts_nu\u001b[0m\u001b[0;34m,\u001b[0m \u001b[0m_\u001b[0m \u001b[0;34m=\u001b[0m \u001b[0moptimize\u001b[0m\u001b[0;34m.\u001b[0m\u001b[0mcurve_fit\u001b[0m\u001b[0;34m(\u001b[0m\u001b[0mgmres_approx\u001b[0m\u001b[0;34m,\u001b[0m \u001b[0mnp\u001b[0m\u001b[0;34m.\u001b[0m\u001b[0mlog\u001b[0m\u001b[0;34m(\u001b[0m\u001b[0mN\u001b[0m\u001b[0;34m)\u001b[0m \u001b[0;34m*\u001b[0m \u001b[0;34m(\u001b[0m\u001b[0mnp\u001b[0m\u001b[0;34m.\u001b[0m\u001b[0marray\u001b[0m\u001b[0;34m(\u001b[0m\u001b[0miters_cald_nu_sf\u001b[0m\u001b[0;34m)\u001b[0m\u001b[0;34m**\u001b[0m\u001b[0;36m2\u001b[0m\u001b[0;34m)\u001b[0m\u001b[0;34m,\u001b[0m \u001b[0mts_cald_nu_sf\u001b[0m\u001b[0;34m)\u001b[0m\u001b[0;34m\u001b[0m\u001b[0m\n\u001b[0m",
      "\u001b[0;32m~/anaconda3/lib/python3.6/site-packages/scipy/optimize/minpack.py\u001b[0m in \u001b[0;36mcurve_fit\u001b[0;34m(f, xdata, ydata, p0, sigma, absolute_sigma, check_finite, bounds, method, jac, **kwargs)\u001b[0m\n\u001b[1;32m    738\u001b[0m         \u001b[0mcost\u001b[0m \u001b[0;34m=\u001b[0m \u001b[0mnp\u001b[0m\u001b[0;34m.\u001b[0m\u001b[0msum\u001b[0m\u001b[0;34m(\u001b[0m\u001b[0minfodict\u001b[0m\u001b[0;34m[\u001b[0m\u001b[0;34m'fvec'\u001b[0m\u001b[0;34m]\u001b[0m \u001b[0;34m**\u001b[0m \u001b[0;36m2\u001b[0m\u001b[0;34m)\u001b[0m\u001b[0;34m\u001b[0m\u001b[0m\n\u001b[1;32m    739\u001b[0m         \u001b[0;32mif\u001b[0m \u001b[0mier\u001b[0m \u001b[0;32mnot\u001b[0m \u001b[0;32min\u001b[0m \u001b[0;34m[\u001b[0m\u001b[0;36m1\u001b[0m\u001b[0;34m,\u001b[0m \u001b[0;36m2\u001b[0m\u001b[0;34m,\u001b[0m \u001b[0;36m3\u001b[0m\u001b[0;34m,\u001b[0m \u001b[0;36m4\u001b[0m\u001b[0;34m]\u001b[0m\u001b[0;34m:\u001b[0m\u001b[0;34m\u001b[0m\u001b[0m\n\u001b[0;32m--> 740\u001b[0;31m             \u001b[0;32mraise\u001b[0m \u001b[0mRuntimeError\u001b[0m\u001b[0;34m(\u001b[0m\u001b[0;34m\"Optimal parameters not found: \"\u001b[0m \u001b[0;34m+\u001b[0m \u001b[0merrmsg\u001b[0m\u001b[0;34m)\u001b[0m\u001b[0;34m\u001b[0m\u001b[0m\n\u001b[0m\u001b[1;32m    741\u001b[0m     \u001b[0;32melse\u001b[0m\u001b[0;34m:\u001b[0m\u001b[0;34m\u001b[0m\u001b[0m\n\u001b[1;32m    742\u001b[0m         \u001b[0;31m# Rename maxfev (leastsq) to max_nfev (least_squares), if specified.\u001b[0m\u001b[0;34m\u001b[0m\u001b[0;34m\u001b[0m\u001b[0m\n",
      "\u001b[0;31mRuntimeError\u001b[0m: Optimal parameters not found: Number of calls to function has reached maxfev = 600."
     ]
    }
   ],
   "source": [
    "# params_ts_nu, _ = optimize.curve_fit(gmres_approx, np.log(N) * (np.array(iters_cald_nu_sf)**2), ts_cald_nu_sf)"
   ]
  },
  {
   "cell_type": "code",
   "execution_count": 81,
   "metadata": {},
   "outputs": [
    {
     "data": {
      "text/plain": [
       "array([   2008.62689677,   60367.89738778,  370399.88489815])"
      ]
     },
     "execution_count": 81,
     "metadata": {},
     "output_type": "execute_result"
    }
   ],
   "source": [
    "# np.log(N) * np.array(iters_cald_nu_sf)**2"
   ]
  },
  {
   "cell_type": "code",
   "execution_count": 8,
   "metadata": {
    "collapsed": true
   },
   "outputs": [],
   "source": [
    "y_nu = params_pre_nu[0] * (M**params_pre_nu[1]) * np.log(M)\n",
    "y_interior_nu = params_interior_nu[0] * (M**params_interior_nu[1]) * np.log(M)\n",
    "y_interior_electric_nu = params_interior_electric_nu[0] * (M**params_interior_electric_nu[1]) * np.log(M)\n",
    "y_bi = params_pre_bi[0] * (M**params_pre_bi[1]) * np.log(M)\n",
    "y_interior_bi = params_interior_bi[0] * (M**params_interior_bi[1]) * np.log(M)\n",
    "y_interior_electric_bi = params_interior_electric_bi[0] * (M**params_interior_electric_bi[1]) * np.log(M)"
   ]
  },
  {
   "cell_type": "code",
   "execution_count": 9,
   "metadata": {
    "collapsed": true
   },
   "outputs": [],
   "source": [
    "y_ta_nu = params_ta_nu[0] * (M**params_ta_nu[1]) * np.log(M)\n",
    "y_ta_interior_nu = params_ta_interior_nu[0] * (M**params_ta_interior_nu[1]) * np.log(M)\n",
    "y_ta_interior_electric_nu = params_ta_interior_electric_nu[0] * (M**params_ta_interior_electric_nu[1]) * np.log(M)\n",
    "y_ta_bi = params_ta_bi[0] * (M**params_ta_bi[1]) * np.log(M)\n",
    "y_ta_interior_bi = params_ta_interior_bi[0] * (M**params_ta_interior_bi[1]) * np.log(M)\n",
    "y_ta_interior_electric_bi = params_ta_interior_electric_bi[0] * (M**params_ta_interior_electric_bi[1]) * np.log(M)"
   ]
  },
  {
   "cell_type": "code",
   "execution_count": 54,
   "metadata": {
    "collapsed": true
   },
   "outputs": [],
   "source": [
    "y_ts_nu = params_ts_nu[0] * (M**params_ts_nu[1]) * np.log(M)\n",
    "y_ts_interior_nu = params_ts_interior_nu[0] * (M**params_ts_interior_nu[1]) * np.log(M)\n",
    "y_ts_interior_electric_nu = params_ts_interior_electric_nu[0] * (M**params_ts_interior_electric_nu[1]) * np.log(M)\n",
    "y_ts_bi = params_ts_bi[0] * (M**params_ts_bi[1]) * np.log(M)\n",
    "y_ts_interior_bi = params_ts_interior_bi[0] * (M**params_ts_interior_bi[1]) * np.log(M)\n",
    "y_ts_interior_electric_bi = params_ts_interior_electric_bi[0] * (M**params_ts_interior_electric_bi[1]) * np.log(M)"
   ]
  },
  {
   "cell_type": "code",
   "execution_count": 43,
   "metadata": {
    "collapsed": true
   },
   "outputs": [],
   "source": [
    "# y_ts_nu = params_ts_nu[0] * np.array(M) * 180**2"
   ]
  },
  {
   "cell_type": "markdown",
   "metadata": {},
   "source": [
    "### Error of extrapolation "
   ]
  },
  {
   "cell_type": "code",
   "execution_count": 57,
   "metadata": {},
   "outputs": [
    {
     "name": "stdout",
     "output_type": "stream",
     "text": [
      "0.0539036450797\n",
      "0.1859192618\n",
      "0.108729550397\n"
     ]
    }
   ],
   "source": [
    "for i in range(3):\n",
    "    print(np.abs(y_ts_nu[i]-ts_cald_nu_sf[i])/ts_cald_nu_sf[i])"
   ]
  },
  {
   "cell_type": "code",
   "execution_count": 58,
   "metadata": {},
   "outputs": [
    {
     "data": {
      "text/plain": [
       "array([  9.67209158e-02,   6.36624628e+00,   4.67980423e+01,\n",
       "         5.61599899e+02])"
      ]
     },
     "execution_count": 58,
     "metadata": {},
     "output_type": "execute_result"
    }
   ],
   "source": [
    "y_ts_nu/60"
   ]
  },
  {
   "cell_type": "code",
   "execution_count": 60,
   "metadata": {},
   "outputs": [
    {
     "data": {
      "text/plain": [
       "[6.133894205093384, 322.091721534729, 3150.4270570278168]"
      ]
     },
     "execution_count": 60,
     "metadata": {},
     "output_type": "execute_result"
    }
   ],
   "source": [
    "ts_cald_nu_sf"
   ]
  },
  {
   "cell_type": "code",
   "execution_count": 12,
   "metadata": {},
   "outputs": [
    {
     "data": {
      "text/plain": [
       "(array([-1000.,     0.,  1000.,  2000.,  3000.,  4000.,  5000.,  6000.]),\n",
       " <a list of 8 Text yticklabel objects>)"
      ]
     },
     "execution_count": 12,
     "metadata": {},
     "output_type": "execute_result"
    },
    {
     "data": {
      "image/png": "[encoded data removed]",
      "text/plain": [
       "<matplotlib.figure.Figure at 0x7f63453141d0>"
      ]
     },
     "metadata": {},
     "output_type": "display_data"
    }
   ],
   "source": [
    "%matplotlib inline\n",
    "import matplotlib.pyplot as plt\n",
    "\n",
    "plt.figure()\n",
    "plt.plot(M, y_ts_interior_electric_bi, 'x', label = 'fit')\n",
    "plt.plot(M, ts_interior_electric_bi_nf_sf + [3744.66814661026], 'D', label = 'data')\n",
    "plt.legend(fontsize = 14)\n",
    "plt.xticks(fontsize = 14)\n",
    "plt.yticks(fontsize = 14)"
   ]
  },
  {
   "cell_type": "code",
   "execution_count": 13,
   "metadata": {},
   "outputs": [
    {
     "data": {
      "text/plain": [
       "(array([ -500.,     0.,   500.,  1000.,  1500.,  2000.,  2500.,  3000.]),\n",
       " <a list of 8 Text yticklabel objects>)"
      ]
     },
     "execution_count": 13,
     "metadata": {},
     "output_type": "execute_result"
    },
    {
     "data": {
      "image/png": "[encoded data removed]",
      "text/plain": [
       "<matplotlib.figure.Figure at 0x7f63472ee128>"
      ]
     },
     "metadata": {},
     "output_type": "display_data"
    }
   ],
   "source": [
    "plt.figure()\n",
    "plt.plot(M, y_ta_interior_electric_bi, 'x', label = 'fit')\n",
    "plt.plot(M, ta_interior_electric_bi_nf_sf + [2582.698178768158], 'D', label = 'data')\n",
    "plt.legend(fontsize = 14)\n",
    "plt.xticks(fontsize = 14)\n",
    "plt.yticks(fontsize = 14)"
   ]
  },
  {
   "cell_type": "code",
   "execution_count": 14,
   "metadata": {},
   "outputs": [
    {
     "data": {
      "text/plain": [
       "0.01516491286123104"
      ]
     },
     "execution_count": 14,
     "metadata": {},
     "output_type": "execute_result"
    }
   ],
   "source": [
    "(y_interior_electric_bi[3] - 18648225.8203125)/y_interior_electric_bi[3]"
   ]
  },
  {
   "cell_type": "code",
   "execution_count": 15,
   "metadata": {},
   "outputs": [
    {
     "data": {
      "text/plain": [
       "-0.18240500925831249"
      ]
     },
     "execution_count": 15,
     "metadata": {},
     "output_type": "execute_result"
    }
   ],
   "source": [
    "(y_ta_interior_electric_bi[3] - 2582.698178768158)/y_ta_interior_electric_bi[3]"
   ]
  },
  {
   "cell_type": "code",
   "execution_count": 16,
   "metadata": {},
   "outputs": [
    {
     "data": {
      "text/plain": [
       "0.29475720194398458"
      ]
     },
     "execution_count": 16,
     "metadata": {},
     "output_type": "execute_result"
    }
   ],
   "source": [
    "(y_ts_interior_electric_bi[3] - 3744.66814661026)/y_ts_interior_electric_bi[3]"
   ]
  },
  {
   "cell_type": "code",
   "execution_count": 17,
   "metadata": {},
   "outputs": [
    {
     "data": {
      "image/png": "[encoded data removed]",
      "text/plain": [
       "<matplotlib.figure.Figure at 0x7f63452e6f28>"
      ]
     },
     "metadata": {},
     "output_type": "display_data"
    }
   ],
   "source": [
    "%matplotlib inline\n",
    "import matplotlib.pyplot as plt\n",
    "plt.rcParams.update({'font.size': 24})\n",
    "\n",
    "xtickslist = list([r'$\\mathcal{D}_\\nu$', r'$\\mathcal{A}^i_\\nu$', r'$\\mathcal{S}^i_\\nu$', \n",
    "              r'$\\mathcal{D}_\\mu^{nf}$', r'$(\\mathcal{A}^i)_\\mu^{nf}$', r'$(\\mathcal{S}^i)_\\mu^{nf}$'])\n",
    "\n",
    "x = [0,1,2,3,4,5]\n",
    "ta =  [y_ta_nu[3]/(y_ta_nu[3] + y_ts_nu[3]), \n",
    "       y_ta_interior_nu[3]/(y_ta_nu[3] + y_ts_nu[3]), \n",
    "       y_ta_interior_electric_nu[3]/(y_ta_nu[3] + y_ts_nu[3]), \n",
    "       y_ta_bi[3]/(y_ta_nu[3] + y_ts_nu[3]), \n",
    "       y_ta_interior_bi[3]/(y_ta_nu[3] + y_ts_nu[3]), \n",
    "       y_ta_interior_electric_bi[3]/(y_ta_nu[3] + y_ts_nu[3])]\n",
    "ts = [y_ts_nu[3]/(y_ta_nu[3] + y_ts_nu[3]), \n",
    "      y_ts_interior_nu[3]/(y_ta_nu[3] + y_ts_nu[3]), \n",
    "      y_ts_interior_electric_nu[3]/(y_ta_nu[3] + y_ts_nu[3]), \n",
    "      y_ts_bi[3]/(y_ta_nu[3] + y_ts_nu[3]), \n",
    "      y_ts_interior_bi[3]/(y_ta_nu[3] + y_ts_nu[3]), \n",
    "      y_ts_interior_electric_bi[3]/(y_ta_nu[3] + y_ts_nu[3])]\n",
    "mem =  [y_nu[3]/y_nu[3], y_interior_nu[3]/y_nu[3], y_interior_electric_nu[3]/y_nu[3],\n",
    "        y_bi[3]/y_nu[3], y_interior_bi[3]/y_nu[3], y_interior_electric_bi[3]/y_nu[3]]\n",
    "\n",
    "fig, axs = plt.subplots(1,2,figsize = (20,6))\n",
    "plt.setp(axs, xticks=x, xticklabels=xtickslist)\n",
    "\n",
    "axs[0].bar(x, ta, label = 'assembly')\n",
    "axs[0].bar(x, ts, bottom = ta, label = 'solve', color = 'orange')\n",
    "axs[0].legend(fontsize = 18)\n",
    "axs[0].set_title('timings', fontsize = 20)\n",
    "\n",
    "mem_bar = axs[1].bar(x, mem)\n",
    "axs[1].legend(fontsize = 20)\n",
    "axs[1].set_title(r'memory/memory($\\mathcal{D}_\\nu$)', fontsize = 20)\n",
    "axs[1].set_ylim([0,1.2])\n",
    "axs[1].set_yticks([])\n",
    "\n",
    "\n",
    "\n",
    "for rect in mem_bar:\n",
    "    height = rect.get_height()\n",
    "    axs[1].text(rect.get_x() + rect.get_width()/2.0, height, \"{:.0%}\".format(height), ha='center', va='bottom')\n",
    "\n",
    "# plt.tight_layout()"
   ]
  },
  {
   "cell_type": "code",
   "execution_count": 23,
   "metadata": {},
   "outputs": [
    {
     "data": {
      "text/plain": [
       "0.17312356848746527"
      ]
     },
     "execution_count": 23,
     "metadata": {},
     "output_type": "execute_result"
    }
   ],
   "source": [
    "y_ta_interior_electric_bi[3]/(y_ta_nu[3] + y_ts_nu[3]) + y_ts_interior_electric_bi[3]/(y_ta_nu[3] + y_ts_nu[3])"
   ]
  },
  {
   "cell_type": "code",
   "execution_count": 22,
   "metadata": {},
   "outputs": [
    {
     "data": {
      "text/plain": [
       "0.12266348061392629"
      ]
     },
     "execution_count": 22,
     "metadata": {},
     "output_type": "execute_result"
    }
   ],
   "source": [
    "y_ts_interior_electric_bi[3]/(y_ta_nu[3] + y_ts_nu[3])"
   ]
  },
  {
   "cell_type": "code",
   "execution_count": 21,
   "metadata": {},
   "outputs": [
    {
     "data": {
      "text/plain": [
       "0.014552998385411983"
      ]
     },
     "execution_count": 21,
     "metadata": {},
     "output_type": "execute_result"
    }
   ],
   "source": [
    "y_interior_electric_bi[3]/y_nu[3]"
   ]
  },
  {
   "cell_type": "code",
   "execution_count": 51,
   "metadata": {},
   "outputs": [
    {
     "data": {
      "text/plain": [
       "9591.1958997011479"
      ]
     },
     "execution_count": 51,
     "metadata": {},
     "output_type": "execute_result"
    }
   ],
   "source": [
    "y_ta_nu[3]"
   ]
  },
  {
   "cell_type": "code",
   "execution_count": 63,
   "metadata": {},
   "outputs": [
    {
     "data": {
      "text/plain": [
       "array([ 0.47519226,  0.36217375,  0.28703401])"
      ]
     },
     "execution_count": 63,
     "metadata": {},
     "output_type": "execute_result"
    }
   ],
   "source": [
    "(np.array(ta_interior_electric_bi_nf_sf) + np.array(ts_interior_electric_bi_nf_sf))/(np.array(ta_cald_nu_sf) + np.array(ts_cald_nu_sf))"
   ]
  },
  {
   "cell_type": "markdown",
   "metadata": {},
   "source": [
    "# Plot solution"
   ]
  },
  {
   "cell_type": "markdown",
   "metadata": {},
   "source": [
    "Saving solution on the boundary for later use"
   ]
  },
  {
   "cell_type": "code",
   "execution_count": null,
   "metadata": {
    "collapsed": true
   },
   "outputs": [],
   "source": [
    "scattered_field = number_of_scatterers * [None]\n",
    "\n",
    "counter1 = 0\n",
    "counter2 = 0\n",
    "counter3 = 0\n",
    "for i in range(number_of_scatterers):\n",
    "    counter1 = counter3\n",
    "    counter2 = counter3 + rwg_space[i].global_dof_count\n",
    "    counter3 += 2*rwg_space[i].global_dof_count\n",
    "    \n",
    "#     print(counter1, counter2, counter3)\n",
    "    scattered_field[i] = [c_interior_electric_bi_nf_sf[counter1 : counter2 ], \n",
    "                         c_interior_electric_bi_nf_sf[counter2 : counter3]]\n",
    "    np.savetxt('8aggregate_664GHz/1cm/results/scattered_hex' + str(i) + '_Dirichlet.txt', scattered_field[i][0])\n",
    "    np.savetxt('8aggregate_664GHz/1cm/results/scattered_hex' + str(i) + '_Neumann.txt', scattered_field[i][1])"
   ]
  },
  {
   "cell_type": "code",
   "execution_count": null,
   "metadata": {
    "collapsed": true
   },
   "outputs": [],
   "source": [
    "interior_trace_data = number_of_scatterers * [None]\n",
    "\n",
    "for i in range(number_of_scatterers):\n",
    "#     print(i)\n",
    "    interior_trace_data[i] = [incident_field_RWG[i][0:rwg_space[i].global_dof_count] + scattered_field[i][0],\n",
    "                              (mu_int[i]/k_int[i]) *(incident_field_RWG[i][rwg_space[i].global_dof_count:] + scattered_field[i][1])]\n",
    "    np.savetxt('8aggregate_664GHz/1cm/results/interior_hex' + str(i) + '_Dirichlet.txt', interior_trace_data[i][0])\n",
    "    np.savetxt('8aggregate_664GHz/1cm/results/interior_hex' + str(i) + '_Neumann.txt', interior_trace_data[i][1])"
   ]
  },
  {
   "cell_type": "markdown",
   "metadata": {},
   "source": [
    "loading solution from the boundary"
   ]
  },
  {
   "cell_type": "code",
   "execution_count": null,
   "metadata": {
    "collapsed": true
   },
   "outputs": [],
   "source": [
    "scattered_field = number_of_scatterers * [None]\n",
    "\n",
    "for i in range(number_of_scatterers):\n",
    "    scattered_field[i] = [np.loadtxt('8aggregate_325GHz/1cm/results/scattered_hex' + str(i) + '_Dirichlet.txt', \n",
    "                                     dtype=complex, converters={0: lambda s: complex(s.decode().replace('+-', '-'))}),\n",
    "                          np.loadtxt('8aggregate_325GHz/1cm/results/scattered_hex' + str(i) + '_Neumann.txt', \n",
    "                                     dtype=complex, converters={0: lambda s: complex(s.decode().replace('+-', '-'))})\n",
    "                         ]"
   ]
  },
  {
   "cell_type": "code",
   "execution_count": null,
   "metadata": {
    "collapsed": true
   },
   "outputs": [],
   "source": [
    "interior_trace_data = number_of_scatterers * [None]\n",
    "\n",
    "for i in range(number_of_scatterers):\n",
    "    interior_trace_data[i] = [np.loadtxt('8aggregate_325GHz/1cm/results/interior_hex' + str(i) + '_Dirichlet.txt', \n",
    "                                     dtype=complex, converters={0: lambda s: complex(s.decode().replace('+-', '-'))}),\n",
    "                          np.loadtxt('8aggregate_325GHz/1cm/results/interior_hex' + str(i) + '_Neumann.txt', \n",
    "                                     dtype=complex, converters={0: lambda s: complex(s.decode().replace('+-', '-'))})\n",
    "                         ]"
   ]
  },
  {
   "cell_type": "code",
   "execution_count": null,
   "metadata": {
    "collapsed": true
   },
   "outputs": [],
   "source": [
    "def normal_vector(v1,v2,v3):\n",
    "    dir1 = v1 - v2\n",
    "    dir2 = v3 - v2\n",
    "    normal = -np.cross(dir1, dir2)\n",
    "    size = np.linalg.norm(normal)\n",
    "    return normal/size"
   ]
  },
  {
   "cell_type": "code",
   "execution_count": null,
   "metadata": {
    "collapsed": true
   },
   "outputs": [],
   "source": [
    "def IsInConvexPoly(normal_of_plane, point_on_plane, point):\n",
    "    p2f = point_on_plane - point \n",
    "    d = np.dot(normal_of_plane, p2f)  \n",
    "    d = d/np.linalg.norm(d)\n",
    "    \n",
    "    if d<-1E-15:\n",
    "        return 1 # returns 1 if point is outside the polyhedron\n",
    "    else:\n",
    "        return 0 # returns 0 if point is inside the polyhedron"
   ]
  },
  {
   "cell_type": "code",
   "execution_count": 5,
   "metadata": {},
   "outputs": [],
   "source": [
    "# 700 points for 50GHz 1cm\n",
    "# 500 points for 183GHz 1cm\n",
    "# 220 points for 325GHz 1cm\n",
    "# Number of points in the x-direction\n",
    "nx = 220\n",
    "\n",
    "# Number of points in the y-direction\n",
    "nz = 220\n",
    "\n",
    "# Generate the evaluation points with numpy\n",
    "shrink_parameter = 4 # original particle at 4cm, divide accordingly to achieve smaller particles\n",
    "# xmin, xmax, zmin, zmax = [-2, 4.5, -2, 3] # for 1cm particle\n",
    "# xmin, xmax, zmin, zmax = [-2*4, 4.5*4, -2*4, 3*4] # for 4cm particle\n",
    "\n",
    "xmin, xmax, zmin, zmax = [-8/shrink_parameter, 18/shrink_parameter, -9/shrink_parameter, 12/shrink_parameter] \n",
    "plot_grid = np.mgrid[xmin:xmax:nx * 1j, 0:0:1j, zmin:zmax:nz * 1j]\n",
    "#define plane of observation\n",
    "c = 4/shrink_parameter \n",
    "#c = -0.1\n",
    "points = np.vstack((plot_grid[0].ravel(), c * np.ones(plot_grid[0].size),    plot_grid[2].ravel()))\n",
    "\n",
    "\n",
    "# Compute interior and exterior indices\n",
    "all_indices = np.ones(points.shape[1], dtype='uint32')\n",
    "index_sets = number_of_scatterers * [None]"
   ]
  },
  {
   "cell_type": "code",
   "execution_count": null,
   "metadata": {
    "collapsed": true
   },
   "outputs": [],
   "source": [
    "def convert(s):\n",
    "    try:\n",
    "        return float(s)\n",
    "    except ValueError:\n",
    "        num, denom = s.split('/')\n",
    "        return float(num) / float(denom)"
   ]
  },
  {
   "cell_type": "code",
   "execution_count": null,
   "metadata": {
    "collapsed": true
   },
   "outputs": [],
   "source": [
    "for i in range(number_of_scatterers):\n",
    "    all_indices_per_scatterer = np.ones(points.shape[1], dtype='uint32')\n",
    "    print(\"Scatterer: \", i)\n",
    "    coords = np.zeros((12,3))\n",
    "    f = open('8aggregate_50GHz/1cm/hex' + str(i) + '.txt','r') # reading coordinates of polygons making the polyhedron\n",
    "    x = f.read().splitlines()\n",
    "    f.close()\n",
    "    \n",
    "    j = 0\n",
    "    for c in x:\n",
    "        coords[j,:] = c.split(',')[0:3]\n",
    "        j += 1\n",
    "#     coords = coords/shrink_parameter\n",
    "#     if shrink_parameter == 1:\n",
    "#         if i ==4:\n",
    "#             coords[:,0] = coords[:,0] #+ 0.7\n",
    "#             coords[:,2] = coords[:,2] #+ 0.3\n",
    "    #create the 8 surfaces of the polyhedron\n",
    "    surface0 = [coords[0], coords[5], coords[4], coords[3], coords[2], coords[1]]\n",
    "    surface1 = [coords[6], coords[7], coords[4], coords[5]]\n",
    "    surface2 = [coords[7], coords[8], coords[3], coords[4]]\n",
    "    surface3 = [coords[8], coords[9], coords[2], coords[3]]\n",
    "    surface4 = [coords[9], coords[10], coords[1], coords[2]]\n",
    "    surface5 = [coords[10], coords[11], coords[0], coords[1]]\n",
    "    surface6 = [coords[11], coords[6], coords[5], coords[0]]\n",
    "    surface7 = [coords[6], coords[11], coords[10], coords[9], coords[8], coords[7]]\n",
    "    \n",
    "    surfaces = [surface0, surface1, surface2, surface3, surface4, surface5, surface6, surface7]\n",
    "    \n",
    "    interior_index = np.arange(points.shape[1], dtype='uint32')\n",
    "    for counter in range(points.shape[1]):\n",
    "        p = points[:,counter]\n",
    "        results = []\n",
    "        for s in surfaces:\n",
    "            n = normal_vector(s[0], s[1], s[2])\n",
    "            d = np.dot(n, s[0])\n",
    "            new_point = (s[0] + s[2])/2\n",
    "            if IsInConvexPoly(n,new_point, p) == 0: #i.e. if point is inside the polyhedron\n",
    "                results.append(0)\n",
    "#                 print(\"inside\")\n",
    "#         print(len(results))\n",
    "        if len(results) == 8:\n",
    "            all_indices_per_scatterer[counter] = 0\n",
    "      \n",
    "    \n",
    "    found_indices = np.arange(points.shape[1], dtype='uint32')[all_indices_per_scatterer == 0]\n",
    "    all_indices[found_indices] = 0\n",
    "    index_sets[i] = found_indices\n",
    "ext_indices = np.arange(points.shape[1], dtype='uint32')[all_indices == 1]\n",
    "int_indices = np.arange(points.shape[1], dtype='uint32')[all_indices == 0]\n",
    "# ext_indices = np.arange(points.shape[1], dtype='uint32')"
   ]
  },
  {
   "cell_type": "code",
   "execution_count": null,
   "metadata": {
    "collapsed": true
   },
   "outputs": [],
   "source": [
    "%matplotlib inline\n",
    "import matplotlib.pyplot as plt\n",
    "\n",
    "ext_points = points[:, ext_indices]\n",
    "\n",
    "plt.scatter(ext_points[0], ext_points[2])"
   ]
  },
  {
   "cell_type": "code",
   "execution_count": null,
   "metadata": {
    "collapsed": true,
    "scrolled": false
   },
   "outputs": [],
   "source": [
    "for i in range(number_of_scatterers):\n",
    "    int_points = points[:, index_sets[i]]\n",
    "\n",
    "    plt.figure()\n",
    "    plt.scatter(int_points[0], int_points[2])"
   ]
  },
  {
   "cell_type": "code",
   "execution_count": null,
   "metadata": {
    "collapsed": true
   },
   "outputs": [],
   "source": [
    "# bempp.api.global_parameters.quadrature.far.single_order = 6\n",
    "# bempp.api.global_parameters.quadrature.far.double_order = 4"
   ]
  },
  {
   "cell_type": "code",
   "execution_count": null,
   "metadata": {
    "collapsed": true,
    "scrolled": true
   },
   "outputs": [],
   "source": [
    "bempp.api.global_parameters.assembly.potential_operator_assembly_type = 'dense'\n",
    "exterior_values = np.zeros((3, len(ext_indices)), dtype='complex128')\n",
    "interior_values = number_of_scatterers * [None]\n",
    "\n",
    "for i in range(number_of_scatterers):\n",
    "    print(i)\n",
    "    int_points = points[:, index_sets[i]]\n",
    "    \n",
    "    if int_points.shape[1] != 0:\n",
    "        epot_int = bempp.api.operators.potential.maxwell.electric_field(rwg_space[i], int_points, k_int[i])\n",
    "        mpot_int = bempp.api.operators.potential.maxwell.magnetic_field(rwg_space[i], int_points, k_int[i])\n",
    "        epot_ext = bempp.api.operators.potential.maxwell.electric_field(rwg_space[i], ext_points, k_ext)\n",
    "        mpot_ext = bempp.api.operators.potential.maxwell.magnetic_field(rwg_space[i], ext_points, k_ext)\n",
    "\n",
    "        sc_N = bempp.api.GridFunction(rwg_space[i], coefficients = scattered_field[i][1])\n",
    "        sc_D = bempp.api.GridFunction(rwg_space[i], coefficients = scattered_field[i][0])\n",
    "\n",
    "        int_N = bempp.api.GridFunction(rwg_space[i], coefficients = interior_trace_data[i][1])\n",
    "        int_D = bempp.api.GridFunction(rwg_space[i], coefficients = interior_trace_data[i][0])\n",
    "\n",
    "        exterior_values += -epot_ext * (mu_ext/k_ext * sc_N) - mpot_ext * sc_D  \n",
    "        interior_values[i] = (epot_int * int_N + mpot_int * int_D)\n",
    "    else:\n",
    "        epot_ext = bempp.api.operators.potential.maxwell.electric_field(rwg_space[i], ext_points, k_ext)\n",
    "        mpot_ext = bempp.api.operators.potential.maxwell.magnetic_field(rwg_space[i], ext_points, k_ext)\n",
    "\n",
    "        sc_N = bempp.api.GridFunction(rwg_space[i], coefficients = scattered_field[i][1])\n",
    "        sc_D = bempp.api.GridFunction(rwg_space[i], coefficients = scattered_field[i][0])\n",
    "        \n",
    "        exterior_values += -epot_ext * (mu_ext/k_ext * sc_N) - mpot_ext * sc_D  "
   ]
  },
  {
   "cell_type": "code",
   "execution_count": null,
   "metadata": {
    "collapsed": true
   },
   "outputs": [],
   "source": [
    "%matplotlib inline\n",
    "from matplotlib import pyplot as plt\n",
    "from mpl_toolkits.axes_grid1 import make_axes_locatable\n",
    "\n",
    "params = {'legend.fontsize': 22,\n",
    "         'axes.labelsize': 22,\n",
    "         'axes.titlesize':22,\n",
    "         'xtick.labelsize':22,\n",
    "         'ytick.labelsize':22}\n",
    "plt.rcParams.update(params)\n",
    "\n",
    "# First compute the scattered field\n",
    "scattered_field = np.empty((3, points.shape[1]), dtype='complex128')\n",
    "scattered_field[:, :] = np.nan\n",
    "scattered_field[:, ext_indices] = exterior_values\n",
    "\n",
    "# Now compute the total field\n",
    "total_field = np.empty((3, points.shape[1]), dtype='complex128')\n",
    "\n",
    "for i in range(exterior_values.shape[1]):\n",
    "    total_field[:, ext_indices[i]] = scattered_field[:, ext_indices[i]] + plane_wave(points[:, ext_indices[i]])\n",
    "    \n",
    "for i in range(number_of_scatterers):\n",
    "    # Add interior contributions\n",
    "    total_field[:, index_sets[i]] = interior_values[i]\n",
    "    \n",
    "# Compute the squared field density\n",
    "squared_scattered_field = np.sum(np.abs(scattered_field)**2, axis=0)\n",
    "squared_total_field = np.sum(np.abs(total_field)**2, axis=0)\n",
    "\n",
    "# Show the resulting images\n",
    "scattered_image = squared_scattered_field.reshape(nx, nz).T\n",
    "total_image = squared_total_field.reshape(nx, nz).T\n",
    "\n"
   ]
  },
  {
   "cell_type": "code",
   "execution_count": null,
   "metadata": {
    "collapsed": true
   },
   "outputs": [],
   "source": [
    "# np.savetxt('8aggregate_325GHz/1cm/results/total_image.txt', total_image)"
   ]
  },
  {
   "cell_type": "code",
   "execution_count": null,
   "metadata": {
    "collapsed": true
   },
   "outputs": [],
   "source": [
    "# a = np.loadtxt('8aggregate_325GHz/1cm/results/total_image.txt')"
   ]
  },
  {
   "cell_type": "code",
   "execution_count": null,
   "metadata": {
    "collapsed": true
   },
   "outputs": [],
   "source": [
    "# total_image[total_image > 15] = 10"
   ]
  },
  {
   "cell_type": "code",
   "execution_count": null,
   "metadata": {
    "collapsed": true,
    "scrolled": false
   },
   "outputs": [],
   "source": [
    "fig = plt.figure(figsize =(8, 8))\n",
    "ax = plt.gca()\n",
    "ax.set_title(\"$|E|^2$\")\n",
    "\n",
    "im = plt.imshow(a, origin = 'lower',extent=[xmin, xmax, zmin, zmax] ,clim = (0,6), cmap = 'magma')\n",
    "# im = plt.imshow(total_image, origin = 'lower',clim = (0,8))\n",
    "\n",
    "\n",
    "plt.xlabel('$x$')\n",
    "plt.ylabel('$z$',rotation=0)\n",
    "divider = make_axes_locatable(ax)\n",
    "cax = divider.append_axes(\"right\", size = \"5%\", pad = 0.05)\n",
    "plt.colorbar(im, cax = cax)"
   ]
  },
  {
   "cell_type": "code",
   "execution_count": null,
   "metadata": {
    "collapsed": true
   },
   "outputs": [],
   "source": []
  }
 ],
 "metadata": {
  "kernelspec": {
   "display_name": "Python 3",
   "language": "python",
   "name": "python3"
  },
  "language_info": {
   "codemirror_mode": {
    "name": "ipython",
    "version": 3
   },
   "file_extension": ".py",
   "mimetype": "text/x-python",
   "name": "python",
   "nbconvert_exporter": "python",
   "pygments_lexer": "ipython3",
   "version": "3.5.2"
  }
 },
 "nbformat": 4,
 "nbformat_minor": 2
}
