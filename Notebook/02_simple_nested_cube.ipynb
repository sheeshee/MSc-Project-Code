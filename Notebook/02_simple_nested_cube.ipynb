{
 "cells": [
  {
   "cell_type": "markdown",
   "metadata": {},
   "source": [
    "# Application 2: a simple nested cube with various preconditioners"
   ]
  },
  {
   "cell_type": "code",
   "execution_count": 1,
   "metadata": {},
   "outputs": [
    {
     "name": "stdout",
     "output_type": "stream",
     "text": [
      "3.3.5\n"
     ]
    }
   ],
   "source": [
    "import bempp.api\n",
    "print(bempp.api.__version__)"
   ]
  },
  {
   "cell_type": "code",
   "execution_count": 44,
   "metadata": {},
   "outputs": [],
   "source": [
    "KI = 1\n",
    "KE = 1\n",
    "KW = 1\n",
    "MU = 1\n",
    "\n",
    "ELEMENT_SIZE = 0.5\n",
    "\n",
    "LENGTH_CAVITY = 1\n",
    "LENGTH_WALL = 2\n",
    "\n",
    "DOMAIN_OP = \"RWG\"\n",
    "RANGE_OP  = \"RWG\" # Use RWG as a dummy variable when \n",
    "                  #   not using BEMPP's built-in strong form\n",
    "                  # Use BC when using built in assemblers\n",
    "                  #   (but is slower/more expensive)\n",
    "DTR_OP    = \"SNC\"\n",
    "\n",
    "DOMAIN_M  = \"BC\"\n",
    "RANGE_M   = \"BC\"  # Same as above\n",
    "DTR_M     = \"B-SNC\"\n",
    "\n",
    "DOMAIN_P  = \"BC\"\n",
    "RANGE_P   = \"BC\" # Same as above\n",
    "DTR_P     = \"RBC\"\n",
    "\n",
    "DOMAIN_MP  = \"B-RWG\"\n",
    "RANGE_MP   = \"B-RWG\" # Same as above\n",
    "DTR_MP     = \"RBC\"\n",
    "\n",
    "\n",
    "# The type of space. Currently, the following types\n",
    "# are supported:\n",
    "#     \"P\" : Continuous and piecewise polynomial functions.\n",
    "#     \"DP\" : Discontinuous and elementwise polynomial functions.\n",
    "#     \"RT\": Raviart-Thomas Vector spaces.\n",
    "#     \"RWG\": RWG Vector spaces.\n",
    "#     \"NC\": Nedelec Vector spaces.\n",
    "#     \"SNC\": Scaled Nedelec Vector spaces. The Nedelec basis functions\n",
    "#            are scaled with the edge length so that they are identical\n",
    "#            to RWG functions crossed with the element normals.\n",
    "\n",
    "#     \"B-P\": Polynomial spaces on barycentric grids.\n",
    "#     \"B-DP\": Polynomial discontinuous spaces on barycentric grids.\n",
    "#     \"B-RT\": Raviart-Thomas Vector spaces on barycentric grids.\n",
    "#     \"B-RWG\": RWG Vector spaces on barycentric grids.\n",
    "#     \"B-NC\": Nedelec Vector spaces on barycentric grids.\n",
    "#     \"B-SNC\": Scaled Nedelec Vector spaces on barycentric grids.\n",
    "\n",
    "#     \"DUAL\": Dual space on dual grid (only implemented for constants).\n",
    "#     \"BC\": Buffa-Christian Vector space.\n",
    "#     \"RBC\": Rotated Buffa-Christian Vector space of curl-conforming\n",
    "#            functions."
   ]
  },
  {
   "cell_type": "code",
   "execution_count": 45,
   "metadata": {},
   "outputs": [],
   "source": [
    "import time\n",
    "from collections import namedtuple\n",
    "import numpy as np\n",
    "import bempp.api\n",
    "\n",
    "from bempp.api import shapes\n",
    "from bempp.api import function_space, assembly\n",
    "from bempp.api.operators.boundary import maxwell\n",
    "from bempp.api.operators.potential import maxwell as maxwell_potential\n",
    "\n",
    "\n",
    "from bempp.core.common.global_parameters import global_parameters # Interface to define global_parameters for operators\n",
    "\n",
    "bempp.api.set_ipython_notebook_viewer()"
   ]
  },
  {
   "cell_type": "markdown",
   "metadata": {},
   "source": [
    "# Create Grid"
   ]
  },
  {
   "cell_type": "code",
   "execution_count": 46,
   "metadata": {},
   "outputs": [],
   "source": [
    "methods = [\n",
    "    DOMAIN_OP, \n",
    "    RANGE_OP, \n",
    "    DTR_OP,    \n",
    "    DOMAIN_M, \n",
    "    RANGE_M  ,\n",
    "    DTR_M     ,\n",
    "    DOMAIN_P  ,\n",
    "    RANGE_P, \n",
    "    DTR_P, \n",
    "]\n",
    "\n",
    "def discretize(grid, *methods_list):\n",
    "    \"\"\"\n",
    "    Returns a named tuple containing the discretised boundaries of the\n",
    "    given grid according to the method specified.\n",
    "    \"\"\"\n",
    "    space = {}\n",
    "    methods = list(set(methods_list))\n",
    "    assert len(methods) > 0, \"You must provide disretisation methods.\"\n",
    "    for method_key in methods:\n",
    "        method = method_key.split(\".\")[0]\n",
    "        space[method_key] = function_space(grid, method, 0)\n",
    "    return space\n",
    "\n",
    "\n",
    "small_cube = discretize(\n",
    "    shapes.cube(\n",
    "            length=LENGTH_CAVITY, h=ELEMENT_SIZE,\n",
    "            origin=(-LENGTH_CAVITY/2, -LENGTH_CAVITY/2, -LENGTH_CAVITY/2)\n",
    "        ),\n",
    "    *methods\n",
    ")\n",
    "\n",
    "\n",
    "large_cube = discretize(\n",
    "    shapes.cube(\n",
    "        length=LENGTH_WALL, h=ELEMENT_SIZE,\n",
    "        origin=(-LENGTH_WALL/2, -LENGTH_WALL/2, -LENGTH_WALL/2)\n",
    "    ),\n",
    "    *methods\n",
    ")"
   ]
  },
  {
   "cell_type": "markdown",
   "metadata": {},
   "source": [
    "# Build the Operator (manually)"
   ]
  },
  {
   "cell_type": "code",
   "execution_count": 47,
   "metadata": {},
   "outputs": [],
   "source": [
    "def to_block_op(mfie, efie, k, mu):\n",
    "    \"\"\"\n",
    "    Build the standard block operator from the given integral equations.\n",
    "    \"\"\"\n",
    "    A = assembly.BlockedOperator(2, 2) # empty operator object\n",
    "    A[0,0] = mfie\n",
    "    A[0,1] = mu/k * efie\n",
    "    A[1,0] = -k/mu * efie\n",
    "    A[1,1] = mfie\n",
    "    return A\n",
    "\n",
    "\n",
    "def get_simple_block_op(space, k, mu, domain, range_, dtr):\n",
    "    \"\"\"\n",
    "    Return a 2x2 block operator defining the block matrix that would\n",
    "    act on the given grid.\n",
    "    \n",
    "    This is similar to the `multitrace_operator` constructor, but it\n",
    "    allows us to specify exactly which boundary disretisation functions\n",
    "    to use.\n",
    "    \"\"\"\n",
    "    efie = maxwell.electric_field(\n",
    "        space[domain], space[range_], space[dtr], k,\n",
    "    )\n",
    "    mfie = maxwell.magnetic_field(\n",
    "        space[domain], space[range_], space[dtr], k,\n",
    "    )\n",
    "    A = to_block_op(mfie, efie, k, mu)\n",
    "    return A\n",
    "\n",
    "\n",
    "def get_mixed_block_op(target, source, k, mu, domain, range_, dtr):\n",
    "    \"\"\"\n",
    "    Return a 2x2 block operator that defines the interferences on\n",
    "    `grid_a` by `grid_b`.\n",
    "    \"\"\"\n",
    "    efie = maxwell.electric_field(\n",
    "        source[domain], target[range_], target[dtr], k\n",
    "    )\n",
    "    mfie = maxwell.magnetic_field(\n",
    "        source[domain], target[range_], target[dtr], k\n",
    "    )    \n",
    "    A = to_block_op(mfie, efie, k, mu)\n",
    "    return A\n",
    "    \n",
    "\n",
    "def assign_inplace_subblock(A, a, i, j):\n",
    "    \"\"\"\n",
    "    Assigns the 4 elements of a to the 2x2 block of A\n",
    "    specified by the indexes i and j.\n",
    "    \"\"\"\n",
    "    bi = 2*i\n",
    "    bj = 2*j\n",
    "    A[bi, bj]     = a[0, 0]\n",
    "    A[bi, bj+1]   = a[0, 1]\n",
    "    A[bi+1, bj]   = a[1, 0]\n",
    "    A[bi+1, bj+1] = a[1, 1]\n",
    "    \n",
    "\n",
    "def manual_build_PMCHWT_operator(\n",
    "        small_cube, large_cube, k_int, k_wal, k_ext, mu, parameters,\n",
    "        domain, range_, dtr\n",
    "    ):\n",
    "    \"\"\"Vector = namedtuple('Vector', ['neumann', 'dirichlet'])\n",
    "    Build the operator for the nested shape problem formulation.\n",
    "    \"\"\"\n",
    "    # small cube\n",
    "    A1_1 = get_simple_block_op(small_cube, k_int, mu, domain, range_, dtr)\n",
    "    Aw_1 = get_simple_block_op(small_cube, k_wal, mu, domain, range_, dtr)\n",
    "    # large cube\n",
    "    Aw_w = get_simple_block_op(large_cube, k_wal, mu, domain, range_, dtr)\n",
    "    Ae_w = get_simple_block_op(large_cube, k_ext, mu, domain, range_, dtr)\n",
    "    # mixed (target, source, k)\n",
    "    Aw_1w = get_mixed_block_op(small_cube, large_cube, k_wal, mu, domain, range_, dtr)\n",
    "    Aw_w1 = get_mixed_block_op(large_cube, small_cube, k_wal, mu, domain, range_, dtr)\n",
    "   \n",
    "    # assemble the blocks\n",
    "    A = assembly.BlockedOperator(2 * 2, 2 * 2)\n",
    "    assign_inplace_subblock(A, -(Aw_1 + A1_1), 0, 0)\n",
    "    assign_inplace_subblock(A,   Aw_1w,        0, 1)\n",
    "    assign_inplace_subblock(A, - Aw_w1,        1, 0)\n",
    "    assign_inplace_subblock(A,   Aw_w + Ae_w,  1, 1)\n",
    "    \n",
    "    return A\n",
    "\n",
    "    \n",
    "A1 = manual_build_PMCHWT_operator(\n",
    "    small_cube, large_cube,\n",
    "    KI, KW, KE, MU, None,\n",
    "    DOMAIN_OP, RANGE_OP, DTR_OP\n",
    ")"
   ]
  },
  {
   "cell_type": "markdown",
   "metadata": {},
   "source": [
    "# Build the Operator (built-in constructors)"
   ]
  },
  {
   "cell_type": "code",
   "execution_count": 48,
   "metadata": {},
   "outputs": [],
   "source": [
    "def bempp_build_PMCHWT_operator(\n",
    "        small_cube, large_cube, k_int, k_wal, k_ext, mu, parameters,\n",
    "    ):\n",
    "    small_grid = small_cube[DOMAIN_OP].grid\n",
    "    large_grid = large_cube[DOMAIN_OP].grid\n",
    "    \n",
    "    # small cube\n",
    "    A1_1 = maxwell.multitrace_operator(small_grid, k_int)\n",
    "    Aw_1 = maxwell.multitrace_operator(small_grid, k_wal)\n",
    "    # large cube\n",
    "    Aw_w = maxwell.multitrace_operator(large_grid, k_wal)\n",
    "    Ae_w = maxwell.multitrace_operator(large_grid, k_ext)\n",
    "    # mixed (target, source, k)\n",
    "#     Aw_1w = get_mixed_block_op(small_cube, large_cube, k_wal, mu)\n",
    "    Aw_1w = maxwell.multitrace_operator(large_grid, k_wal, target=small_grid) \n",
    "#     Aw_w1 = get_mixed_block_op(large_cube, small_cube, k_wal, mu)\n",
    "    Aw_w1 = maxwell.multitrace_operator(small_grid, k_wal, target=large_grid) \n",
    "   \n",
    "    # assemble the blocks\n",
    "    A = assembly.BlockedOperator(2 * 2, 2 * 2)\n",
    "    assign_inplace_subblock(A, -(Aw_1 + A1_1), 0, 0)\n",
    "    assign_inplace_subblock(A,   Aw_1w,        0, 1)\n",
    "    assign_inplace_subblock(A, - Aw_w1,        1, 0)\n",
    "    assign_inplace_subblock(A,   Aw_w + Ae_w,  1, 1)\n",
    "    \n",
    "    return A\n",
    "\n",
    "\n",
    "A2 = bempp_build_PMCHWT_operator(\n",
    "    small_cube, large_cube,\n",
    "    KI, KW, KE, MU, None,\n",
    ")"
   ]
  },
  {
   "cell_type": "code",
   "execution_count": 49,
   "metadata": {},
   "outputs": [
    {
     "name": "stdout",
     "output_type": "stream",
     "text": [
      "126\n",
      "126\n",
      "390\n",
      "390\n"
     ]
    }
   ],
   "source": [
    "for space in A2.domain_spaces:\n",
    "    print(space.global_dof_count)"
   ]
  },
  {
   "cell_type": "code",
   "execution_count": 50,
   "metadata": {},
   "outputs": [
    {
     "data": {
      "text/plain": [
       "(<bempp.api.space.space.BarycentricRWGSpace at 0x7fa1845171d0>,\n",
       " <bempp.api.space.space.BuffaChristiansenSpace at 0x7fa18454e668>,\n",
       " <bempp.api.space.space.BarycentricRWGSpace at 0x7fa1844f9048>,\n",
       " <bempp.api.space.space.BuffaChristiansenSpace at 0x7fa1844f92e8>)"
      ]
     },
     "execution_count": 50,
     "metadata": {},
     "output_type": "execute_result"
    }
   ],
   "source": [
    "A2.domain_spaces"
   ]
  },
  {
   "cell_type": "code",
   "execution_count": 51,
   "metadata": {},
   "outputs": [
    {
     "data": {
      "text/plain": [
       "(<bempp.api.space.space.BarycentricRWGSpace at 0x7fa184517f28>,\n",
       " <bempp.api.space.space.BuffaChristiansenSpace at 0x7fa184516208>,\n",
       " <bempp.api.space.space.BarycentricRWGSpace at 0x7fa1844f9048>,\n",
       " <bempp.api.space.space.BuffaChristiansenSpace at 0x7fa1844f92e8>)"
      ]
     },
     "execution_count": 51,
     "metadata": {},
     "output_type": "execute_result"
    }
   ],
   "source": [
    "A2.range_spaces"
   ]
  },
  {
   "cell_type": "code",
   "execution_count": 52,
   "metadata": {},
   "outputs": [
    {
     "data": {
      "text/plain": [
       "(<bempp.api.space.space.RotatedBuffaChristiansenSpace at 0x7fa1845163c8>,\n",
       " <bempp.api.space.space.BarycentricSNCSpace at 0x7fa184516828>,\n",
       " <bempp.api.space.space.RotatedBuffaChristiansenSpace at 0x7fa1844f94a8>,\n",
       " <bempp.api.space.space.BarycentricSNCSpace at 0x7fa1844f9908>)"
      ]
     },
     "execution_count": 52,
     "metadata": {},
     "output_type": "execute_result"
    }
   ],
   "source": [
    "A2.dual_to_range_spaces"
   ]
  },
  {
   "cell_type": "code",
   "execution_count": null,
   "metadata": {},
   "outputs": [],
   "source": []
  },
  {
   "cell_type": "markdown",
   "metadata": {},
   "source": [
    "# Build Inverse of Mass Matrix"
   ]
  },
  {
   "cell_type": "code",
   "execution_count": 53,
   "metadata": {},
   "outputs": [],
   "source": [
    "M = np.empty((2 * 2, 2 * 2), dtype='O')\n",
    "\n",
    "small_I = bempp.api.operators.boundary.sparse.identity(\n",
    "    # this can make the kernel crash if not set correctly\n",
    "#         DOMAIN, RANGE, DUAL_TO_RANGE\n",
    "    small_cube[DOMAIN_M], small_cube[RANGE_M], small_cube[DTR_M] # function spaces\n",
    ")\n",
    "large_I = bempp.api.operators.boundary.sparse.identity(\n",
    "    # this can make the kernel crash if not set correctly\n",
    "    large_cube[DOMAIN_M], large_cube[RANGE_M], large_cube[DTR_M] # function spaces\n",
    ")\n",
    "inv_small_I = assembly.InverseSparseDiscreteBoundaryOperator(small_I.weak_form())\n",
    "inv_large_I = assembly.InverseSparseDiscreteBoundaryOperator(large_I.weak_form())\n",
    "\n",
    "M[0, 0] = inv_small_I\n",
    "M[1, 1] = inv_small_I\n",
    "M[2, 2] = inv_large_I\n",
    "M[3, 3] = inv_large_I\n",
    "\n",
    "M = bempp.api.assembly.BlockedDiscreteOperator(M)"
   ]
  },
  {
   "cell_type": "markdown",
   "metadata": {},
   "source": [
    "# Build Preconditioner"
   ]
  },
  {
   "cell_type": "code",
   "execution_count": 54,
   "metadata": {},
   "outputs": [],
   "source": [
    "def build_diagonal(\n",
    "        small_cube, large_cube,\n",
    "        k_int, k_wal, k_ext, mu, parameters,\n",
    "        domain, range_, dtr\n",
    "        \n",
    "    ):\n",
    "    \"\"\"\n",
    "    Assemble the operator which is equivalent to the diagonal of A\n",
    "    \"\"\"\n",
    "    # small cube\n",
    "    A1_1 = get_simple_block_op(small_cube, k_int, mu, domain, range_, dtr)\n",
    "    Aw_1 = get_simple_block_op(small_cube, k_wal, mu, domain, range_, dtr)\n",
    "    # large cube\n",
    "    Aw_w = get_simple_block_op(large_cube, k_wal, mu, domain, range_, dtr)\n",
    "    Ae_w = get_simple_block_op(large_cube, k_ext, mu, domain, range_, dtr)\n",
    "   \n",
    "    # assemble the blocks\n",
    "    D = assembly.BlockedOperator(2 * 2, 2 * 2)\n",
    "    assign_inplace_subblock(D, -(Aw_1 + A1_1), 0, 0)\n",
    "\n",
    "    assign_inplace_subblock(D,   Aw_w + Ae_w,  1, 1)\n",
    "    \n",
    "    return D\n",
    "\n",
    "\n",
    "D = build_diagonal(\n",
    "    small_cube, large_cube,\n",
    "    KI, KW, KE, MU, None,\n",
    "    DOMAIN_P, RANGE_P, DTR_P\n",
    ")"
   ]
  },
  {
   "cell_type": "markdown",
   "metadata": {},
   "source": [
    "# Discretize the incident field"
   ]
  },
  {
   "cell_type": "code",
   "execution_count": 55,
   "metadata": {},
   "outputs": [],
   "source": [
    "def incident_field(x):\n",
    "    return np.array([0. * x[2], 0. * x[2], np.exp(1j * KE * x[0])])\n",
    "\n",
    "\n",
    "def dirichlet_trace_fun(x, n, domain_index, result):\n",
    "    result[:] = np.cross(incident_field(x), n)\n",
    "\n",
    "    \n",
    "def curl(incident_field,x):\n",
    "    return np.array([0,  - 1j * KE * np.exp(1j * KE * x[0]), 0])\n",
    "\n",
    "\n",
    "def neumann_trace_fun(x, n, domain_index, result):\n",
    "    result[:] = (1/(1j * KE)) * np.cross(curl(incident_field,x), n)\n",
    "\n",
    "# for large cube\n",
    "Dtrace_inc = bempp.api.GridFunction(\n",
    "    large_cube[DOMAIN_OP],\n",
    "#     large_cube[DUAL_TO_RANGE],\n",
    "    fun=dirichlet_trace_fun\n",
    ")\n",
    "Ntrace_inc = (KE/MU) * bempp.api.GridFunction(\n",
    "    large_cube[DOMAIN_OP],\n",
    "#     large_cube[DUAL_TO_RANGE],\n",
    "    fun=neumann_trace_fun\n",
    ")\n",
    "# combine\n",
    "Vector = namedtuple('Vector', ['dirichlet', 'neumann'])\n",
    "u_inc = Vector(\n",
    "    Dtrace_inc.coefficients.tolist(),\n",
    "    Ntrace_inc.coefficients.tolist()\n",
    ")"
   ]
  },
  {
   "cell_type": "markdown",
   "metadata": {},
   "source": [
    "# Assemble RHS (numerical form)"
   ]
  },
  {
   "cell_type": "code",
   "execution_count": 56,
   "metadata": {},
   "outputs": [],
   "source": [
    "def get_identity_op(space, domain, range_, dtr):\n",
    "    \"\"\"\n",
    "    Shortcut to the sparse identity operator.\n",
    "    \"\"\"\n",
    "    return bempp.api.operators.boundary.sparse.identity(\n",
    "        # this can make the kernel crash if not set correctly\n",
    "        space[domain], space[range_], space[dtr]\n",
    "    )\n",
    "    \n",
    "    \n",
    "def manually_get_block_identity_op(space, domain, range_, dtr):\n",
    "    \"\"\"\n",
    "    Create an identity operator matching the given space.\n",
    "    \"\"\"\n",
    "    i = get_identity_op(space, domain, range_, dtr)\n",
    "    I = assembly.BlockedOperator(2, 2)\n",
    "    I[0, 0] = i;\n",
    "    I[1, 1] = i\n",
    "    return I\n",
    "    \n",
    "\n",
    "Aw_1w = get_mixed_block_op(\n",
    "    small_cube, large_cube,\n",
    "    KW, MU,\n",
    "    DOMAIN_OP, RANGE_OP, DTR_OP\n",
    ")\n",
    "\n",
    "\n",
    "Aw_w  = get_simple_block_op(\n",
    "    large_cube, KW, MU,\n",
    "    DOMAIN_OP, RANGE_OP, DTR_OP                       \n",
    ")\n",
    "\n",
    "I = manually_get_block_identity_op(\n",
    "    large_cube, DOMAIN_OP, RANGE_OP, DTR_OP)\n",
    "\n",
    "\n",
    "def flatten(vector):\n",
    "    return np.array(vector[0] + vector[1])\n",
    "\n",
    "pre = [\n",
    "    - Aw_1w.weak_form() * flatten(u_inc),\n",
    "    - (Aw_w.weak_form() - 1/2 * I.weak_form()) * flatten(u_inc)\n",
    "]\n",
    "# flatten list of lists\n",
    "\n",
    "\n",
    "b1 = [y for x in pre for y in x]"
   ]
  },
  {
   "cell_type": "markdown",
   "metadata": {},
   "source": [
    "# Assemble RHS (bempp constructs)"
   ]
  },
  {
   "cell_type": "code",
   "execution_count": 57,
   "metadata": {},
   "outputs": [],
   "source": [
    "I = bempp.api.operators.boundary.sparse.multitrace_identity(\n",
    "        large_cube[DOMAIN_OP].grid, spaces='maxwell')\n",
    "\n",
    "Aw_w = maxwell.multitrace_operator(large_cube[DOMAIN_OP].grid, KW)\n",
    "\n",
    "Aw_1w = maxwell.multitrace_operator(\n",
    "    large_cube[DOMAIN_OP].grid, KW, target=small_cube[DOMAIN_OP].grid) \n",
    "\n",
    "b2 = [\n",
    "    - Aw_1w * [Dtrace_inc, Ntrace_inc],\n",
    "    - (Aw_w - 1/2 * I) * [Dtrace_inc, Ntrace_inc]\n",
    "]\n",
    "\n",
    "b2 = [b2[0][0], b2[0][1], b2[1][0], b2[1][1]]"
   ]
  },
  {
   "cell_type": "markdown",
   "metadata": {},
   "source": [
    "# Solve the Linear System (manually constructed)"
   ]
  },
  {
   "cell_type": "code",
   "execution_count": 58,
   "metadata": {},
   "outputs": [],
   "source": [
    "options = dict(\n",
    "    restart=500,\n",
    "    maxiter=500,\n",
    "    return_residuals=True\n",
    ")"
   ]
  },
  {
   "cell_type": "markdown",
   "metadata": {},
   "source": [
    "## Setup operators"
   ]
  },
  {
   "cell_type": "code",
   "execution_count": 60,
   "metadata": {},
   "outputs": [],
   "source": [
    "from antigoni.login import gmres\n",
    "\n",
    "Operator = namedtuple('Operator', ['name', 'lhs', 'rhs'])\n",
    "Result = namedtuple('Result', ['x', 'info', 'residuals'])\n",
    "\n",
    "operators = [\n",
    "    Operator(\n",
    "       'man-none',  # Name \n",
    "        A1.weak_form(), # LHS\n",
    "        b1 # RHS\n",
    "    ),\n",
    "    Operator(\n",
    "       'man-M',\n",
    "        M * A1.weak_form(),\n",
    "        M * b1\n",
    "    ),\n",
    "#     Operator(\n",
    "#         'bempp-none',\n",
    "#         A2.weak_form(),\n",
    "#         b2\n",
    "#     ),\n",
    "#     Operator(\n",
    "#         'bempp-M',\n",
    "#         M * A2.weak_form(),\n",
    "#         M * b2\n",
    "#     )\n",
    "#     Operator(\n",
    "#         'A',\n",
    "#         A.weak_form() * M * A.weak_form(),\n",
    "#         A.weak_form() * M * f\n",
    "#     ),\n",
    "#     Operator(\n",
    "#         'D',\n",
    "#         D.weak_form() * M * A.weak_form(),\n",
    "#         D.weak_form() * M * f\n",
    "#     ),\n",
    "]"
   ]
  },
  {
   "cell_type": "code",
   "execution_count": 61,
   "metadata": {},
   "outputs": [],
   "source": [
    "results = {\n",
    "    op.name: Result(\n",
    "        *gmres(\n",
    "            op.lhs, op.rhs,\n",
    "            **options\n",
    "        )\n",
    "    )\n",
    "    for op in operators\n",
    "} "
   ]
  },
  {
   "cell_type": "markdown",
   "metadata": {},
   "source": [
    "# Solve the System (bempp constructors)"
   ]
  },
  {
   "cell_type": "code",
   "execution_count": 62,
   "metadata": {},
   "outputs": [],
   "source": [
    "# Strong Form\n",
    "x, info, residuals = bempp.api.linalg.gmres(\n",
    "    A2, b2,\n",
    "    use_strong_form=True,\n",
    "    **options\n",
    ")\n",
    "\n",
    "x = np.hstack([c.coefficients for c in x])\n",
    "results['Built-In Strong'] = Result(x, info, residuals)"
   ]
  },
  {
   "cell_type": "code",
   "execution_count": 63,
   "metadata": {},
   "outputs": [],
   "source": [
    "x, info, residuals = bempp.api.linalg.gmres(\n",
    "    A2, b2,\n",
    "    use_strong_form=False,\n",
    "    **options\n",
    ")\n",
    "\n",
    "x = np.hstack([c.coefficients for c in x])\n",
    "results['Built-In Weak'] = Result(x, info, residuals)"
   ]
  },
  {
   "cell_type": "code",
   "execution_count": 64,
   "metadata": {},
   "outputs": [
    {
     "data": {
      "text/plain": [
       "(<bempp.api.space.space.BarycentricRWGSpace at 0x7fa1845171d0>,\n",
       " <bempp.api.space.space.BuffaChristiansenSpace at 0x7fa18454e668>,\n",
       " <bempp.api.space.space.BarycentricRWGSpace at 0x7fa1844f9048>,\n",
       " <bempp.api.space.space.BuffaChristiansenSpace at 0x7fa1844f92e8>)"
      ]
     },
     "execution_count": 64,
     "metadata": {},
     "output_type": "execute_result"
    }
   ],
   "source": [
    "A2.domain_spaces"
   ]
  },
  {
   "cell_type": "code",
   "execution_count": 65,
   "metadata": {},
   "outputs": [
    {
     "data": {
      "text/plain": [
       "(<bempp.api.space.space.BarycentricRWGSpace at 0x7fa184517f28>,\n",
       " <bempp.api.space.space.BuffaChristiansenSpace at 0x7fa184516208>,\n",
       " <bempp.api.space.space.BarycentricRWGSpace at 0x7fa1844f9048>,\n",
       " <bempp.api.space.space.BuffaChristiansenSpace at 0x7fa1844f92e8>)"
      ]
     },
     "execution_count": 65,
     "metadata": {},
     "output_type": "execute_result"
    }
   ],
   "source": [
    "A2.range_spaces"
   ]
  },
  {
   "cell_type": "markdown",
   "metadata": {},
   "source": [
    "# Plot Convergence"
   ]
  },
  {
   "cell_type": "code",
   "execution_count": 66,
   "metadata": {},
   "outputs": [],
   "source": [
    "import matplotlib.pyplot as plt"
   ]
  },
  {
   "cell_type": "code",
   "execution_count": 67,
   "metadata": {},
   "outputs": [
    {
     "data": {
      "image/png": "[encoded data removed]",
      "text/plain": [
       "<matplotlib.figure.Figure at 0x7fa1842b68d0>"
      ]
     },
     "metadata": {},
     "output_type": "display_data"
    }
   ],
   "source": [
    "for name, result in results.items():\n",
    "    plt.semilogy(result.residuals, label=name)\n",
    "plt.legend()\n",
    "fig = plt.gcf()\n",
    "fig.set_size_inches(8, 6)\n",
    "# fig.dpi = 100"
   ]
  },
  {
   "cell_type": "markdown",
   "metadata": {},
   "source": [
    "# Plot Field"
   ]
  },
  {
   "cell_type": "code",
   "execution_count": 28,
   "metadata": {},
   "outputs": [
    {
     "name": "stdout",
     "output_type": "stream",
     "text": [
      "2916 + 9184 + 36300 = 48400\n",
      "Built-In Strong\n"
     ]
    },
    {
     "data": {
      "image/png": "[encoded data removed]",
      "text/plain": [
       "<matplotlib.figure.Figure at 0x7fa1845cee10>"
      ]
     },
     "metadata": {},
     "output_type": "display_data"
    },
    {
     "data": {
      "image/png": "[encoded data removed]",
      "text/plain": [
       "<matplotlib.figure.Figure at 0x7fa1845ded68>"
      ]
     },
     "metadata": {},
     "output_type": "display_data"
    }
   ],
   "source": [
    "def plot_field(PRECON_TYPE, results):\n",
    "    x = results[PRECON_TYPE].x\n",
    "    # Split between different domains in vector\n",
    "    u_cavity = Vector(\n",
    "        dirichlet=x[:small_cube[DOMAIN_OP].flat_local_dof_count//2],\n",
    "        neumann=x[small_cube[DOMAIN_OP].flat_local_dof_count//2:small_cube[DOMAIN_OP].flat_local_dof_count]\n",
    "    )\n",
    "\n",
    "    split_point = small_cube[DOMAIN_OP].flat_local_dof_count\n",
    "\n",
    "    u_scattered = Vector(\n",
    "        dirichlet=x[split_point:split_point+large_cube[DOMAIN_OP].flat_local_dof_count//2],\n",
    "        neumann=x[split_point+large_cube[DOMAIN_OP].flat_local_dof_count//2:]\n",
    "    )\n",
    "\n",
    "    # Check\n",
    "    def assert_lengths_match(a, b):\n",
    "        \"\"\"\n",
    "        Raise Error if lengths of a and b do not match.\n",
    "        \"\"\"\n",
    "        if isinstance(a, int):\n",
    "            va = a\n",
    "        else:\n",
    "            va = len(a)\n",
    "\n",
    "        if isinstance(b, int):\n",
    "            vb = b\n",
    "        else:\n",
    "            vb = len(b)\n",
    "\n",
    "        assert va == vb, \"Lengths must match. Got %i and %i.\" % (va, vb)\n",
    "\n",
    "\n",
    "    assert_lengths_match(\n",
    "        sum([len(z) for z in [\n",
    "            u_cavity.neumann, u_cavity.dirichlet,\n",
    "            u_scattered.neumann, u_scattered.dirichlet\n",
    "        ]]),\n",
    "        b1\n",
    "    )\n",
    "\n",
    "    assert_lengths_match(*u_cavity)\n",
    "    assert_lengths_match(*u_scattered)\n",
    "\n",
    "    u_wall = Vector(\n",
    "        u_inc.dirichlet + u_scattered.dirichlet,\n",
    "        u_inc.neumann + u_scattered.neumann,\n",
    "    )\n",
    "\n",
    "    # Number of points in the x-direction\n",
    "    nx = 220# divide accordingly to achieve smaller particles\n",
    "\n",
    "    # Number of points in the y-direction\n",
    "    nz = 220\n",
    "\n",
    "    xmin, xmax, zmin, zmax = [\n",
    "        -LENGTH_WALL/2-1,\n",
    "        LENGTH_WALL/2+1,\n",
    "        -LENGTH_WALL/2-1,\n",
    "        LENGTH_WALL/2+1\n",
    "    ] \n",
    "    # Ask Antigoni, why j's\n",
    "    plot_grid = np.mgrid[xmin:xmax:nx * 1j, 0:0:1j, zmin:zmax:nz * 1j]\n",
    "\n",
    "    c = 0 # Intersecting plane\n",
    "\n",
    "    points = np.vstack((\n",
    "        plot_grid[0].ravel(),\n",
    "        c * np.ones(plot_grid[0].size),\n",
    "        plot_grid[2].ravel()\n",
    "    ))\n",
    "\n",
    "    # Compute interior and exterior indices\n",
    "    all_indices = np.ones(points.shape[1], dtype='uint32')\n",
    "\n",
    "    def point_is_within_cube(upper_bound_length, point):\n",
    "        \"\"\"\n",
    "        Determines whether the given point is contained within the a centered cube with the\n",
    "        bounds specified.\n",
    "        \"\"\"\n",
    "        c =  [-upper_bound_length/2 < px and px < upper_bound_length/2\n",
    "              for px in point]\n",
    "        return all(c)\n",
    "\n",
    "    cavity_indexer = []\n",
    "    wall_indexer = []\n",
    "    exterior_indexer = []\n",
    "\n",
    "    for i, point in enumerate(points.T):\n",
    "        if point_is_within_cube(LENGTH_CAVITY, point):\n",
    "            cavity_indexer.append(i)\n",
    "        elif point_is_within_cube(LENGTH_WALL, point):\n",
    "            wall_indexer.append(i)\n",
    "        elif point_is_within_cube(np.inf, point):\n",
    "            exterior_indexer.append(i)\n",
    "        else:\n",
    "            raise ValueError(\"Point %s not within domain\" % point)\n",
    "\n",
    "\n",
    "    # Sanity check\n",
    "    print(\n",
    "        len(cavity_indexer), '+',\n",
    "        len(wall_indexer), '+',\n",
    "        len(exterior_indexer), '=',\n",
    "        sum([\n",
    "            len(cavity_indexer),\n",
    "            len(wall_indexer),\n",
    "            len(exterior_indexer)\n",
    "        ])\n",
    "    )\n",
    "\n",
    "    # Cavity\n",
    "    cavity_points = points[:, cavity_indexer]\n",
    "\n",
    "    E_potential_op = maxwell_potential.electric_field(\n",
    "        small_cube[DOMAIN_OP], cavity_points, KI)\n",
    "    H_potential_op = maxwell_potential.magnetic_field(\n",
    "        small_cube[DOMAIN_OP], cavity_points, KI)\n",
    "\n",
    "    Ntrace_i = bempp.api.GridFunction(\n",
    "        small_cube[DOMAIN_OP], coefficients=u_cavity.neumann)\n",
    "    Dtrace_i = bempp.api.GridFunction(\n",
    "        small_cube[DOMAIN_OP], coefficients=u_cavity.dirichlet)\n",
    "\n",
    "    cavity_field =  H_potential_op * Dtrace_i + E_potential_op * (MU/KI * Ntrace_i)\n",
    "\n",
    "    # Wall\n",
    "    wall_points = points[:, wall_indexer]\n",
    "\n",
    "    # Influence of external boundary\n",
    "    E_potential_op_w = maxwell_potential.electric_field(\n",
    "        large_cube[DOMAIN_OP], wall_points, KW)\n",
    "    H_potential_op_w = maxwell_potential.magnetic_field(\n",
    "        large_cube[DOMAIN_OP], wall_points, KW)\n",
    "\n",
    "    Ntrace_w = bempp.api.GridFunction(\n",
    "        large_cube[DOMAIN_OP], coefficients=u_wall.neumann)\n",
    "    Dtrace_w = bempp.api.GridFunction(\n",
    "        large_cube[DOMAIN_OP], coefficients=u_wall.dirichlet)\n",
    "\n",
    "    # Influence of cavity\n",
    "    E_potential_op_i = maxwell_potential.electric_field(\n",
    "        small_cube[DOMAIN_OP], wall_points, KW)\n",
    "    H_potential_op_i = maxwell_potential.magnetic_field(\n",
    "        small_cube[DOMAIN_OP], wall_points, KW)\n",
    "\n",
    "    # Putting them together\n",
    "    wall_field = H_potential_op_w * Dtrace_w + E_potential_op_w * (MU/KW * Ntrace_w) \\\n",
    "       # Scattered\n",
    "    exterior_points = points[:, exterior_indexer]\n",
    "\n",
    "    E_potential_op = maxwell_potential.electric_field(\n",
    "        large_cube[DOMAIN_OP], exterior_points, KE)\n",
    "    H_potential_op = maxwell_potential.magnetic_field(\n",
    "        large_cube[DOMAIN_OP], exterior_points, KE)\n",
    "\n",
    "    Ntrace = bempp.api.GridFunction(\n",
    "        large_cube[DOMAIN_OP], coefficients=u_scattered.neumann)\n",
    "    Dtrace = bempp.api.GridFunction(\n",
    "        large_cube[DOMAIN_OP], coefficients=u_scattered.dirichlet)\n",
    "\n",
    "    scattered_field = - H_potential_op * Dtrace - E_potential_op * (MU/KE * Ntrace)\n",
    "\n",
    "    total_field = np.empty_like(points, dtype='complex128')\n",
    "\n",
    "    def get_field(selector, field):\n",
    "        total_field = np.empty_like(points, dtype='complex128')\n",
    "        total_field[:] = np.nan\n",
    "        total_field[:, selector] = field\n",
    "        return np.sum(np.abs(total_field**2), axis=0)\n",
    "\n",
    "    total_field[:, cavity_indexer] = cavity_field\n",
    "    total_field[:, wall_indexer] =  wall_field\n",
    "    total_field[:, exterior_indexer] = scattered_field + incident_field(points[:, exterior_indexer])\n",
    "    # squared_scattered_field = np.sum(np.abs(scattered_field)**2, axis=0)\n",
    "    squared_field = np.sum(np.abs(total_field**2), axis=0)\n",
    "\n",
    "    print(PRECON_TYPE)\n",
    "\n",
    "    def implot(data, clim=(0, 2)):\n",
    "        \"\"\"\n",
    "        Plot on an axis the field data\n",
    "        \"\"\"\n",
    "        im = plt.imshow(\n",
    "            data.reshape(nx, nz),\n",
    "            extent=[xmin, xmax, zmin, zmax],\n",
    "            clim=clim,\n",
    "        )\n",
    "        fig = plt.gcf()\n",
    "        plt.colorbar()\n",
    "        fig.dpi = 100\n",
    "        return x\n",
    "\n",
    "    implot(squared_field);\n",
    "    plt.show()\n",
    "    implot(get_field(exterior_indexer, scattered_field), clim=(0, 0.1));\n",
    "     \n",
    "    \n",
    "plot_field('Built-In Strong', results)"
   ]
  }
 ],
 "metadata": {
  "kernelspec": {
   "display_name": "Python 3",
   "language": "python",
   "name": "python3"
  },
  "language_info": {
   "codemirror_mode": {
    "name": "ipython",
    "version": 3
   },
   "file_extension": ".py",
   "mimetype": "text/x-python",
   "name": "python",
   "nbconvert_exporter": "python",
   "pygments_lexer": "ipython3",
   "version": "3.5.2"
  }
 },
 "nbformat": 4,
 "nbformat_minor": 2
}
