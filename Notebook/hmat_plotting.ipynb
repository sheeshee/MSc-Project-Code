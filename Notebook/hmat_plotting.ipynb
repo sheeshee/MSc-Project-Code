{
 "cells": [
  {
   "cell_type": "code",
   "execution_count": 1,
   "metadata": {},
   "outputs": [],
   "source": [
    "import bempp.api \n",
    "import numpy as np"
   ]
  },
  {
   "cell_type": "code",
   "execution_count": 2,
   "metadata": {},
   "outputs": [],
   "source": [
    "def plot_block_cluster_tree(tree, height=8., width=8.):\n",
    "    # Plot a BlockClusterTree \n",
    "    from matplotlib import pyplot as plt\n",
    "    from  matplotlib.patches import Rectangle\n",
    "\n",
    "    rows = tree.root.shape[0]\n",
    "    cols = tree.root.shape[1]\n",
    "\n",
    "    row_scale = (1.*height)/rows\n",
    "    col_scale = (1.*width)/cols\n",
    "\n",
    "    fig = plt.figure(figsize=(width, height))\n",
    "    currentAxis = plt.gca()\n",
    "\n",
    "    for node in tree.leaf_nodes:\n",
    "        x =  node.column_cluster_range[0]*col_scale\n",
    "        y = node.row_cluster_range[0]*row_scale\n",
    "        widthr = node.shape[1]*col_scale\n",
    "        heightr = node.shape[0]*row_scale\n",
    "        if node.admissible:\n",
    "            currentAxis.add_patch(Rectangle((x, height-y-heightr), widthr, heightr, fill=True, alpha=1, facecolor='green', edgecolor='k'))\n",
    "        else:\n",
    "            currentAxis.add_patch(Rectangle((x,height-y-heightr), widthr, heightr, fill=True, alpha=1, facecolor='red', edgecolor='k'))\n",
    "    plt.xlim(0, width)\n",
    "    plt.ylim(0, height)\n",
    "    plt.axis('off')\n",
    "    plt.show(block=True)\n",
    "\n"
   ]
  },
  {
   "cell_type": "code",
   "execution_count": 3,
   "metadata": {},
   "outputs": [],
   "source": [
    "def plot_hmat(opw, height=8., width=8.):\n",
    "    # Plot GeneralNonlocalDiscreteBoundaryOperator (hmat)\n",
    "    from matplotlib import pyplot as plt\n",
    "    from  matplotlib.patches import Rectangle\n",
    "    from matplotlib import cm\n",
    "\n",
    "    tree = bempp.api.hmatrix_interface.block_cluster_tree(opw)\n",
    "    compression_overall = bempp.api.hmatrix_interface.compression_rate(opw)\n",
    "    print(compression_overall)\n",
    "    rows = tree.root.shape[0]\n",
    "    cols = tree.root.shape[1]\n",
    "\n",
    "    row_scale = (1.*height)/rows\n",
    "    col_scale = (1.*width)/cols\n",
    "\n",
    "    fig = plt.figure(figsize=(width, height))\n",
    "    currentAxis = plt.gca()\n",
    "    c = []\n",
    "    for node in tree.leaf_nodes:\n",
    "        x =  node.column_cluster_range[0]*col_scale\n",
    "        y = node.row_cluster_range[0]*row_scale\n",
    "        widthr = node.shape[1]*col_scale\n",
    "        heightr = node.shape[0]*row_scale\n",
    "        if node.admissible:\n",
    "            data = bempp.api.hmatrix_interface.data_block(opw, node)\n",
    "            rank =  data.rank\n",
    "#             print(rank)\n",
    "            row = data.A.shape[0]\n",
    "            col = data.B.shape[1]\n",
    "            \n",
    "            if row*col!=0:\n",
    "                compression = rank * (row + col) / float(row * col)\n",
    "#                 print(compression)\n",
    "                c.append(compression**.5)\n",
    "    #             currentAxis.text(x+widthr/4., height-y-heightr +heightr/4., '%i' %rank, fontsize=18*heightr)\n",
    "#                 currentAxis.add_patch(Rectangle((x, height-y-heightr), widthr, heightr, fill=True, alpha=1, facecolor=cm.Blues(compression**.5), edgecolor='k'))\n",
    "                currentAxis.add_patch(Rectangle((x, height-y-heightr), widthr, heightr, fill=True, alpha=1, facecolor='green', edgecolor='k'))\n",
    "            else:\n",
    "                currentAxis.add_patch(Rectangle((x, height-y-heightr), widthr, heightr, fill=True, alpha=1, facecolor='w', edgecolor='k'))\n",
    "        else:\n",
    "            currentAxis.add_patch(Rectangle((x,height-y-heightr), widthr, heightr, fill=True, alpha=1, facecolor='red', edgecolor='k'))\n",
    "\n",
    "    plt.xlim(0, width)\n",
    "    plt.ylim(0, height)\n",
    "    plt.axis('on')\n",
    "    plt.xticks([])\n",
    "    plt.yticks([])\n",
    "    plt.show(block=False)\n",
    "#     plt.savefig('hmat_ff_full.png', format = 'png', dpi = 600)\n",
    "#     plt.figure()\n",
    "#     plt.plot(c)\n",
    "#     plt.show()\n",
    "\n",
    "#     c_np = np.array(c)\n",
    "#     print('max: {0}'.format(np.max(c_np)))\n",
    "#     print('min: {0}'.format(np.min(c_np)))"
   ]
  },
  {
   "cell_type": "code",
   "execution_count": 4,
   "metadata": {
    "scrolled": false
   },
   "outputs": [],
   "source": [
    "if __name__ == \"__main__\": \n",
    "    k = 5\n",
    "    gr = bempp.api.shapes.cube(h=2*np.pi/(10*k))\n",
    "#     P0 = bempp.api.function_space(gr, \"RWG\", 0)\n",
    "\n",
    "    #bem.global_parameters.hmat.eps = 0.1\n",
    "    bempp.api.global_parameters.hmat.eps = 0.001\n",
    "    bempp.api.global_parameters.hmat.cutoff = 0\n",
    "    rwg = bempp.api.function_space(gr, 'RWG', 0)\n",
    "    snc = bempp.api.function_space(gr, 'SNC', 0)\n",
    "    op = bempp.api.operators.boundary.maxwell.electric_field(rwg, rwg, snc, k)\n",
    "\n",
    "#     bc = bempp.api.function_space(gr, 'BC', 0)\n",
    "#     rbc = bempp.api.function_space(gr, 'RBC', 0)\n",
    "#     op = bempp.api.operators.boundary.maxwell.electric_field(bc,bc,rbc,k)\n",
    "    \n",
    "    opw = op.weak_form()\n",
    "\n",
    "    tree = bempp.api.hmatrix_interface.block_cluster_tree(opw)\n",
    "\n",
    "    "
   ]
  },
  {
   "cell_type": "code",
   "execution_count": 5,
   "metadata": {},
   "outputs": [
    {
     "name": "stderr",
     "output_type": "stream",
     "text": [
      "/usr/lib/python3/dist-packages/matplotlib/font_manager.py:273: UserWarning: Matplotlib is building the font cache using fc-list. This may take a moment.\n",
      "  warnings.warn('Matplotlib is building the font cache using fc-list. This may take a moment.')\n",
      "/usr/lib/python3/dist-packages/matplotlib/font_manager.py:273: UserWarning: Matplotlib is building the font cache using fc-list. This may take a moment.\n",
      "  warnings.warn('Matplotlib is building the font cache using fc-list. This may take a moment.')\n"
     ]
    },
    {
     "name": "stdout",
     "output_type": "stream",
     "text": [
      "0.14183761832243424\n"
     ]
    },
    {
     "data": {
      "text/plain": [
       "<matplotlib.figure.Figure at 0x7f9f563588d0>"
      ]
     },
     "metadata": {},
     "output_type": "display_data"
    }
   ],
   "source": [
    "# plot_block_cluster_tree(tree)\n",
    "from matplotlib import pyplot as plt\n",
    "plot_hmat(opw)"
   ]
  },
  {
   "cell_type": "code",
   "execution_count": 6,
   "metadata": {},
   "outputs": [
    {
     "data": {
      "text/plain": [
       "(0.37, 0.25, 0.13)"
      ]
     },
     "execution_count": 6,
     "metadata": {},
     "output_type": "execute_result"
    }
   ],
   "source": [
    "0.37,0.25,0.13"
   ]
  },
  {
   "cell_type": "code",
   "execution_count": null,
   "metadata": {},
   "outputs": [],
   "source": []
  },
  {
   "cell_type": "code",
   "execution_count": null,
   "metadata": {},
   "outputs": [],
   "source": []
  },
  {
   "cell_type": "code",
   "execution_count": 7,
   "metadata": {},
   "outputs": [
    {
     "data": {
      "image/png": "[encoded data removed]",
      "text/plain": [
       "<matplotlib.figure.Figure at 0x7f9f3d116780>"
      ]
     },
     "metadata": {},
     "output_type": "display_data"
    }
   ],
   "source": [
    "import numpy as np\n",
    "import matplotlib as mpl\n",
    "import matplotlib.pyplot as plt\n",
    "from matplotlib import cm\n",
    "from collections import OrderedDict\n",
    "from  matplotlib.patches import Rectangle\n",
    "\n",
    "\n",
    "\n",
    "\n",
    "n = 400\n",
    "compression = np.linspace(0,1.4, n)\n",
    "\n",
    "\n",
    "# gradient = np.vstack((compression **.5, compression **.5))\n",
    "gradient = np.vstack((compression, compression))\n",
    "fig = plt.figure(figsize=(10, 10))\n",
    "currentAxis = plt.gca()\n",
    "\n",
    "size = 1/float(n) \n",
    "#for i in range(n):\n",
    "#    currentAxis.add_patch(Rectangle((size, compression[i]),.2, size, fill=True, alpha=1, facecolor= colors[i]))\n",
    "\n",
    "\n",
    "for i in range(n):\n",
    "    plt.imshow(gradient, cmap = cm.Blues)\n",
    "\n",
    "\n",
    "plt.colorbar(orientation=\"horizontal\")\n",
    "plt.show(block=False)"
   ]
  },
  {
   "cell_type": "raw",
   "metadata": {
    "collapsed": true
   },
   "source": []
  }
 ],
 "metadata": {
  "kernelspec": {
   "display_name": "Python 3",
   "language": "python",
   "name": "python3"
  },
  "language_info": {
   "codemirror_mode": {
    "name": "ipython",
    "version": 3
   },
   "file_extension": ".py",
   "mimetype": "text/x-python",
   "name": "python",
   "nbconvert_exporter": "python",
   "pygments_lexer": "ipython3",
   "version": "3.5.2"
  }
 },
 "nbformat": 4,
 "nbformat_minor": 2
}
