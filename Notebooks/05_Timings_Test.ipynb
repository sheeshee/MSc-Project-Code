{
 "cells": [
  {
   "cell_type": "code",
   "execution_count": 2,
   "metadata": {},
   "outputs": [],
   "source": [
    "import matplotlib.pyplot as plt\n",
    "import numpy as np\n",
    "import bempp.api\n",
    "from bempp.api import shapes\n",
    "import bempp_cavity"
   ]
  },
  {
   "cell_type": "code",
   "execution_count": 3,
   "metadata": {},
   "outputs": [],
   "source": [
    "ELEMENT_SIZE = 0.5\n",
    "LENGTH_CAVITY = 1\n",
    "LENGTH_WALL = 3"
   ]
  },
  {
   "cell_type": "code",
   "execution_count": 4,
   "metadata": {},
   "outputs": [],
   "source": [
    "inner_walls = [\n",
    "    shapes.cube(\n",
    "        length=1, h=ELEMENT_SIZE,\n",
    "        origin=(-1.25, -1/2, -1.25)\n",
    "    ),\n",
    "    shapes.cube(\n",
    "        length=1, h=ELEMENT_SIZE,\n",
    "        origin=(0.25, -1/2, -1.25)\n",
    "    ),\n",
    "    shapes.cube(\n",
    "        length=1, h=ELEMENT_SIZE,\n",
    "        origin=(-1.25, -1/2, 0.25)\n",
    "    ),\n",
    "    shapes.cube(\n",
    "        length=1, h=ELEMENT_SIZE,\n",
    "        origin=(0.25, -1/2, 0.25)\n",
    "    ),\n",
    "    \n",
    "]\n",
    "outer_wall = shapes.cube(\n",
    "        length=LENGTH_WALL, h=ELEMENT_SIZE,\n",
    "        origin=(-LENGTH_WALL/2, -LENGTH_WALL/2, -LENGTH_WALL/2)\n",
    ")\n",
    "grid = bempp_cavity.create_grid(outer_wall, *inner_walls)"
   ]
  },
  {
   "cell_type": "code",
   "execution_count": 6,
   "metadata": {},
   "outputs": [
    {
     "name": "stdout",
     "output_type": "stream",
     "text": [
      "1 1\n"
     ]
    }
   ],
   "source": [
    "Ks = [1, 1, 1, 1, 1, 1]\n",
    "MUs = [1, 1, 1, 1, 1, 1]\n",
    "wave = bempp_cavity.IncidentWave(Ks[0], MUs[0])"
   ]
  },
  {
   "cell_type": "code",
   "execution_count": 7,
   "metadata": {},
   "outputs": [],
   "source": [
    "model_sf = bempp_cavity.Model(grid, Ks, MUs, wave)"
   ]
  },
  {
   "cell_type": "code",
   "execution_count": 8,
   "metadata": {},
   "outputs": [],
   "source": [
    "model_wf = bempp_cavity.Model(grid, Ks, MUs, wave, spaces='RWG-dominant')"
   ]
  },
  {
   "cell_type": "code",
   "execution_count": 9,
   "metadata": {},
   "outputs": [],
   "source": [
    "parameters = bempp_cavity.Parameters(\n",
    "    nearfield_cutoff=1.0,\n",
    "    ACA=0.1,\n",
    "    quadrature=(1, 1, 1, 1)\n",
    ")"
   ]
  },
  {
   "cell_type": "code",
   "execution_count": 10,
   "metadata": {},
   "outputs": [],
   "source": [
    "methods = [\n",
    "    'diagonal',\n",
    "    'none', \n",
    "#     'self',\n",
    "]"
   ]
  },
  {
   "cell_type": "code",
   "execution_count": 15,
   "metadata": {},
   "outputs": [
    {
     "name": "stdout",
     "output_type": "stream",
     "text": [
      "CPU times: user 9min 38s, sys: 6.72 s, total: 9min 45s\n",
      "Wall time: 1min\n"
     ]
    },
    {
     "data": {
      "text/plain": [
       "<bempp_cavity.model.Solution at 0x7efcbf7b2b38>"
      ]
     },
     "execution_count": 15,
     "metadata": {},
     "output_type": "execute_result"
    }
   ],
   "source": [
    "model_sf = bempp_cavity.Model(grid, Ks, MUs, wave)\n",
    "%time model_sf.solve(preconditioner='none')"
   ]
  },
  {
   "cell_type": "code",
   "execution_count": 16,
   "metadata": {},
   "outputs": [
    {
     "name": "stdout",
     "output_type": "stream",
     "text": [
      "CPU times: user 9min 41s, sys: 5.97 s, total: 9min 47s\n",
      "Wall time: 1min 1s\n"
     ]
    },
    {
     "data": {
      "text/plain": [
       "<bempp_cavity.model.Solution at 0x7efcbf7b5160>"
      ]
     },
     "execution_count": 16,
     "metadata": {},
     "output_type": "execute_result"
    }
   ],
   "source": [
    "model_sf = bempp_cavity.Model(grid, Ks, MUs, wave)\n",
    "%time model_sf.solve(preconditioner='diagonal')"
   ]
  },
  {
   "cell_type": "code",
   "execution_count": 17,
   "metadata": {},
   "outputs": [
    {
     "name": "stdout",
     "output_type": "stream",
     "text": [
      "CPU times: user 12min 20s, sys: 13min 4s, total: 25min 24s\n",
      "Wall time: 2min 10s\n"
     ]
    },
    {
     "data": {
      "text/plain": [
       "<bempp_cavity.model.Solution at 0x7efc88094240>"
      ]
     },
     "execution_count": 17,
     "metadata": {},
     "output_type": "execute_result"
    }
   ],
   "source": [
    "model_wf = bempp_cavity.Model(grid, Ks, MUs, wave, spaces='RWG-dominant')\n",
    "%time model_wf.solve(preconditioner='none')"
   ]
  },
  {
   "cell_type": "code",
   "execution_count": 18,
   "metadata": {},
   "outputs": [
    {
     "name": "stdout",
     "output_type": "stream",
     "text": [
      "CPU times: user 8min 10s, sys: 22.9 s, total: 8min 33s\n",
      "Wall time: 48.3 s\n"
     ]
    },
    {
     "data": {
      "text/plain": [
       "<bempp_cavity.model.Solution at 0x7efc88003048>"
      ]
     },
     "execution_count": 18,
     "metadata": {},
     "output_type": "execute_result"
    }
   ],
   "source": [
    "model_wf = bempp_cavity.Model(grid, Ks, MUs, wave, spaces='RWG-dominant')\n",
    "%time model_wf.solve(preconditioner='diagonal')"
   ]
  },
  {
   "cell_type": "code",
   "execution_count": null,
   "metadata": {},
   "outputs": [],
   "source": []
  }
 ],
 "metadata": {
  "kernelspec": {
   "display_name": "Python 3",
   "language": "python",
   "name": "python3"
  },
  "language_info": {
   "codemirror_mode": {
    "name": "ipython",
    "version": 3
   },
   "file_extension": ".py",
   "mimetype": "text/x-python",
   "name": "python",
   "nbconvert_exporter": "python",
   "pygments_lexer": "ipython3",
   "version": "3.5.2"
  }
 },
 "nbformat": 4,
 "nbformat_minor": 2
}
