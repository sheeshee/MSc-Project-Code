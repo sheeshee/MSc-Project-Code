{
 "cells": [
  {
   "cell_type": "markdown",
   "metadata": {},
   "source": [
    "# Application 1:  a simple nested cube with no preconditioner"
   ]
  },
  {
   "cell_type": "code",
   "execution_count": null,
   "metadata": {},
   "outputs": [],
   "source": [
    "import bempp.api\n",
    "bempp.api.__version__"
   ]
  },
  {
   "cell_type": "code",
   "execution_count": null,
   "metadata": {
    "collapsed": true
   },
   "outputs": [],
   "source": [
    "# PARAMETERS\n",
    "\n",
    "## PHYSICS\n",
    "k = {\n",
    "    'e': 2,\n",
    "    'i': 1,\n",
    "    'w': 1.2,\n",
    "}\n",
    "\n",
    "mu = 1\n",
    "\n",
    "## COMPUTING\n",
    "element_size = 0.5\n",
    "\n",
    "length_cavity = 1\n",
    "length_wall = 2\n",
    "\n",
    "DOMAIN = \"RWG\"  # RWG\n",
    "RANGE = \"RWG\" # # BC\n",
    "DUAL_TO_RANGE = \"SNC\" # SNC\n",
    "\n",
    "DOMAIN_P = \"BC\"\n",
    "RANGE_P = \"BC\"\n",
    "DUAL_TO_RANGE_P = \"RBC\"\n",
    "\n",
    "MDOMAIN = \"BC\"\n",
    "MRANGE = \"BC\"\n",
    "MDTR = \"B-SNC\"\n",
    "\n",
    "MDOMAIN_P = \"B-RWG\"\n",
    "MRANGE_P = \"B-RWG\"\n",
    "MDTR_P = \"RBC\"\n",
    "\n",
    "# The type of space. Currently, the following types\n",
    "# are supported:\n",
    "#     \"P\" : Continuous and piecewise polynomial functions.\n",
    "#     \"DP\" : Discontinuous and elementwise polynomial functions.\n",
    "#     \"RT\": Raviart-Thomas Vector spaces.\n",
    "#     \"RWG\": RWG Vector spaces.\n",
    "#     \"NC\": Nedelec Vector spaces.\n",
    "#     \"SNC\": Scaled Nedelec Vector spaces. The Nedelec basis functions\n",
    "#            are scaled with the edge length so that they are identical\n",
    "#            to RWG functions crossed with the element normals.\n",
    "\n",
    "#     \"B-P\": Polynomial spaces on barycentric grids.\n",
    "#     \"B-DP\": Polynomial discontinuous spaces on barycentric grids.\n",
    "#     \"B-RT\": Raviart-Thomas Vector spaces on barycentric grids.\n",
    "#     \"B-RWG\": RWG Vector spaces on barycentric grids.\n",
    "#     \"B-NC\": Nedelec Vector spaces on barycentric grids.\n",
    "#     \"B-SNC\": Scaled Nedelec Vector spaces on barycentric grids.\n",
    "\n",
    "#     \"DUAL\": Dual space on dual grid (only implemented for constants).\n",
    "#     \"BC\": Buffa-Christian Vector space.\n",
    "#     \"RBC\": Rotated Buffa-Christian Vector space of curl-conforming\n",
    "#            functions."
   ]
  },
  {
   "cell_type": "markdown",
   "metadata": {},
   "source": [
    "# Imports"
   ]
  },
  {
   "cell_type": "code",
   "execution_count": 3,
   "metadata": {
    "collapsed": true
   },
   "outputs": [],
   "source": [
    "import time\n",
    "from collections import namedtuple\n",
    "import numpy as np\n",
    "import bempp.api\n",
    "\n",
    "from bempp.api import shapes\n",
    "from bempp.api import function_space, assembly\n",
    "from bempp.api.operators.boundary import maxwell\n",
    "from bempp.api.operators.potential import maxwell as maxwell_potential\n",
    "\n",
    "\n",
    "from bempp.core.common.global_parameters import global_parameters # Interface to define global_parameters for operators\n",
    "\n",
    "bempp.api.set_ipython_notebook_viewer()"
   ]
  },
  {
   "cell_type": "markdown",
   "metadata": {},
   "source": [
    "# Create grid\n",
    "\n",
    "This problem domain consists of two cubes: one large and one small. The small cube is positioned at the center of the large cube."
   ]
  },
  {
   "cell_type": "code",
   "execution_count": 5,
   "metadata": {},
   "outputs": [],
   "source": [
    "def discretize(grid, *methods_list):\n",
    "    \"\"\"\n",
    "    Returns a named tuple containing the discretised boundaries of the\n",
    "    given grid according to the method specified.\n",
    "    \"\"\"\n",
    "    space = {}\n",
    "    methods = list(set(methods_list))\n",
    "    assert len(methods) > 0, \"You must provide disretisation methods.\"\n",
    "    for method_key in methods:\n",
    "        method = method_key.split(\".\")[0]\n",
    "        space[method_key] = function_space(grid, method, 0)\n",
    "    return space\n",
    "\n",
    "\n",
    "def make_spaces(grid, P=False):\n",
    "    \"\"\"\n",
    "    Creates a function space for the grid for every\n",
    "    space type specified.\n",
    "    \"\"\"\n",
    "    if P==True:\n",
    "        return discretize(\n",
    "            grid,\n",
    "            DOMAIN_P,\n",
    "            RANGE_P,\n",
    "            DUAL_TO_RANGE_P,\n",
    "            MDOMAIN_P,\n",
    "            MRANGE_P,\n",
    "            MDTR_P\n",
    "        )\n",
    "    else:\n",
    "        return discretize(\n",
    "            grid,\n",
    "            DOMAIN,\n",
    "            RANGE,\n",
    "            DUAL_TO_RANGE,\n",
    "            MDOMAIN,\n",
    "            MRANGE,\n",
    "            MDTR\n",
    "        )\n",
    "\n",
    "\n",
    "small_cube = make_spaces(\n",
    "    shapes.cube(\n",
    "        length=length_cavity, h=element_size,\n",
    "        origin=(-length_cavity/2, -length_cavity/2, -length_cavity/2)\n",
    "    )\n",
    ")\n",
    "\n",
    "\n",
    "large_cube = make_spaces(\n",
    "    shapes.cube(\n",
    "        length=length_wall, h=element_size,\n",
    "        origin=(-length_wall/2, -length_wall/2, -length_wall/2)\n",
    "    )\n",
    ")"
   ]
  },
  {
   "cell_type": "code",
   "execution_count": 6,
   "metadata": {},
   "outputs": [
    {
     "data": {
      "text/plain": [
       "{'B-SNC': <bempp.api.space.space.BarycentricSNCSpace at 0x7fcf309faeb8>,\n",
       " 'BC': <bempp.api.space.space.BuffaChristiansenSpace at 0x7fcf309ff630>,\n",
       " 'RWG': <bempp.api.space.space.RWGSpace at 0x7fcf309fad68>,\n",
       " 'SNC': <bempp.api.space.space.SNCSpace at 0x7fcf309ff7f0>}"
      ]
     },
     "execution_count": 6,
     "metadata": {},
     "output_type": "execute_result"
    }
   ],
   "source": [
    "small_cube"
   ]
  },
  {
   "cell_type": "code",
   "execution_count": 7,
   "metadata": {},
   "outputs": [
    {
     "data": {
      "text/plain": [
       "<bempp.api.space.space.RWGSpace at 0x7fcf2c6d0d30>"
      ]
     },
     "execution_count": 7,
     "metadata": {},
     "output_type": "execute_result"
    }
   ],
   "source": [
    "large_cube[DOMAIN]"
   ]
  },
  {
   "cell_type": "code",
   "execution_count": 8,
   "metadata": {},
   "outputs": [
    {
     "name": "stdout",
     "output_type": "stream",
     "text": [
      "2\n",
      "390\n",
      "780\n",
      "2\n",
      "126\n",
      "252\n",
      "\n",
      "516\n",
      "1032\n"
     ]
    }
   ],
   "source": [
    "x = large_cube[DOMAIN]\n",
    "print(\n",
    "    x.domain_dimension,\n",
    "    x.global_dof_count,\n",
    "    x.flat_local_dof_count,\n",
    "    sep='\\n'\n",
    ")\n",
    "y = small_cube[DOMAIN]\n",
    "print(\n",
    "    y.domain_dimension,\n",
    "    y.global_dof_count,\n",
    "    y.flat_local_dof_count,\n",
    "    sep='\\n'\n",
    ")\n",
    "print()\n",
    "print(x.global_dof_count+y.global_dof_count)\n",
    "print(x.flat_local_dof_count+y.flat_local_dof_count)"
   ]
  },
  {
   "cell_type": "code",
   "execution_count": 9,
   "metadata": {},
   "outputs": [
    {
     "data": {
      "text/plain": [
       "5.235987755982989"
      ]
     },
     "execution_count": 9,
     "metadata": {},
     "output_type": "execute_result"
    }
   ],
   "source": [
    "wave_length_w = 2 * np.pi/k['w']\n",
    "wave_length_w"
   ]
  },
  {
   "cell_type": "code",
   "execution_count": 10,
   "metadata": {},
   "outputs": [
    {
     "data": {
      "text/plain": [
       "3.141592653589793"
      ]
     },
     "execution_count": 10,
     "metadata": {},
     "output_type": "execute_result"
    }
   ],
   "source": [
    "wave_length_e = 2 * np.pi/k['e']\n",
    "wave_length_e"
   ]
  },
  {
   "cell_type": "code",
   "execution_count": 11,
   "metadata": {},
   "outputs": [
    {
     "data": {
      "text/plain": [
       "10.471975511965978"
      ]
     },
     "execution_count": 11,
     "metadata": {},
     "output_type": "execute_result"
    }
   ],
   "source": [
    "wave_length_w/element_size"
   ]
  },
  {
   "cell_type": "markdown",
   "metadata": {},
   "source": [
    "# Setup the Operator\n",
    "\n",
    "$$\n",
    "\\mathcal{A}\n",
    "=\n",
    "\\begin{bmatrix}\n",
    "    -(\\mathcal{A}^w_1 + \\mathcal{A}^1_1) & \\mathcal{A}^w_{1,w} \\\\\n",
    "    -\\mathcal{A}^w_{w,1}               & \\mathcal{A}^w_w + \\mathcal{A}^e_w \\\\\n",
    "\\end{bmatrix}\n",
    "$$"
   ]
  },
  {
   "cell_type": "code",
   "execution_count": 12,
   "metadata": {
    "collapsed": true
   },
   "outputs": [],
   "source": [
    "def to_block_op(mfie, efie, k, mu):\n",
    "    \"\"\"\n",
    "    Build the standard block operator from the given integral equations.\n",
    "    \"\"\"\n",
    "    A = assembly.BlockedOperator(2, 2) # empty operator object\n",
    "    A[0,0] = mfie\n",
    "    A[0,1] = mu/k * efie\n",
    "    A[1,0] = -k/mu * efie\n",
    "    A[1,1] = mfie\n",
    "    return A\n",
    "\n",
    "\n",
    "def get_simple_block_op(space, k, mu, P=False):\n",
    "    \"\"\"\n",
    "    Return a 2x2 block operator defining the block matrix that would\n",
    "    act on the given grid.\n",
    "    \n",
    "    This is similar to the `multitrace_operator` constructor, but it\n",
    "    allows us to specify exactly which boundary disretisation functions\n",
    "    to use.\n",
    "    \"\"\"\n",
    "    if P==True:\n",
    "        efie = maxwell.electric_field(\n",
    "            space[DOMAIN_P], space[RANGE_P], space[DUAL_TO_RANGE_P], k,\n",
    "        )\n",
    "        mfie = maxwell.magnetic_field(\n",
    "            space[DOMAIN_P], space[RANGE_P], space[DUAL_TO_RANGE_P], k,\n",
    "        )\n",
    "    else:\n",
    "        efie = maxwell.electric_field(\n",
    "            space[DOMAIN], space[RANGE], space[DUAL_TO_RANGE], k,\n",
    "        )\n",
    "        mfie = maxwell.magnetic_field(\n",
    "            space[DOMAIN], space[RANGE], space[DUAL_TO_RANGE], k,\n",
    "        )\n",
    "    A = to_block_op(mfie, efie, k, mu)\n",
    "    return A\n",
    "\n",
    "\n",
    "def get_mixed_block_op(target, source, k, mu, P=False):\n",
    "    \"\"\"\n",
    "    Return a 2x2 block operator that defines the interferences on\n",
    "    `grid_a` by `grid_b`.\n",
    "    \"\"\"\n",
    "    if P==True:\n",
    "        efie = maxwell.electric_field(\n",
    "            source[DOMAIN_P], target[RANGE_P], target[DUAL_TO_RANGE_P], k\n",
    "        )\n",
    "        mfie = maxwell.magnetic_field(\n",
    "            source[DOMAIN_P], target[RANGE_P], target[DUAL_TO_RANGE_P], k\n",
    "        )    \n",
    "    else:\n",
    "        efie = maxwell.electric_field(\n",
    "            source[DOMAIN], target[RANGE], target[DUAL_TO_RANGE], k\n",
    "        )\n",
    "        mfie = maxwell.magnetic_field(\n",
    "            source[DOMAIN], target[RANGE], target[DUAL_TO_RANGE], k\n",
    "        )\n",
    "        \n",
    "    A = to_block_op(mfie, efie, k, mu)\n",
    "    return A\n",
    "    \n",
    "\n",
    "def assign_inplace_subblock(A, a, i, j):\n",
    "    \"\"\"\n",
    "    Assigns the 4 elements of a to the 2x2 block of A\n",
    "    specified by the indexes i and j.\n",
    "    \"\"\"\n",
    "    bi = 2*i\n",
    "    bj = 2*j\n",
    "    A[bi, bj]     = a[0, 0]\n",
    "    A[bi, bj+1]   = a[0, 1]\n",
    "    A[bi+1, bj]   = a[1, 0]\n",
    "    A[bi+1, bj+1] = a[1, 1]\n",
    "    \n",
    "\n",
    "def PMCHWT_operator(\n",
    "        small_cube, large_cube, k_int, k_wal, k_ext, mu, parameters\n",
    "    ):\n",
    "    \"\"\"Vector = namedtuple('Vector', ['neumann', 'dirichlet'])\n",
    "    Build the operator for the nested shape problem formulation.\n",
    "    \"\"\"\n",
    "    # small cube\n",
    "    A1_1 = get_simple_block_op(small_cube, k_int, mu)\n",
    "    Aw_1 = get_simple_block_op(small_cube, k_wal, mu)\n",
    "    # large cube\n",
    "    Aw_w = get_simple_block_op(large_cube, k_wal, mu)\n",
    "    Ae_w = get_simple_block_op(large_cube, k_ext, mu)\n",
    "    # mixed (target, source, k)\n",
    "    Aw_1w = get_mixed_block_op(small_cube, large_cube, k_wal, mu)\n",
    "    Aw_w1 = get_mixed_block_op(large_cube, small_cube, k_wal, mu)\n",
    "   \n",
    "    # assemble the blocks\n",
    "    A = assembly.BlockedOperator(2 * 2, 2 * 2)\n",
    "    assign_inplace_subblock(A, -(Aw_1 + A1_1), 0, 0)\n",
    "    assign_inplace_subblock(A,   Aw_1w,        0, 1)\n",
    "    assign_inplace_subblock(A, - Aw_w1,        1, 0)\n",
    "    assign_inplace_subblock(A,   Aw_w + Ae_w,  1, 1)\n",
    "    \n",
    "    return A\n",
    "\n",
    "    \n",
    "A = PMCHWT_operator(small_cube, large_cube, k['i'], k['w'], k['e'], mu, None)"
   ]
  },
  {
   "cell_type": "code",
   "execution_count": 13,
   "metadata": {},
   "outputs": [],
   "source": [
    "def build_diagonal(small_cube, large_cube, k_int, k_wal, k_ext, mu, parameters):\n",
    "    \"\"\"\n",
    "    Assemble the operator which is equivalent to the diagonal of A\n",
    "    \"\"\"\n",
    "    # small cube\n",
    "    A1_1 = get_simple_block_op(B, k_int, mu, P=True)\n",
    "    Aw_1 = get_simple_block_op(small_cube_P, k_wal, mu, P=True)\n",
    "    # large cube\n",
    "    Aw_w = get_simple_block_op(large_cube_P, k_wal, mu, P=True)\n",
    "    Ae_w = get_simple_block_op(large_cube_P, k_ext, mu, P=True)\n",
    "    # mixed (target, source, k)\n",
    "#     Aw_1w = get_mixed_block_op(small_cube, large_cube, k_wal, mu)\n",
    "#     Aw_w1 = get_mixed_block_op(large_cube, small_cube, k_wal, mu)\n",
    "   \n",
    "    # assemble the blocks\n",
    "    D = assembly.BlockedOperator(2 * 2, 2 * 2)\n",
    "    assign_inplace_subblock(D, -(Aw_1 + A1_1), 0, 0)\n",
    "#     assign_inplace_subblock(A,   Aw_1w,        0, 1)\n",
    "#     assign_inplace_subblock(A, - Aw_w1,        1, 0)\n",
    "    assign_inplace_subblock(D,   Aw_w + Ae_w,  1, 1)\n",
    "    \n",
    "    return D\n",
    "\n",
    "\n",
    "small_cube_P = make_spaces(\n",
    "    shapes.cube(\n",
    "        length=length_cavity, h=element_size,\n",
    "        origin=(-length_cavity/2, -length_cavity/2, -length_cavity/2)\n",
    "    ), P=True\n",
    ")\n",
    "\n",
    "\n",
    "large_cube_P = make_spaces(\n",
    "    shapes.cube(\n",
    "        length=length_wall, h=element_size,\n",
    "        origin=(-length_wall/2, -length_wall/2, -length_wall/2)\n",
    "    ), P=True\n",
    ")\n",
    "\n",
    "D = build_diagonal(small_cube_P, large_cube_P, k['i'], k['w'], k['e'], mu, None)"
   ]
  },
  {
   "cell_type": "code",
   "execution_count": 17,
   "metadata": {},
   "outputs": [
    {
     "name": "stdout",
     "output_type": "stream",
     "text": [
      "<bempp.api.space.space.RWGSpace object at 0x7fcf309fad68>\n",
      "<bempp.api.space.space.RWGSpace object at 0x7fcf309fad68>\n",
      "<bempp.api.space.space.RWGSpace object at 0x7fcf2c6d0d30>\n",
      "<bempp.api.space.space.RWGSpace object at 0x7fcf2c6d0d30>\n",
      "[252, 252, 780, 780]\n",
      "2064\n"
     ]
    }
   ],
   "source": [
    "spaces_in_A = [d.flat_local_dof_count for d in A._range_spaces]\n",
    "print(*[d for d in A._domain_spaces], sep='\\n')\n",
    "print(spaces_in_A)\n",
    "print(sum(spaces_in_A))"
   ]
  },
  {
   "cell_type": "markdown",
   "metadata": {},
   "source": [
    "# Discretize the incident field"
   ]
  },
  {
   "cell_type": "code",
   "execution_count": 18,
   "metadata": {
    "collapsed": true
   },
   "outputs": [],
   "source": [
    "def incident_field(x):\n",
    "    return np.array([0. * x[2], 0. * x[2], np.exp(1j * k['e'] * x[0])])\n",
    "\n",
    "\n",
    "def dirichlet_trace_fun(x, n, domain_index, result):\n",
    "    result[:] = np.cross(incident_field(x), n)\n",
    "\n",
    "    \n",
    "def curl(incident_field,x):\n",
    "    return np.array([0,  - 1j * k['e'] * np.exp(1j * k['e'] * x[0]), 0])\n",
    "\n",
    "\n",
    "def neumann_trace_fun(x, n, domain_index, result):\n",
    "    result[:] = (1/(1j * k['e'])) * np.cross(curl(incident_field,x), n)\n",
    "\n",
    "\n",
    "# for large cube\n",
    "Dtrace_inc = bempp.api.GridFunction(large_cube[DOMAIN], fun=dirichlet_trace_fun)\n",
    "Ntrace_inc = (k['e']/mu) * bempp.api.GridFunction(large_cube[DOMAIN], fun=neumann_trace_fun)\n",
    "# combine\n",
    "Vector = namedtuple('Vector', ['dirichlet', 'neumann'])\n",
    "u_inc = Vector(\n",
    "    Dtrace_inc.coefficients.tolist(),\n",
    "    Ntrace_inc.coefficients.tolist()\n",
    ")"
   ]
  },
  {
   "cell_type": "code",
   "execution_count": null,
   "metadata": {
    "collapsed": true
   },
   "outputs": [],
   "source": [
    "# theta = np.pi / 4 # Incident wave travelling at a 60 degree angle\n",
    "# direction = np.array([np.cos(theta), 0, np.sin(theta)])\n",
    "# polarization = np.array([0, 1.0, 0])\n",
    "\n",
    "# def plane_wave(point):\n",
    "#     return polarization * np.exp(1j * k_ext * np.dot(point, direction))\n",
    "\n",
    "# def dirichlet_trace_fun(point, n, domain_index, result):\n",
    "#     result[:] =  np.cross(plane_wave(point), n)\n",
    "\n",
    "# def plane_wave_curl(point):\n",
    "#     return np.cross(direction, polarization) * 1j * k_ext * np.exp(1j * k_ext * np.dot(point, direction))\n",
    "\n",
    "# def neumann_trace_fun(point, n, domain_index, result):\n",
    "#     result[:] =  1./ (1j * k_ext) * np.cross(plane_wave_curl(point), n)"
   ]
  },
  {
   "cell_type": "code",
   "execution_count": 19,
   "metadata": {},
   "outputs": [
    {
     "name": "stdout",
     "output_type": "stream",
     "text": [
      "390\n",
      "390\n"
     ]
    }
   ],
   "source": [
    "print(len(u_inc[0]))\n",
    "print(len(u_inc[1]))"
   ]
  },
  {
   "cell_type": "markdown",
   "metadata": {},
   "source": [
    "# Assemble the RHS\n",
    "\n",
    "$$\n",
    "f = \\begin{bmatrix}\n",
    "    - \\mathcal{A_{1w}} \\\\\n",
    "    - (\\mathcal{A_{w}} - \\frac{1}{2} \\mathcal{I})\n",
    "\\end{bmatrix}\n",
    "$$"
   ]
  },
  {
   "cell_type": "code",
   "execution_count": 20,
   "metadata": {},
   "outputs": [],
   "source": [
    "def get_identity_op(space):\n",
    "    \"\"\"\n",
    "    Shortcut to the sparse identity operator.\n",
    "    \"\"\"\n",
    "    return bempp.api.operators.boundary.sparse.identity(\n",
    "        # this can make the kernel crash if not set correctly\n",
    "        space[DOMAIN], space[RANGE], space[DUAL_TO_RANGE]\n",
    "    )\n",
    "\n",
    "\n",
    "def get_zero_op(space):\n",
    "    \"\"\"\n",
    "    Shortcut to the boundary zerop operator.\n",
    "    \"\"\"\n",
    "    return bempp.api.ZeroBoundaryOperator(\n",
    "        space[DOMAIN], space[RANGE], space[DUAL_TO_RANGE]\n",
    "    )\n",
    "\n",
    "\n",
    "def get_block_identity_op(space):\n",
    "    \"\"\"\n",
    "    Create an identity operator matching the given space.\n",
    "    \"\"\"\n",
    "    i = get_identity_op(space)\n",
    "    o = get_zero_op(space)\n",
    "    I = assembly.BlockedOperator(2, 2)\n",
    "    I[0, 0] = i; I[0, 1] = o\n",
    "    I[1, 0] = o; I[1, 1] = i\n",
    "    return I\n",
    "    \n",
    "\n",
    "Aw_1w = get_mixed_block_op(small_cube, large_cube, k['w'], mu)\n",
    "Aw_w  = get_simple_block_op(large_cube, k['w'], mu)\n",
    "I = get_block_identity_op(large_cube)"
   ]
  },
  {
   "cell_type": "code",
   "execution_count": 21,
   "metadata": {},
   "outputs": [
    {
     "name": "stdout",
     "output_type": "stream",
     "text": [
      "[780, 780]\n",
      "[252, 252]\n",
      "[780, 780]\n",
      "[780, 780]\n",
      "780\n"
     ]
    }
   ],
   "source": [
    "print([d.flat_local_dof_count for d in Aw_1w._domain_spaces])\n",
    "print([d.flat_local_dof_count for d in Aw_1w._range_spaces])\n",
    "print([d.flat_local_dof_count for d in Aw_w._domain_spaces])\n",
    "print([d.flat_local_dof_count for d in Aw_w._range_spaces])\n",
    "print(I._domain_spaces[0].flat_local_dof_count)"
   ]
  },
  {
   "cell_type": "code",
   "execution_count": 22,
   "metadata": {
    "collapsed": true
   },
   "outputs": [],
   "source": [
    "def flatten(vector):\n",
    "    return vector[0] + vector[1]\n",
    "\n",
    "pre = [\n",
    "    - Aw_1w.weak_form() * flatten(u_inc),\n",
    "    - (Aw_w.weak_form() - 1/2 * I.weak_form()) * flatten(u_inc)\n",
    "]\n",
    "# flatten list of lists\n",
    "f = [y for x in pre for y in x]"
   ]
  },
  {
   "cell_type": "code",
   "execution_count": 23,
   "metadata": {
    "collapsed": true
   },
   "outputs": [],
   "source": [
    "b = [\n",
    "    - (Aw_1w[0, 0] * Dtrace_inc + Aw_1w[0, 1] * Ntrace_inc),\n",
    "    - (Aw_1w[1, 0] * Dtrace_inc + Aw_1w[1, 1] * Ntrace_inc),\n",
    "    - ((Aw_w[0, 0] - 1/2 * I[0, 0]) * Dtrace_inc + (Aw_w[0, 1] - 1/2 * I[0, 1]) * Ntrace_inc),\n",
    "    - ((Aw_w[1, 0] - 1/2 * I[1, 0]) * Dtrace_inc + (Aw_w[1, 1] - 1/2 * I[1, 1]) * Ntrace_inc),\n",
    "]"
   ]
  },
  {
   "cell_type": "markdown",
   "metadata": {},
   "source": [
    "# Define the Mass Matrix"
   ]
  },
  {
   "cell_type": "code",
   "execution_count": null,
   "metadata": {
    "collapsed": true
   },
   "outputs": [],
   "source": [
    "# Antigoni's code\n",
    "if False:\n",
    "    mass_matrix_BC_SNC = np.empty((2 * number_of_scatterers, 2 * number_of_scatterers), dtype='O')\n",
    "    id_BRWG_RBC = bempp.api.operators.boundary.sparse.identity(b_rwg_space[i], b_rwg_space[i], rbc_space[i])\n",
    "    inv_identity_BRWG_RBC = bempp.api.assembly.InverseSparseDiscreteBoundaryOperator(id_BRWG_RBC.weak_form())\n",
    "    mass_matrix_BRWG_RBC[2*i, 2*j] = inv_identity_BRWG_RBC\n",
    "    mass_matrix_BRWG_RBC[2*i + 1, 2*j+1] = inv_identity_BRWG_RBC\n",
    "    mass_matrix_BRWG_RBC = bempp.api.assembly.BlockedDiscreteOperator(mass_matrix_BRWG_RBC)"
   ]
  },
  {
   "cell_type": "code",
   "execution_count": 24,
   "metadata": {
    "collapsed": true
   },
   "outputs": [],
   "source": [
    "M = np.empty((2 * 2, 2 * 2), dtype='O')\n",
    "# small_I = get_identity_op(small_cube)\n",
    "# large_I = get_identity_op(large_cube)\n",
    "small_I = bempp.api.operators.boundary.sparse.identity(\n",
    "    # this can make the kernel crash if not set correctly\n",
    "#         DOMAIN, RANGE, DUAL_TO_RANGE\n",
    "    small_cube[MDOMAIN], small_cube[MDOMAIN], small_cube[MDTR] # function spaces\n",
    ")\n",
    "large_I = bempp.api.operators.boundary.sparse.identity(\n",
    "    # this can make the kernel crash if not set correctly\n",
    "    large_cube[MDOMAIN], large_cube[MDOMAIN], large_cube[MDTR]\n",
    ")\n",
    "inv_small_I = assembly.InverseSparseDiscreteBoundaryOperator(small_I.weak_form())\n",
    "inv_large_I = assembly.InverseSparseDiscreteBoundaryOperator(large_I.weak_form())\n",
    "\n",
    "M[0, 0] = inv_small_I\n",
    "M[1, 1] = inv_small_I\n",
    "M[2, 2] = inv_large_I\n",
    "M[3, 3] = inv_large_I\n",
    "\n",
    "M = bempp.api.assembly.BlockedDiscreteOperator(M)"
   ]
  },
  {
   "cell_type": "code",
   "execution_count": 26,
   "metadata": {},
   "outputs": [],
   "source": [
    "M_P = np.empty((2 * 2, 2 * 2), dtype='O')\n",
    "# small_I = get_identity_op(small_cube)\n",
    "# large_I = get_identity_op(large_cube)\n",
    "small_I_P = bempp.api.operators.boundary.sparse.identity(\n",
    "    # this can make the kernel crash if not set correctly\n",
    "#         DOMAIN, RANGE, DUAL_TO_RANGE\n",
    "    small_cube_P[MDOMAIN_P], small_cube_P[MDOMAIN_P], small_cube_P[MDTR_P] # function spaces\n",
    ")\n",
    "large_I_P = bempp.api.operators.boundary.sparse.identity(\n",
    "    # this can make the kernel crash if not set correctly\n",
    "    large_cube_P[MDOMAIN_P], large_cube_P[MDOMAIN_P], large_cube_P[MDTR_P]\n",
    ")\n",
    "inv_small_I_P = assembly.InverseSparseDiscreteBoundaryOperator(small_I_P.weak_form())\n",
    "inv_large_I_P = assembly.InverseSparseDiscreteBoundaryOperator(large_I_P.weak_form())\n",
    "\n",
    "M_P[0, 0] = inv_small_I_P\n",
    "M_P[1, 1] = inv_small_I_P\n",
    "M_P[2, 2] = inv_large_I_P\n",
    "M_P[3, 3] = inv_large_I_P\n",
    "\n",
    "M_P = bempp.api.assembly.BlockedDiscreteOperator(M_P)"
   ]
  },
  {
   "cell_type": "markdown",
   "metadata": {},
   "source": [
    "# Make choice of Preconditioning type"
   ]
  },
  {
   "cell_type": "code",
   "execution_count": 27,
   "metadata": {
    "collapsed": true
   },
   "outputs": [],
   "source": [
    "Operator = namedtuple('Operator', ['name', 'lhs', 'rhs'])\n",
    "Result = namedtuple('Result', ['x', 'info', 'residuals'])\n",
    "\n",
    "operators = [\n",
    "    Operator(\n",
    "       'None',  # Name \n",
    "        A.weak_form(), # LHS\n",
    "        f # RHS\n",
    "    ),\n",
    "    Operator(\n",
    "       'M',\n",
    "        M * A.weak_form(),\n",
    "        M * f\n",
    "    ),\n",
    "#     Operator(\n",
    "#         'A',\n",
    "#         A.weak_form() * M * A.weak_form(),\n",
    "#         A.weak_form() * M * f\n",
    "#     ),\n",
    "    Operator(\n",
    "        'M_PD',\n",
    "        M_P * D.weak_form() * M * A.weak_form(),\n",
    "        M_P * D.weak_form() * M * f\n",
    "    ),\n",
    "    Operator(\n",
    "        'D',\n",
    "        D.weak_form() * M * A.weak_form(),\n",
    "        D.weak_form() * M * f\n",
    "    ),\n",
    "]"
   ]
  },
  {
   "cell_type": "markdown",
   "metadata": {},
   "source": [
    "# Solve the Linear System"
   ]
  },
  {
   "cell_type": "markdown",
   "metadata": {},
   "source": [
    "## Weak Form"
   ]
  },
  {
   "cell_type": "code",
   "execution_count": 28,
   "metadata": {
    "collapsed": true
   },
   "outputs": [],
   "source": [
    "from login import gmres"
   ]
  },
  {
   "cell_type": "code",
   "execution_count": null,
   "metadata": {
    "collapsed": true
   },
   "outputs": [],
   "source": [
    "# In the last run this stoped convergin around i=4000\n",
    "# consider setting maxiter to this number for testing\n",
    "# x, info, residuals = gmres(LHS, RHS, return_residuals=True, maxiter=200)"
   ]
  },
  {
   "cell_type": "code",
   "execution_count": 30,
   "metadata": {},
   "outputs": [],
   "source": [
    "results = {\n",
    "    op.name: Result(\n",
    "        *gmres(\n",
    "            op.lhs, op.rhs,\n",
    "            return_residuals=True,\n",
    "            restart=1000,\n",
    "            maxiter=1000, tol =1E-5\n",
    "        )\n",
    "    )\n",
    "    for op in operators\n",
    "} "
   ]
  },
  {
   "cell_type": "markdown",
   "metadata": {},
   "source": [
    "## Built In Strong Form"
   ]
  },
  {
   "cell_type": "code",
   "execution_count": null,
   "metadata": {
    "collapsed": true
   },
   "outputs": [],
   "source": [
    "# This can cause the kernel to fail\n",
    "\n",
    "# x, info, residuals = bempp.api.linalg.gmres(\n",
    "#     A, b,\n",
    "#     use_strong_form=True,\n",
    "#     return_residuals=True,\n",
    "#     maxiter=500\n",
    "# )"
   ]
  },
  {
   "cell_type": "code",
   "execution_count": null,
   "metadata": {
    "collapsed": true
   },
   "outputs": [],
   "source": [
    "# x = np.hstack([c.coefficients for c in x])\n",
    "# results['Built-In Strong'] = Result(x, info, residuals)"
   ]
  },
  {
   "cell_type": "markdown",
   "metadata": {},
   "source": [
    "# Plot"
   ]
  },
  {
   "cell_type": "markdown",
   "metadata": {},
   "source": [
    "## Residual"
   ]
  },
  {
   "cell_type": "code",
   "execution_count": 31,
   "metadata": {
    "collapsed": true
   },
   "outputs": [],
   "source": [
    "%matplotlib inline\n",
    "import matplotlib.pyplot as plt"
   ]
  },
  {
   "cell_type": "code",
   "execution_count": 34,
   "metadata": {},
   "outputs": [
    {
     "name": "stdout",
     "output_type": "stream",
     "text": [
      "None 560\n",
      "M 725\n",
      "M_PD 8\n",
      "D 11\n"
     ]
    },
    {
     "data": {
      "image/png": "[encoded data removed]",
      "text/plain": [
       "<Figure size 576x432 with 1 Axes>"
      ]
     },
     "metadata": {},
     "output_type": "display_data"
    }
   ],
   "source": [
    "for name, result in results.items():\n",
    "    print(name, len(result.residuals))\n",
    "    plt.semilogy(result.residuals, label=name)\n",
    "plt.legend()\n",
    "fig = plt.gcf()\n",
    "fig.set_size_inches(8, 6)\n",
    "# fig.dpi = 100\n"
   ]
  },
  {
   "cell_type": "markdown",
   "metadata": {},
   "source": [
    "## Split result into each domain and then into Neumann and Dirichlet traces"
   ]
  },
  {
   "cell_type": "code",
   "execution_count": null,
   "metadata": {
    "collapsed": true
   },
   "outputs": [],
   "source": [
    "PRECON_TYPE = 'M'\n",
    "\n",
    "x = results[PRECON_TYPE].x\n",
    "# Split between different domains in vector\n",
    "u_cavity = Vector(\n",
    "    dirichlet=x[:small_cube[DOMAIN].flat_local_dof_count//2],\n",
    "    neumann=x[small_cube[DOMAIN].flat_local_dof_count//2:small_cube[DOMAIN].flat_local_dof_count]\n",
    ")\n",
    "\n",
    "split_point = small_cube[DOMAIN].flat_local_dof_count\n",
    "\n",
    "u_scattered = Vector(\n",
    "    dirichlet=x[split_point:split_point+large_cube[DOMAIN].flat_local_dof_count//2],\n",
    "    neumann=x[split_point+large_cube[DOMAIN].flat_local_dof_count//2:]\n",
    ")\n",
    "\n",
    "# Check\n",
    "def assert_lengths_match(a, b):\n",
    "    \"\"\"\n",
    "    Raise Error if lengths of a and b do not match.\n",
    "    \"\"\"\n",
    "    if isinstance(a, int):\n",
    "        va = a\n",
    "    else:\n",
    "        va = len(a)\n",
    "    \n",
    "    if isinstance(b, int):\n",
    "        vb = b\n",
    "    else:\n",
    "        vb = len(b)\n",
    "        \n",
    "    assert va == vb, \"Lengths must match. Got %i and %i.\" % (va, vb)\n",
    "\n",
    "    \n",
    "assert_lengths_match(\n",
    "    sum([len(z) for z in [\n",
    "        u_cavity.neumann, u_cavity.dirichlet,\n",
    "        u_scattered.neumann, u_scattered.dirichlet\n",
    "    ]]),\n",
    "    f\n",
    ")\n",
    "\n",
    "assert_lengths_match(*u_cavity)\n",
    "assert_lengths_match(*u_scattered)"
   ]
  },
  {
   "cell_type": "markdown",
   "metadata": {},
   "source": [
    "## Get the trace of the field in the wall from the scattered and incident traces"
   ]
  },
  {
   "cell_type": "code",
   "execution_count": null,
   "metadata": {
    "collapsed": true
   },
   "outputs": [],
   "source": [
    "u_wall = Vector(\n",
    "    u_inc.dirichlet + u_scattered.dirichlet,\n",
    "    u_inc.neumann + u_scattered.neumann,\n",
    ")"
   ]
  },
  {
   "cell_type": "markdown",
   "metadata": {},
   "source": [
    "## Define the points where we will evaluate the field"
   ]
  },
  {
   "cell_type": "code",
   "execution_count": null,
   "metadata": {
    "collapsed": true
   },
   "outputs": [],
   "source": [
    "# Number of points in the x-direction\n",
    "nx = 220# divide accordingly to achieve smaller particles\n",
    "\n",
    "# Number of points in the y-direction\n",
    "nz = 220\n",
    "\n",
    "xmin, xmax, zmin, zmax = [\n",
    "    -length_wall/2-1,\n",
    "    length_wall/2+1,\n",
    "    -length_wall/2-1,\n",
    "    length_wall/2+1\n",
    "] \n",
    "# Ask Antigoni, why j's\n",
    "plot_grid = np.mgrid[xmin:xmax:nx * 1j, 0:0:1j, zmin:zmax:nz * 1j]\n",
    "\n",
    "c = 0 # Intersecting plane\n",
    "\n",
    "points = np.vstack((\n",
    "    plot_grid[0].ravel(),\n",
    "    c * np.ones(plot_grid[0].size),\n",
    "    plot_grid[2].ravel()\n",
    "))\n",
    "\n",
    "# Compute interior and exterior indices\n",
    "all_indices = np.ones(points.shape[1], dtype='uint32')"
   ]
  },
  {
   "cell_type": "code",
   "execution_count": null,
   "metadata": {
    "collapsed": true
   },
   "outputs": [],
   "source": [
    "def point_is_within_cube(upper_bound_length, point):\n",
    "    \"\"\"\n",
    "    Determines whether the given point is contained within the a centered cube with the\n",
    "    bounds specified.\n",
    "    \"\"\"\n",
    "    c =  [-upper_bound_length/2 < px and px < upper_bound_length/2\n",
    "          for px in point]\n",
    "    return all(c)\n",
    "        \n",
    "cavity_indexer = []\n",
    "wall_indexer = []\n",
    "exterior_indexer = []\n",
    "\n",
    "for i, point in enumerate(points.T):\n",
    "    if point_is_within_cube(length_cavity, point):\n",
    "        cavity_indexer.append(i)\n",
    "    elif point_is_within_cube(length_wall, point):\n",
    "        wall_indexer.append(i)\n",
    "    elif point_is_within_cube(np.inf, point):\n",
    "        exterior_indexer.append(i)\n",
    "    else:\n",
    "        raise ValueError(\"Point %s not within domain\" % point)"
   ]
  },
  {
   "cell_type": "code",
   "execution_count": null,
   "metadata": {},
   "outputs": [],
   "source": [
    "# Sanity check\n",
    "print(\n",
    "    len(cavity_indexer), '+',\n",
    "    len(wall_indexer), '+',\n",
    "    len(exterior_indexer), '=',\n",
    "    sum([\n",
    "        len(cavity_indexer),\n",
    "        len(wall_indexer),\n",
    "        len(exterior_indexer)\n",
    "    ])\n",
    ")"
   ]
  },
  {
   "cell_type": "markdown",
   "metadata": {},
   "source": [
    "## Calculate the field form the trace data"
   ]
  },
  {
   "cell_type": "code",
   "execution_count": null,
   "metadata": {
    "collapsed": true
   },
   "outputs": [],
   "source": [
    "# Cavity\n",
    "cavity_points = points[:, cavity_indexer]\n",
    "\n",
    "E_potential_op = maxwell_potential.electric_field(\n",
    "    small_cube[DOMAIN], cavity_points, k['i'])\n",
    "H_potential_op = maxwell_potential.magnetic_field(\n",
    "    small_cube[DOMAIN], cavity_points, k['i'])\n",
    "\n",
    "Ntrace_i = bempp.api.GridFunction(\n",
    "    small_cube[DOMAIN], coefficients=u_cavity.neumann)\n",
    "Dtrace_i = bempp.api.GridFunction(\n",
    "    small_cube[DOMAIN], coefficients=u_cavity.dirichlet)\n",
    "\n",
    "cavity_field =  H_potential_op * Dtrace_i + E_potential_op * (mu/k['i'] * Ntrace_i)"
   ]
  },
  {
   "cell_type": "code",
   "execution_count": null,
   "metadata": {
    "collapsed": true
   },
   "outputs": [],
   "source": [
    "# Wall\n",
    "wall_points = points[:, wall_indexer]\n",
    "\n",
    "# Influence of external boundary\n",
    "E_potential_op_w = maxwell_potential.electric_field(\n",
    "    large_cube[DOMAIN], wall_points, k['w'])\n",
    "H_potential_op_w = maxwell_potential.magnetic_field(\n",
    "    large_cube[DOMAIN], wall_points, k['w'])\n",
    "\n",
    "Ntrace_w = bempp.api.GridFunction(\n",
    "    large_cube[DOMAIN], coefficients=u_wall.neumann)\n",
    "Dtrace_w = bempp.api.GridFunction(\n",
    "    large_cube[DOMAIN], coefficients=u_wall.dirichlet)\n",
    "\n",
    "# Influence of cavity\n",
    "E_potential_op_i = maxwell_potential.electric_field(\n",
    "    small_cube[DOMAIN], wall_points, k['w'])\n",
    "H_potential_op_i = maxwell_potential.magnetic_field(\n",
    "    small_cube[DOMAIN], wall_points, k['w'])\n",
    "\n",
    "# Putting them together\n",
    "wall_field = H_potential_op_w * Dtrace_w + E_potential_op_w * (mu/k['w'] * Ntrace_w) \\\n",
    "    - (H_potential_op_i * Dtrace_i + E_potential_op_i * (mu/k['i'] * Ntrace_i))"
   ]
  },
  {
   "cell_type": "code",
   "execution_count": null,
   "metadata": {
    "collapsed": true
   },
   "outputs": [],
   "source": [
    "# Scattered\n",
    "exterior_points = points[:, exterior_indexer]\n",
    "\n",
    "E_potential_op = maxwell_potential.electric_field(\n",
    "    large_cube[DOMAIN], exterior_points, k['e'])\n",
    "H_potential_op = maxwell_potential.magnetic_field(\n",
    "    large_cube[DOMAIN], exterior_points, k['e'])\n",
    "\n",
    "Ntrace = bempp.api.GridFunction(\n",
    "    large_cube[DOMAIN], coefficients=u_scattered.neumann)\n",
    "Dtrace = bempp.api.GridFunction(\n",
    "    large_cube[DOMAIN], coefficients=u_scattered.dirichlet)\n",
    "\n",
    "scattered_field = - H_potential_op * Dtrace - E_potential_op * (mu/k['e'] * Ntrace)"
   ]
  },
  {
   "cell_type": "markdown",
   "metadata": {},
   "source": [
    "# Combine, Shape and Plot the Results"
   ]
  },
  {
   "cell_type": "code",
   "execution_count": null,
   "metadata": {
    "collapsed": true
   },
   "outputs": [],
   "source": [
    "total_field = np.empty_like(points, dtype='complex128')\n",
    "\n",
    "def get_field(selector, field):\n",
    "    total_field = np.empty_like(points, dtype='complex128')\n",
    "    total_field[:] = np.nan\n",
    "    total_field[:, selector] = field\n",
    "    return np.sum(np.abs(total_field**2), axis=0)"
   ]
  },
  {
   "cell_type": "code",
   "execution_count": null,
   "metadata": {
    "collapsed": true
   },
   "outputs": [],
   "source": [
    "total_field[:, cavity_indexer] = cavity_field\n",
    "total_field[:, wall_indexer] =  wall_field\n",
    "total_field[:, exterior_indexer] = scattered_field + incident_field(points[:, exterior_indexer])\n",
    "# squared_scattered_field = np.sum(np.abs(scattered_field)**2, axis=0)\n",
    "squared_field = np.sum(np.abs(total_field**2), axis=0)"
   ]
  },
  {
   "cell_type": "code",
   "execution_count": null,
   "metadata": {},
   "outputs": [],
   "source": [
    "print(PRECON_TYPE)\n",
    "\n",
    "def implot(data, clim=(0, 2)):\n",
    "    \"\"\"\n",
    "    Plot on an axis the field data\n",
    "    \"\"\"\n",
    "    im = plt.imshow(\n",
    "        data.reshape(nx, nz),\n",
    "        extent=[xmin, xmax, zmin, zmax],\n",
    "        clim=clim,\n",
    "    )\n",
    "    fig = plt.gcf()\n",
    "    plt.colorbar()\n",
    "    fig.dpi = 100\n",
    "    return x\n",
    "\n",
    "implot(squared_field);"
   ]
  },
  {
   "cell_type": "code",
   "execution_count": null,
   "metadata": {},
   "outputs": [],
   "source": [
    "print(PRECON_TYPE)\n",
    "\n",
    "def implot(data, clim=(0, 2)):\n",
    "    \"\"\"\n",
    "    Plot on an axis the field data\n",
    "    \"\"\"\n",
    "    im = plt.imshow(\n",
    "        data.reshape(nx, nz),\n",
    "        extent=[xmin, xmax, zmin, zmax],\n",
    "        clim=clim,\n",
    "    )\n",
    "    fig = plt.gcf()\n",
    "    plt.colorbar()\n",
    "    fig.dpi = 100\n",
    "    return x\n",
    "\n",
    "implot(squared_field);"
   ]
  },
  {
   "cell_type": "code",
   "execution_count": null,
   "metadata": {},
   "outputs": [],
   "source": [
    "implot(get_field(wall_indexer, wall_field), clim=(0, 0.1));"
   ]
  },
  {
   "cell_type": "code",
   "execution_count": null,
   "metadata": {},
   "outputs": [],
   "source": [
    "implot(get_field(cavity_indexer, cavity_field));"
   ]
  }
 ],
 "metadata": {
  "kernelspec": {
   "display_name": "Python 3",
   "language": "python",
   "name": "python3"
  },
  "language_info": {
   "codemirror_mode": {
    "name": "ipython",
    "version": 3
   },
   "file_extension": ".py",
   "mimetype": "text/x-python",
   "name": "python",
   "nbconvert_exporter": "python",
   "pygments_lexer": "ipython3",
   "version": "3.5.2"
  }
 },
 "nbformat": 4,
 "nbformat_minor": 2
}
