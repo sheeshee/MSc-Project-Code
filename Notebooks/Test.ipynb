{
 "cells": [
  {
   "cell_type": "code",
   "execution_count": 8,
   "metadata": {},
   "outputs": [],
   "source": [
    "import bempp.api\n",
    "import numpy as np\n",
    "\n",
    "from bempp.api.operators.boundary.maxwell import multitrace_operator\n",
    "from bempp.api.operators.potential.maxwell import electric_field\n",
    "\n",
    "k = 1\n",
    "mu = 1\n",
    "element_size = 0.5\n",
    "length_cavity = 1\n",
    "\n",
    "\n",
    "\n",
    "grid = bempp.api.shapes.cube(\n",
    "    length=length_cavity, h=element_size,\n",
    "    origin=(-length_cavity/2, -length_cavity/2, -length_cavity/2)\n",
    ")\n",
    "    \n",
    "def inc(x):\n",
    "    return np.array([np.exp(1j * k * x[2]), 0. * x[2], 0. * x[2]])\n",
    "\n",
    "def tang(x, n, domain_ind, result):\n",
    "    result[:] = np.cross(inc(x), n, axis=0)\n",
    "\n",
    "multitrace = multitrace_operator(grid, k)\n",
    "bc_space = multitrace.range_spaces[1]\n",
    "snc_space = multitrace.dual_to_range_spaces[1]\n",
    "\n",
    "grid_fun = bempp.api.GridFunction(\n",
    "    bc_space, fun=tang, dual_space=snc_space)\n",
    "\n",
    "E2 = - multitrace[1, 0]\n",
    "E1 = multitrace[0, 1]\n",
    "op = E1 * E2\n",
    "rhs = E1 * grid_fun\n",
    "\n",
    "sol, info = bempp.api.linalg.gmres(op, rhs, use_strong_form=True)\n"
   ]
  },
  {
   "cell_type": "code",
   "execution_count": 16,
   "metadata": {},
   "outputs": [
    {
     "data": {
      "text/plain": [
       "2904"
      ]
     },
     "execution_count": 16,
     "metadata": {},
     "output_type": "execute_result"
    }
   ],
   "source": [
    "bc_space.flat_local_dof_count"
   ]
  },
  {
   "cell_type": "code",
   "execution_count": 17,
   "metadata": {},
   "outputs": [
    {
     "data": {
      "text/plain": [
       "1512"
      ]
     },
     "execution_count": 17,
     "metadata": {},
     "output_type": "execute_result"
    }
   ],
   "source": [
    "snc_space.flat_local_dof_count"
   ]
  },
  {
   "cell_type": "code",
   "execution_count": 18,
   "metadata": {},
   "outputs": [
    {
     "data": {
      "text/plain": [
       "1.9206349206349207"
      ]
     },
     "execution_count": 18,
     "metadata": {},
     "output_type": "execute_result"
    }
   ],
   "source": [
    "2904/1512"
   ]
  },
  {
   "cell_type": "code",
   "execution_count": 19,
   "metadata": {},
   "outputs": [
    {
     "data": {
      "text/plain": [
       "<252x252 BlockedDiscreteOperatorProduct with dtype=complex128>"
      ]
     },
     "execution_count": 19,
     "metadata": {},
     "output_type": "execute_result"
    }
   ],
   "source": [
    "multitrace.strong_form()"
   ]
  },
  {
   "cell_type": "code",
   "execution_count": null,
   "metadata": {},
   "outputs": [],
   "source": []
  }
 ],
 "metadata": {
  "kernelspec": {
   "display_name": "Python 3",
   "language": "python",
   "name": "python3"
  },
  "language_info": {
   "codemirror_mode": {
    "name": "ipython",
    "version": 3
   },
   "file_extension": ".py",
   "mimetype": "text/x-python",
   "name": "python",
   "nbconvert_exporter": "python",
   "pygments_lexer": "ipython3",
   "version": "3.5.2"
  }
 },
 "nbformat": 4,
 "nbformat_minor": 2
}
