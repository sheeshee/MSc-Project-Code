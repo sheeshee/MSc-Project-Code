{
 "cells": [
  {
   "cell_type": "code",
   "execution_count": 1,
   "metadata": {},
   "outputs": [],
   "source": [
    "import bempp.api \n",
    "import numpy as np\n",
    "import time\n",
    "from login import gmres \n",
    "from operators import PMCHWT_operator\n",
    "\n",
    "bempp.api.set_ipython_notebook_viewer()"
   ]
  },
  {
   "cell_type": "code",
   "execution_count": 2,
   "metadata": {},
   "outputs": [],
   "source": [
    "from bempp.core.common.global_parameters import global_parameters # Interface to define global_parameters for operators\n",
    "\n",
    "quad_mu= [1,1,1,1]\n",
    "quad_nu= [4,3,2,6]\n",
    "quad_dense= [10,10,10,12]\n",
    "quad_default = []\n",
    "\n",
    "mu = 0.1\n",
    "nu = 0.001"
   ]
  },
  {
   "cell_type": "markdown",
   "metadata": {},
   "source": [
    "Comment out appropriately. The first is for one cube, the other for 3. And you can also choose different refractive indices.\n",
    "Choose a large wavelength if you're running it on a personal machine"
   ]
  },
  {
   "cell_type": "code",
   "execution_count": 3,
   "metadata": {},
   "outputs": [
    {
     "name": "stdout",
     "output_type": "stream",
     "text": [
      "The exterior wavenumber is: 2.0943951023931953\n",
      "The interior wavenumbers are: [(2.745751979237479+4.794070389378024e-09j), (2.745751979237479+4.794070389378024e-09j), (2.745751979237479+4.794070389378024e-09j)]\n",
      "mesh size: 0.30000000000000004\n"
     ]
    }
   ],
   "source": [
    "##for single particle scattering alter the following options\n",
    "# ref_index = [1.311 + 2.289E-9j]\n",
    "# # ref_index = [1.0833 + 0.204j]\n",
    "# centers = [(0,0,0)]\n",
    "\n",
    "##for multi-particle scattering alter the following options\n",
    "ref_index = [1.311 + 2.289E-9j, 1.311 + 2.289E-9j,  1.311 + 2.289E-9j] #high absorption\n",
    "# ref_index = [1.0833 + 0.204j, 1.0833 + 0.204j, 1.0833 + 0.204j] #low absorption \n",
    "centers = [(-1,0,0), (0,0,0), (1,0,0)]\n",
    "\n",
    "# wavelength = 0.55 #corresponds to ref_index=1.311 + 2.289E-9j\n",
    "wavelength = 3\n",
    "k_ext = 2*np.pi/wavelength\n",
    "k_int = [k_ext * i for i in ref_index]\n",
    "number_of_scatterers = len(k_int)\n",
    "\n",
    "print(\"The exterior wavenumber is: {0}\".format(k_ext))\n",
    "print(\"The interior wavenumbers are: {0}\".format(k_int))\n",
    "\n",
    "mu_int = number_of_scatterers * [1.0]\n",
    "mu_ext = 1.0\n",
    "precision = 10 # precision r\n",
    "h = 2.0 * np.pi / (precision * k_ext)\n",
    "print('mesh size: {0}'.format(h))\n",
    "\n",
    "\n",
    "radius = .4\n",
    "grids = [bempp.api.shapes.cube(length = radius, origin=c, h=h) for c in centers]"
   ]
  },
  {
   "cell_type": "markdown",
   "metadata": {},
   "source": [
    "The next defines an incident plane wave and its dirichlet and neumann traces"
   ]
  },
  {
   "cell_type": "code",
   "execution_count": 4,
   "metadata": {},
   "outputs": [],
   "source": [
    "# Specify the incident field and its traces\n",
    "\n",
    "def incident_field(x):\n",
    "    return np.array([0. * x[2], 0. * x[2], np.exp(1j * k_ext * x[0])])\n",
    "\n",
    "def dirichlet_trace_fun(x, n, domain_index, result):\n",
    "    result[:] = np.cross(incident_field(x), n)\n",
    "\n",
    "def curl(incident_field,x):\n",
    "    return np.array([0,  - 1j * k_ext * np.exp(1j * k_ext * x[0]), 0])\n",
    "\n",
    "def neumann_trace_fun(x, n, domain_index, result):\n",
    "    result[:] = (1/(1j * k_ext)) * np.cross(curl(incident_field,x), n)"
   ]
  },
  {
   "cell_type": "markdown",
   "metadata": {},
   "source": [
    "The following gets the memory of a weak form operator. I didn't set it up in the smartest way so you need to divide by 2 depending on the discretisation you're using: if only RWG functions are used for the operator and BC for the preconditioner then you take advantage of caching, so operators are assembled only once --> therefore divide by 2. Otherwise, if you're using a mixed discretisation (default in bempp) then no caching, so use the number as it is. The result is in bytes."
   ]
  },
  {
   "cell_type": "code",
   "execution_count": 5,
   "metadata": {},
   "outputs": [],
   "source": [
    "def get_memory(number_of_scatterers, operator):\n",
    "    mem = 0\n",
    "    \n",
    "    \n",
    "    for i in range(2*number_of_scatterers):\n",
    "        for j in range(2*number_of_scatterers):\n",
    "            op = operator[i][j]\n",
    "            mem += op.memory\n",
    "    return mem\n",
    "            "
   ]
  },
  {
   "cell_type": "markdown",
   "metadata": {},
   "source": [
    "The next allows you to change the internal parameters used in bempp. For more info see my paper on Accelerated Calderon preconditioning "
   ]
  },
  {
   "cell_type": "code",
   "execution_count": 6,
   "metadata": {},
   "outputs": [],
   "source": [
    "################################################\n",
    "# Parameters default\n",
    "\n",
    "parameters_default = global_parameters()\n",
    "hmat_eps_default =  parameters_default.hmat.eps\n",
    "quad_default.append(parameters_default.quadrature.near.double_order)\n",
    "quad_default.append(parameters_default.quadrature.medium.double_order)\n",
    "quad_default.append(parameters_default.quadrature.far.double_order)\n",
    "quad_default.append(parameters_default.quadrature.double_singular)\n",
    "\n",
    "################################################\n",
    "# Parameters nu\n",
    "\n",
    "parameters_nu = global_parameters()\n",
    "if nu == -1:\n",
    "\tparameters_nu.assembly.boundary_operator_assembly_type='dense'\n",
    "else:\n",
    "\tparameters_nu.assembly.boundary_operator_assembly_type='hmat'\n",
    "parameters_nu.hmat.eps = nu\n",
    "parameters_nu.quadrature.double_singular = quad_nu[3]\n",
    "parameters_nu.quadrature.far.double_order = quad_nu[2]\n",
    "parameters_nu.quadrature.medium.double_order = quad_nu[1]\n",
    "parameters_nu.quadrature.near.double_order = quad_nu[0]\n",
    "\n",
    "################################################\n",
    "# Parameters mu\n",
    "\n",
    "parameters_mu = global_parameters()\n",
    "if mu == -1:\n",
    "\tparameters_mu.assembly.boundary_operator_assembly_type='dense'\n",
    "else:\n",
    "\tparameters_mu.assembly.boundary_operator_assembly_type='hmat'\n",
    "parameters_mu.hmat.eps = mu\n",
    "parameters_mu.quadrature.double_singular = quad_mu[3]\n",
    "parameters_mu.quadrature.far.double_order = quad_mu[2]\n",
    "parameters_mu.quadrature.medium.double_order = quad_mu[1]\n",
    "parameters_mu.quadrature.near.double_order = quad_mu[0]\n",
    "\n",
    "################################################\n",
    "# Parameters mu1 near field\n",
    "\n",
    "parameters_mu_nf1 = global_parameters()\n",
    "if mu == -1:\n",
    "\tparameters_mu_nf1.assembly.boundary_operator_assembly_type='dense'\n",
    "else:\n",
    "\tparameters_mu_nf1.assembly.boundary_operator_assembly_type='hmat'\n",
    "parameters_mu_nf1.hmat.eps = mu\n",
    "parameters_mu_nf1.quadrature.double_singular = quad_mu[3]\n",
    "parameters_mu_nf1.quadrature.far.double_order = quad_mu[2]\n",
    "parameters_mu_nf1.quadrature.medium.double_order = quad_mu[1]\n",
    "parameters_mu_nf1.quadrature.near.double_order = quad_mu[0]\n",
    "parameters_mu_nf1.hmat.cutoff = 0\n",
    "\n",
    "################################################\n",
    "\n",
    "# Parameters dense\n",
    "parameters_dense = global_parameters()\n",
    "parameters_dense.assembly.boundary_operator_assembly_type='dense'\n",
    "parameters_dense.hmat.eps = -1\n",
    "parameters_dense.quadrature.double_singular = quad_dense[3]\n",
    "parameters_dense.quadrature.far.double_order = quad_dense[2]\n",
    "parameters_dense.quadrature.medium.double_order = quad_dense[1]\n",
    "parameters_dense.quadrature.near.double_order = quad_dense[0]"
   ]
  },
  {
   "cell_type": "code",
   "execution_count": 7,
   "metadata": {},
   "outputs": [
    {
     "name": "stdout",
     "output_type": "stream",
     "text": [
      "378 NDOF\n",
      "378 NDOF\n"
     ]
    }
   ],
   "source": [
    "# # spaces\n",
    "bc_space = [bempp.api.function_space(grid, \"BC\", 0) for grid in grids]\n",
    "rbc_space = [bempp.api.function_space(grid, \"RBC\", 0) for grid in grids]\n",
    "rwg_space = [bempp.api.function_space(grid, \"RWG\", 0) for grid in grids]\n",
    "snc_space = [bempp.api.function_space(grid, \"SNC\", 0) for grid in grids]\n",
    "\n",
    "b_rwg_space = [bempp.api.function_space(grid, \"B-RWG\", 0) for grid in grids]\n",
    "b_snc_space = [bempp.api.function_space(grid, \"B-SNC\", 0) for grid in grids]\n",
    "\n",
    "N = sum([space.global_dof_count for space in rwg_space])\n",
    "print (N ,'NDOF')\n",
    "\n",
    "N_bc = sum([space.global_dof_count for space in bc_space])\n",
    "print(N_bc, 'NDOF')"
   ]
  },
  {
   "cell_type": "code",
   "execution_count": 8,
   "metadata": {},
   "outputs": [
    {
     "name": "stderr",
     "output_type": "stream",
     "text": [
      "/usr/lib/python3/dist-packages/matplotlib/font_manager.py:273: UserWarning: Matplotlib is building the font cache using fc-list. This may take a moment.\n",
      "  warnings.warn('Matplotlib is building the font cache using fc-list. This may take a moment.')\n",
      "/usr/lib/python3/dist-packages/matplotlib/font_manager.py:273: UserWarning: Matplotlib is building the font cache using fc-list. This may take a moment.\n",
      "  warnings.warn('Matplotlib is building the font cache using fc-list. This may take a moment.')\n"
     ]
    },
    {
     "data": {
      "image/png": "[encoded data removed]",
      "text/plain": [
       "<matplotlib.figure.Figure at 0x7fd818f264e0>"
      ]
     },
     "metadata": {},
     "output_type": "display_data"
    }
   ],
   "source": [
    "%matplotlib inline\n",
    "import matplotlib.pyplot as plt\n",
    "from mpl_toolkits.mplot3d import Axes3D\n",
    "\n",
    "fig = plt.figure()\n",
    "ax = Axes3D(fig)\n",
    "\n",
    "for i in range(number_of_scatterers):\n",
    "    grid = grids[i]\n",
    "    vertices = grid.leaf_view.vertices\n",
    "    ax.scatter(vertices[0], vertices[1], vertices[2])"
   ]
  },
  {
   "cell_type": "code",
   "execution_count": 9,
   "metadata": {},
   "outputs": [
    {
     "name": "stdout",
     "output_type": "stream",
     "text": [
      "252\n"
     ]
    }
   ],
   "source": [
    "sum_elements = 0\n",
    "\n",
    "for i in range(number_of_scatterers):\n",
    "    el = grids[0].leaf_view.elements\n",
    "    sum_elements += el.shape[1]\n",
    "print(sum_elements)"
   ]
  },
  {
   "cell_type": "code",
   "execution_count": 10,
   "metadata": {},
   "outputs": [],
   "source": [
    "# set up operators\n",
    "[PMCHWT_nu, filter_operators_nu] = PMCHWT_operator(grids, k_ext, k_int, mu_ext, mu_int, parameters = parameters_nu)\n",
    "[_,PMCHWT_diag_nu] = PMCHWT_operator(grids, k_ext, k_int, mu_ext, mu_int, parameters = parameters_nu, \n",
    "                                    preconditioner = True)\n",
    "[_,PMCHWT_diag_mu]= PMCHWT_operator(grids, k_ext, k_int, mu_ext, mu_int, preconditioner = True, \n",
    "                                    parameters = parameters_mu)\n",
    "[_,PMCHWT_diag_mu_nf1]= PMCHWT_operator(grids, k_ext, k_int, mu_ext, mu_int, preconditioner = True, \n",
    "                                       parameters = parameters_mu_nf1)\n"
   ]
  },
  {
   "cell_type": "code",
   "execution_count": 11,
   "metadata": {},
   "outputs": [
    {
     "name": "stdout",
     "output_type": "stream",
     "text": [
      "creating mass-matrices\n",
      "assembly time for mass_matrix_BC_SNC: 0.054167985916137695\n",
      "assembly time for mass_matrix_bc: 0.015032768249511719\n"
     ]
    }
   ],
   "source": [
    "print('creating mass-matrices')\n",
    "# BC discretisation\n",
    "mass_matrix_BC_SNC = np.empty((2 * number_of_scatterers, 2 * number_of_scatterers), dtype='O')\n",
    "t0 = time.time()\n",
    "for i in range(number_of_scatterers):\n",
    "    for j in range(number_of_scatterers):\n",
    "        if i==j:\n",
    "            id_BC_SNC = bempp.api.operators.boundary.sparse.identity(bc_space[i], bc_space[i], b_snc_space[i])\n",
    "            inv_identity_BC_SNC = bempp.api.assembly.InverseSparseDiscreteBoundaryOperator(id_BC_SNC.weak_form())\n",
    "            mass_matrix_BC_SNC[2*i, 2*j] = inv_identity_BC_SNC\n",
    "            mass_matrix_BC_SNC[2*i + 1, 2*j + 1] = inv_identity_BC_SNC\n",
    "mass_matrix_BC_SNC = bempp.api.assembly.BlockedDiscreteOperator(mass_matrix_BC_SNC)\n",
    "ta_mass_matrix_BC_SNC = time.time() - t0\n",
    "print('assembly time for mass_matrix_BC_SNC: {0}'.format(ta_mass_matrix_BC_SNC))\n",
    "\n",
    "mass_matrix_BRWG_RBC = np.empty((2*number_of_scatterers, 2*number_of_scatterers), dtype = 'O')\n",
    "t0 = time.time()\n",
    "for i in range(number_of_scatterers):\n",
    "    for j in range(number_of_scatterers):\n",
    "        if i==j:\n",
    "            id_BRWG_RBC = bempp.api.operators.boundary.sparse.identity(b_rwg_space[i], b_rwg_space[i], rbc_space[i])\n",
    "            inv_identity_BRWG_RBC = bempp.api.assembly.InverseSparseDiscreteBoundaryOperator(id_BRWG_RBC.weak_form())\n",
    "            mass_matrix_BRWG_RBC[2*i, 2*j] = inv_identity_BRWG_RBC\n",
    "            mass_matrix_BRWG_RBC[2*i + 1, 2*j+1] = inv_identity_BRWG_RBC\n",
    "mass_matrix_BRWG_RBC = bempp.api.assembly.BlockedDiscreteOperator(mass_matrix_BRWG_RBC)\n",
    "ta_mass_matrix_BRWG_RBC = time.time() - t0\n",
    "print('assembly time for mass_matrix_bc: {0}'.format(ta_mass_matrix_BRWG_RBC))"
   ]
  },
  {
   "cell_type": "code",
   "execution_count": 12,
   "metadata": {},
   "outputs": [
    {
     "name": "stdout",
     "output_type": "stream",
     "text": [
      "assembly of PMCHWT operator - rwg discretisation - parameters_nu\n",
      "assembly time of op_nu_wf: 3.2594809532165527\n",
      "assembly time of op_none_sf: 3.3138444423675537\n"
     ]
    }
   ],
   "source": [
    "print('assembly of PMCHWT operator - rwg discretisation - parameters_nu')\n",
    "\n",
    "t0 = time.time()\n",
    "PMCHWT_nu_wf = PMCHWT_nu.weak_form()\n",
    "ta_PMCHWT_nu_wf = time.time()- t0\n",
    "print('assembly time of op_nu_wf: {0}'.format(ta_PMCHWT_nu_wf))\n",
    "\n",
    "t0 = time.time()\n",
    "PMCHWT_nu_sf = mass_matrix_BC_SNC * PMCHWT_nu_wf\n",
    "ta_PMCHWT_nu_sf = time.time() - t0 + ta_PMCHWT_nu_wf + ta_mass_matrix_BC_SNC\n",
    "print('assembly time of op_none_sf: {0}'.format(ta_PMCHWT_nu_sf))"
   ]
  },
  {
   "cell_type": "code",
   "execution_count": 13,
   "metadata": {},
   "outputs": [
    {
     "name": "stdout",
     "output_type": "stream",
     "text": [
      "assembly of PMCHWT diag preconditioner - parameters_nu\n"
     ]
    }
   ],
   "source": [
    "print('assembly of PMCHWT diag preconditioner - parameters_nu')\n",
    "t0 = time.time()\n",
    "PMCHWT_diag_nu_wf = PMCHWT_diag_nu.weak_form()\n",
    "ta_PMCHWT_diag_nu_wf = time.time() - t0"
   ]
  },
  {
   "cell_type": "code",
   "execution_count": 14,
   "metadata": {},
   "outputs": [
    {
     "name": "stdout",
     "output_type": "stream",
     "text": [
      "assembly of Cald_nu prec\n",
      "time_wf: 74.66456961631775\n",
      "time_sf: 74.67991352081299\n"
     ]
    }
   ],
   "source": [
    "print('assembly of Cald_nu prec')\n",
    "\n",
    "t0 = time.time()\n",
    "op_cald_nu_wf = PMCHWT_diag_nu_wf * mass_matrix_BC_SNC * PMCHWT_nu_wf\n",
    "ta_cald_nu_wf = time.time() - t0 + ta_mass_matrix_BC_SNC + ta_PMCHWT_diag_nu_wf + ta_PMCHWT_nu_wf \n",
    "\n",
    "t0 = time.time()\n",
    "op_cald_nu_sf = mass_matrix_BRWG_RBC * op_cald_nu_wf\n",
    "ta_cald_nu_sf = time.time() - t0 + ta_cald_nu_wf + ta_mass_matrix_BRWG_RBC\n",
    "\n",
    "print('time_wf: {0}'.format(ta_cald_nu_wf))\n",
    "print('time_sf: {0}'.format(ta_cald_nu_sf))\n",
    "\n"
   ]
  },
  {
   "cell_type": "code",
   "execution_count": 15,
   "metadata": {},
   "outputs": [
    {
     "name": "stdout",
     "output_type": "stream",
     "text": [
      "assembly of bi-Cald prec \n",
      "time_wf: 13.48150110244751\n",
      "time_sf: 13.496683835983276\n"
     ]
    }
   ],
   "source": [
    "print('assembly of bi-Cald prec ')\n",
    "t0 = time.time()\n",
    "PMCHWT_diag_mu_wf = PMCHWT_diag_mu.weak_form()\n",
    "ta_PMCHWT_diag_mu_wf = time.time()-t0\n",
    "\n",
    "t0 = time.time()\n",
    "op_cald_bi_wf = PMCHWT_diag_mu_wf * mass_matrix_BC_SNC * PMCHWT_nu_wf\n",
    "ta_cald_bi_wf = time.time() - t0 + ta_PMCHWT_nu_wf + ta_mass_matrix_BC_SNC + ta_PMCHWT_diag_mu_wf\n",
    "\n",
    "t0 = time.time()\n",
    "op_cald_bi_sf = mass_matrix_BRWG_RBC * op_cald_bi_wf\n",
    "ta_cald_bi_sf = time.time() - t0 + ta_cald_bi_wf + ta_mass_matrix_BRWG_RBC\n",
    "\n",
    "print('time_wf: {0}'.format(ta_cald_bi_wf))\n",
    "print('time_sf: {0}'.format(ta_cald_bi_sf))"
   ]
  },
  {
   "cell_type": "code",
   "execution_count": 16,
   "metadata": {},
   "outputs": [
    {
     "name": "stdout",
     "output_type": "stream",
     "text": [
      "assembly of bi-Cald prec near field1\n",
      "time_wf: 10.991671085357666\n",
      "time_sf: 11.006855726242065\n"
     ]
    }
   ],
   "source": [
    "print('assembly of bi-Cald prec near field1')\n",
    "t0 = time.time()\n",
    "PMCHWT_diag_mu_nf1_wf = PMCHWT_diag_mu_nf1.weak_form()\n",
    "ta_PMCHWT_diag_mu_nf1_wf = time.time()-t0\n",
    "\n",
    "t0 = time.time()\n",
    "op_cald_bi_nf1_wf = PMCHWT_diag_mu_nf1_wf * mass_matrix_BC_SNC * PMCHWT_nu_wf\n",
    "ta_cald_bi_nf1_wf = time.time() - t0 + ta_PMCHWT_nu_wf + ta_mass_matrix_BC_SNC + ta_PMCHWT_diag_mu_nf1_wf\n",
    "\n",
    "t0 = time.time()\n",
    "op_cald_bi_nf1_sf = mass_matrix_BRWG_RBC * op_cald_bi_nf1_wf\n",
    "ta_cald_bi_nf1_sf = time.time() - t0 + ta_cald_bi_nf1_wf + ta_mass_matrix_BRWG_RBC\n",
    "\n",
    "print('time_wf: {0}'.format(ta_cald_bi_nf1_wf))\n",
    "print('time_sf: {0}'.format(ta_cald_bi_nf1_sf))"
   ]
  },
  {
   "cell_type": "code",
   "execution_count": 17,
   "metadata": {},
   "outputs": [
    {
     "name": "stdout",
     "output_type": "stream",
     "text": [
      "defining incident field - RWG\n"
     ]
    }
   ],
   "source": [
    "## Discretize the incident field\n",
    "print('defining incident field - RWG')\n",
    "incident_field_RWG = number_of_scatterers * [None]\n",
    "for i in range(number_of_scatterers):\n",
    "    dirichlet_trace_RWG = bempp.api.GridFunction(rwg_space[i], fun=dirichlet_trace_fun)\n",
    "    neumann_trace_RWG = (k_ext/mu_ext) * bempp.api.GridFunction(rwg_space[i], fun = neumann_trace_fun)\n",
    "    incident_field_RWG[i] = dirichlet_trace_RWG.coefficients.tolist() +  neumann_trace_RWG.coefficients.tolist()\n",
    "    "
   ]
  },
  {
   "cell_type": "code",
   "execution_count": 18,
   "metadata": {},
   "outputs": [
    {
     "name": "stdout",
     "output_type": "stream",
     "text": [
      "rhs_nu wf & sf\n",
      "rhs_cald_nu wf & sf\n",
      "rhs_cald_bi wf & sf\n",
      "rhs_cald_bi_nf1 wf & sf\n"
     ]
    }
   ],
   "source": [
    "# Assembly of RHS operators\n",
    "\n",
    "print('rhs_nu wf & sf')\n",
    "rhs_nu_wf = []#number_of_scatterers * [None]\n",
    "for i in range(number_of_scatterers):\n",
    "    rhs_nu_wf.append(filter_operators_nu[i].weak_form() * incident_field_RWG[i])\n",
    "rhs_nu_sf = mass_matrix_BC_SNC * [y for x in rhs_nu_wf for y in x]\n",
    "rhs_nu_wf = [y for x in rhs_nu_wf for y in x]\n",
    "\n",
    "print('rhs_cald_nu wf & sf')\n",
    "rhs_cald_nu_wf = PMCHWT_diag_nu_wf * mass_matrix_BC_SNC *rhs_nu_wf\n",
    "rhs_cald_nu_sf = mass_matrix_BRWG_RBC * rhs_cald_nu_wf\n",
    "\n",
    "print('rhs_cald_bi wf & sf')\n",
    "rhs_cald_bi_wf = PMCHWT_diag_mu_wf * mass_matrix_BC_SNC * rhs_nu_wf\n",
    "rhs_cald_bi_sf = mass_matrix_BRWG_RBC * rhs_cald_bi_wf\n",
    "\n",
    "print('rhs_cald_bi_nf1 wf & sf')\n",
    "rhs_cald_bi_nf1_wf = PMCHWT_diag_mu_nf1_wf * mass_matrix_BC_SNC * rhs_nu_wf\n",
    "rhs_cald_bi_nf1_sf = mass_matrix_BRWG_RBC * rhs_cald_bi_nf1_wf\n",
    "\n"
   ]
  },
  {
   "cell_type": "code",
   "execution_count": 19,
   "metadata": {
    "scrolled": true
   },
   "outputs": [
    {
     "name": "stdout",
     "output_type": "stream",
     "text": [
      "solve of PMCHWT_nu sf\n",
      "number of iterations: 844\n",
      "0\n",
      "solver of Calderon_nu sf\n",
      "number of iterations: 6\n",
      "0\n",
      "solver of bi-Calderon sf\n",
      "number of iterations: 7\n",
      "0\n",
      "solver of bi-Calderon near field1 sf\n",
      "number of iterations: 7\n",
      "0\n"
     ]
    }
   ],
   "source": [
    "#### solving the linear system\n",
    "tolerance = 1e-5\n",
    "restart = 200\n",
    "maxiter = 2000\n",
    "\n",
    "print('solve of PMCHWT_nu sf')\n",
    "bempp.api.MATVEC_COUNT = 0\n",
    "t0 = time.time()\n",
    "c_PMCHWT_nu_sf,  info_PMCHWT_nu_sf, res_PMCHWT_nu_sf  = gmres(PMCHWT_nu_sf, rhs_nu_sf, tol=tolerance, restart=restart,\n",
    "                                                              return_residuals=True, maxiter=maxiter)\n",
    "ts_PMCHWT_nu_sf = time.time()-t0\n",
    "matvec_PMCHWT_nu_sf = bempp.api.MATVEC_COUNT\n",
    "print('number of iterations: {0}'.format(len(res_PMCHWT_nu_sf)))\n",
    "print(matvec_PMCHWT_nu_sf)\n",
    "\n",
    "######################################################################################################\n",
    "print('solver of Calderon_nu sf')\n",
    "bempp.api.MATVEC_COUNT = 0\n",
    "t0 = time.time()\n",
    "c_cald_nu_sf,  info_cald_nu_sf, res_cald_nu_sf  = gmres(op_cald_nu_sf, rhs_cald_nu_sf, tol=tolerance, restart=restart, \n",
    "                                            return_residuals=True, maxiter=maxiter)\n",
    "ts_cald_nu_sf = time.time()-t0\n",
    "matvec_cald_nu_sf = bempp.api.MATVEC_COUNT \n",
    "print('number of iterations: {0}'.format(len(res_cald_nu_sf)))\n",
    "print(matvec_cald_nu_sf)\n",
    "# ######################################################################################################\n",
    "print('solver of bi-Calderon sf')\n",
    "bempp.api.MATVEC_COUNT = 0\n",
    "t0 = time.time()\n",
    "c_bi_sf,  info_bi_sf, res_bi_sf  = gmres(op_cald_bi_sf, rhs_cald_bi_sf, tol=tolerance, restart=restart, \n",
    "                                         return_residuals=True, maxiter=maxiter)\n",
    "ts_bi_sf = time.time()-t0\n",
    "matvec_bi_sf = bempp.api.MATVEC_COUNT \n",
    "print('number of iterations: {0}'.format(len(res_bi_sf)))\n",
    "print(matvec_bi_sf)\n",
    "######################################################################################################\n",
    "print('solver of bi-Calderon near field1 sf')\n",
    "bempp.api.MATVEC_COUNT = 0\n",
    "t0 = time.time()\n",
    "c_bi_nf1_sf,  info_bi_nf1_sf, res_bi_nf1_sf  = gmres(op_cald_bi_nf1_sf, rhs_cald_bi_nf1_sf, tol=tolerance, restart=restart, \n",
    "                                            return_residuals=True, maxiter=maxiter)\n",
    "ts_bi_nf1_sf = time.time()-t0\n",
    "matvec_bi_nf1_sf = bempp.api.MATVEC_COUNT \n",
    "print('number of iterations: {0}'.format(len(res_bi_nf1_sf)))\n",
    "print(matvec_bi_nf1_sf)"
   ]
  },
  {
   "cell_type": "code",
   "execution_count": 20,
   "metadata": {},
   "outputs": [],
   "source": [
    "memory_diag_nu = get_memory(number_of_scatterers, PMCHWT_diag_nu_wf)\n",
    "memory_diag_mu1 = get_memory(number_of_scatterers, PMCHWT_diag_mu_wf)\n",
    "memory_diag_mu_nf1 = get_memory(number_of_scatterers, PMCHWT_diag_mu_nf1_wf)"
   ]
  },
  {
   "cell_type": "code",
   "execution_count": 21,
   "metadata": {},
   "outputs": [],
   "source": [
    "table = [\n",
    "    [np.nan, np.nan, np.nan, nu, quad_nu, len(res_PMCHWT_nu_sf), np.nan, ta_PMCHWT_nu_sf,  ts_PMCHWT_nu_sf, ta_PMCHWT_nu_sf + ts_PMCHWT_nu_sf], \n",
    "    [np.nan, np.nan, np.nan, nu, quad_nu, len(res_cald_nu_sf), memory_diag_nu, ta_cald_nu_sf, ts_cald_nu_sf, (ta_cald_nu_sf+ts_cald_nu_sf)], #cald_nu_sf    \n",
    "    [np.nan, parameters_mu.hmat.eps, quad_mu, nu, quad_nu, len(res_bi_sf), memory_diag_mu1, ta_cald_bi_sf, ts_bi_sf, (ta_cald_bi_sf+ts_bi_sf)], #Bi_sf\n",
    "    [parameters_mu_nf1.hmat.cutoff, parameters_mu_nf1.hmat.eps , quad_mu, nu, quad_nu, len(res_bi_nf1_sf), memory_diag_mu_nf1, ta_cald_bi_nf1_sf, ts_bi_nf1_sf, (ta_cald_bi_nf1_sf+ts_bi_nf1_sf)] #bi_nf_sf\n",
    "    ]"
   ]
  },
  {
   "cell_type": "code",
   "execution_count": 22,
   "metadata": {},
   "outputs": [],
   "source": [
    "lines = list(['$(\\mathbf{A})_\\nu$  -  sf',\n",
    "              '$(\\mathbf{DA})_\\nu$  -  sf', \n",
    "              '$(\\mathbf{DA})_{\\mu,\\nu}$  -  sf', \n",
    "              '$(\\mathbf{DA})_{\\mu,\\nu}^{nf}$-sf'])\n",
    "columns = list(['$nf$','$\\mu$','$\\mathbf{q}_\\mu$','$v$','$\\mathbf{q}_v$','$n_{iter}$', 'mem$(\\mathbf{P})$',\n",
    "                '$t_{assembly}$','$t_{solver}$', '$t_{total}$'])"
   ]
  },
  {
   "cell_type": "code",
   "execution_count": 23,
   "metadata": {},
   "outputs": [
    {
     "data": {
      "text/html": [
       "<div>\n",
       "<style scoped>\n",
       "    .dataframe tbody tr th:only-of-type {\n",
       "        vertical-align: middle;\n",
       "    }\n",
       "\n",
       "    .dataframe tbody tr th {\n",
       "        vertical-align: top;\n",
       "    }\n",
       "\n",
       "    .dataframe thead th {\n",
       "        text-align: right;\n",
       "    }\n",
       "</style>\n",
       "<table border=\"1\" class=\"dataframe\">\n",
       "  <thead>\n",
       "    <tr style=\"text-align: right;\">\n",
       "      <th></th>\n",
       "      <th>$nf$</th>\n",
       "      <th>$\\mu$</th>\n",
       "      <th>$\\mathbf{q}_\\mu$</th>\n",
       "      <th>$v$</th>\n",
       "      <th>$\\mathbf{q}_v$</th>\n",
       "      <th>$n_{iter}$</th>\n",
       "      <th>mem$(\\mathbf{P})$</th>\n",
       "      <th>$t_{assembly}$</th>\n",
       "      <th>$t_{solver}$</th>\n",
       "      <th>$t_{total}$</th>\n",
       "    </tr>\n",
       "  </thead>\n",
       "  <tbody>\n",
       "    <tr>\n",
       "      <th>$(\\mathbf{A})_\\nu$  -  sf</th>\n",
       "      <td>-</td>\n",
       "      <td>-</td>\n",
       "      <td>-</td>\n",
       "      <td>0.001</td>\n",
       "      <td>[4, 3, 2, 6]</td>\n",
       "      <td>844</td>\n",
       "      <td>-</td>\n",
       "      <td>3.3138444424</td>\n",
       "      <td>11.2720625401</td>\n",
       "      <td>14.5859069824</td>\n",
       "    </tr>\n",
       "    <tr>\n",
       "      <th>$(\\mathbf{DA})_\\nu$  -  sf</th>\n",
       "      <td>-</td>\n",
       "      <td>-</td>\n",
       "      <td>-</td>\n",
       "      <td>0.001</td>\n",
       "      <td>[4, 3, 2, 6]</td>\n",
       "      <td>6</td>\n",
       "      <td>222510.3125</td>\n",
       "      <td>74.6799135208</td>\n",
       "      <td>0.9344356060</td>\n",
       "      <td>75.6143491268</td>\n",
       "    </tr>\n",
       "    <tr>\n",
       "      <th>$(\\mathbf{DA})_{\\mu,\\nu}$  -  sf</th>\n",
       "      <td>-</td>\n",
       "      <td>0.1</td>\n",
       "      <td>[1, 1, 1, 1]</td>\n",
       "      <td>0.001</td>\n",
       "      <td>[4, 3, 2, 6]</td>\n",
       "      <td>7</td>\n",
       "      <td>126432.3125</td>\n",
       "      <td>13.4966838360</td>\n",
       "      <td>0.9301455021</td>\n",
       "      <td>14.4268293381</td>\n",
       "    </tr>\n",
       "    <tr>\n",
       "      <th>$(\\mathbf{DA})_{\\mu,\\nu}^{nf}$-sf</th>\n",
       "      <td>0</td>\n",
       "      <td>0.1</td>\n",
       "      <td>[1, 1, 1, 1]</td>\n",
       "      <td>0.001</td>\n",
       "      <td>[4, 3, 2, 6]</td>\n",
       "      <td>7</td>\n",
       "      <td>126432.3125</td>\n",
       "      <td>11.0068557262</td>\n",
       "      <td>0.9090249538</td>\n",
       "      <td>11.9158806801</td>\n",
       "    </tr>\n",
       "  </tbody>\n",
       "</table>\n",
       "</div>"
      ],
      "text/plain": [
       "                $nf$ $\\mu$ $\\mathbf{q}_\\mu$    $v$ $\\mathbf{q}_v$  $n_{iter}$ mem$(\\mathbf{P})$  $t_{assembly}$   $t_{solver}$    $t_{total}$\n",
       "$(\\mathbf{A}...    -     -               -   0.001   [4, 3, 2, 6]         844               -      3.3138444424  11.2720625401  14.5859069824\n",
       "$(\\mathbf{DA...    -     -               -   0.001   [4, 3, 2, 6]           6     222510.3125     74.6799135208   0.9344356060  75.6143491268\n",
       "$(\\mathbf{DA...    -   0.1    [1, 1, 1, 1]   0.001   [4, 3, 2, 6]           7     126432.3125     13.4966838360   0.9301455021  14.4268293381\n",
       "$(\\mathbf{DA...    0   0.1    [1, 1, 1, 1]   0.001   [4, 3, 2, 6]           7     126432.3125     11.0068557262   0.9090249538  11.9158806801"
      ]
     },
     "execution_count": 23,
     "metadata": {},
     "output_type": "execute_result"
    }
   ],
   "source": [
    "import pandas as pd\n",
    "pd.set_option('display.precision',10)\n",
    "pd.set_option('display.expand_frame_repr', False)\n",
    "pd.set_option('display.max_colwidth', 15)\n",
    "\n",
    "result = pd.DataFrame(table,index = lines,columns = columns)\n",
    "\n",
    "result = result.replace(np.nan,\"-\")\n",
    "\n",
    "\n",
    "result"
   ]
  },
  {
   "cell_type": "code",
   "execution_count": null,
   "metadata": {},
   "outputs": [],
   "source": []
  }
 ],
 "metadata": {
  "kernelspec": {
   "display_name": "Python 3",
   "language": "python",
   "name": "python3"
  },
  "language_info": {
   "codemirror_mode": {
    "name": "ipython",
    "version": 3
   },
   "file_extension": ".py",
   "mimetype": "text/x-python",
   "name": "python",
   "nbconvert_exporter": "python",
   "pygments_lexer": "ipython3",
   "version": "3.5.2"
  }
 },
 "nbformat": 4,
 "nbformat_minor": 2
}
