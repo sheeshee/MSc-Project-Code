{
 "cells": [
  {
   "cell_type": "markdown",
   "metadata": {},
   "source": [
    "# Application 1:  a simple nested cube with no preconditioner"
   ]
  },
  {
   "cell_type": "code",
   "execution_count": 2,
   "metadata": {},
   "outputs": [],
   "source": [
    "# PARAMETERS\n",
    "\n",
    "## PHYSICS\n",
    "k = {\n",
    "    'e': 1,\n",
    "    'i': 1,\n",
    "    'w': 1.2,\n",
    "}\n",
    "\n",
    "mu = 1\n",
    "\n",
    "## COMPUTING\n",
    "element_size = 0.5"
   ]
  },
  {
   "cell_type": "markdown",
   "metadata": {},
   "source": [
    "# Imports"
   ]
  },
  {
   "cell_type": "code",
   "execution_count": 3,
   "metadata": {},
   "outputs": [],
   "source": [
    "import time\n",
    "from collections import namedtuple\n",
    "import numpy as np\n",
    "import bempp.api\n",
    "\n",
    "from bempp.api import function_space, assembly\n",
    "from bempp.api.operators.boundary import maxwell\n",
    "\n",
    "\n",
    "from bempp.core.common.global_parameters import global_parameters # Interface to define global_parameters for operators\n",
    "\n",
    "bempp.api.set_ipython_notebook_viewer()"
   ]
  },
  {
   "cell_type": "markdown",
   "metadata": {},
   "source": [
    "# Create grid\n",
    "\n",
    "This problem domain consists of two cubes: one large and one small. The small cube is positioned at the center of the large cube."
   ]
  },
  {
   "cell_type": "code",
   "execution_count": 4,
   "metadata": {},
   "outputs": [],
   "source": [
    "Space = namedtuple('Space', ['domain', 'range_space', 'dual_to_range'])\n",
    "\n",
    "def discretize(grid, method=\"RWG\", dtr_method=\"SNC\"):\n",
    "    \"\"\"\n",
    "    Returns a named tuple containing the discretised boundaries of the\n",
    "    given grid according to the method specified.\n",
    "    \"\"\"\n",
    "    return Space(\n",
    "        domain=function_space(grid, method, 0),\n",
    "        range_space=function_space(grid, method, 0),\n",
    "        dual_to_range=function_space(grid, dtr_method, 0)\n",
    "    )\n",
    "\n",
    "# Cubes are centered by default\n",
    "small_cube = discretize(bempp.api.shapes.cube(length=1, h=element_size))\n",
    "large_cube = discretize(bempp.api.shapes.cube(length=2, h=element_size))"
   ]
  },
  {
   "cell_type": "code",
   "execution_count": 5,
   "metadata": {},
   "outputs": [],
   "source": [
    "bempp.api.space.space.Space??"
   ]
  },
  {
   "cell_type": "code",
   "execution_count": 16,
   "metadata": {},
   "outputs": [
    {
     "name": "stdout",
     "output_type": "stream",
     "text": [
      "2\n",
      "390\n",
      "780\n",
      "2\n",
      "126\n",
      "252\n",
      "\n",
      "516\n",
      "1032\n"
     ]
    }
   ],
   "source": [
    "x = large_cube.dual_to_range\n",
    "print(\n",
    "    x.domain_dimension,\n",
    "    x.global_dof_count,\n",
    "    x.flat_local_dof_count,\n",
    "    sep='\\n'\n",
    ")\n",
    "y = small_cube.dual_to_range\n",
    "print(\n",
    "    y.domain_dimension,\n",
    "    y.global_dof_count,\n",
    "    y.flat_local_dof_count,\n",
    "    sep='\\n'\n",
    ")\n",
    "print()\n",
    "print(x.global_dof_count+y.global_dof_count)\n",
    "print(x.flat_local_dof_count+y.flat_local_dof_count)"
   ]
  },
  {
   "cell_type": "markdown",
   "metadata": {},
   "source": [
    "# Setup the Operator\n",
    "\n",
    "$$\n",
    "\\mathcal{A}\n",
    "=\n",
    "\\begin{bmatrix}\n",
    "    -(\\mathcal{A}^w_1 + \\mathcal{A}^1_1) & \\mathcal{A}^w_{1,w} \\\\\n",
    "    -\\mathcal{A}^w_{w,1}               & \\mathcal{A}^w_w + \\mathcal{A}^e_w \\\\\n",
    "\\end{bmatrix}\n",
    "$$"
   ]
  },
  {
   "cell_type": "code",
   "execution_count": 27,
   "metadata": {},
   "outputs": [],
   "source": [
    "def to_block_op(mfie, efie):\n",
    "    \"\"\"\n",
    "    Build the standard block operator from the given integral equations.\n",
    "    \"\"\"\n",
    "    A = assembly.BlockedOperator(2, 2) # empty operator object\n",
    "    # NOTE apply scaling like Antigoni?\n",
    "    A[0,0] = mfie\n",
    "    A[0,1] = efie\n",
    "    A[1,0] = -1 * efie\n",
    "    A[1,1] = mfie\n",
    "    return A\n",
    "\n",
    "\n",
    "def get_simple_block_op(space, k):\n",
    "    \"\"\"\n",
    "    Return a 2x2 block operator defining the block matrix that would\n",
    "    act on the given grid.\n",
    "    \n",
    "    This is similar to the `multitrace_operator` constructor, but it\n",
    "    allows us to specify exactly which boundary disretisation functions\n",
    "    to use.\n",
    "    \"\"\"\n",
    "    efie = maxwell.electric_field(\n",
    "        space.domain, space.range_space, space.dual_to_range,k,\n",
    "    )\n",
    "    mfie = maxwell.magnetic_field(\n",
    "        space.domain, space.range_space, space.dual_to_range, k,\n",
    "    )\n",
    "    A = to_block_op(mfie, efie)\n",
    "    \n",
    "    return A\n",
    "\n",
    "\n",
    "def get_mixed_block_op(target, source, k):\n",
    "    \"\"\"\n",
    "    Return a 2x2 block operator that defines the interferences on\n",
    "    `grid_a` by `grid_b`.\n",
    "    \"\"\"\n",
    "    efie = maxwell.electric_field(\n",
    "        source.domain, target.range_space, target.dual_to_range, k\n",
    "    )\n",
    "    mfie = maxwell.magnetic_field(\n",
    "        source.domain, target.range_space, target.dual_to_range, k\n",
    "    )\n",
    "    A = to_block_op(mfie, efie)\n",
    "    return A\n",
    "    \n",
    "\n",
    "def assign_inplace_subblock(A, a, i, j):\n",
    "    \"\"\"\n",
    "    Assigns the 4 elements of a to the 2x2 block of A\n",
    "    specified by the indexes i and j.\n",
    "    \"\"\"\n",
    "    bi = 2*i\n",
    "    bj = 2*j\n",
    "    A[bi, bj]     = a[0, 0]\n",
    "    A[bi, bj+1]   = a[0, 1]\n",
    "    A[bi+1, bj]   = a[1, 0]\n",
    "    A[bi+1, bj+1] = a[1, 1]\n",
    "    \n",
    "\n",
    "def PMCHWT_operator(\n",
    "        small_cube, large_cube, k_int, k_wal, k_ext, mu, parameters\n",
    "    ):\n",
    "    \"\"\"\n",
    "    Build the operator for the nested shape problem formulation.\n",
    "    \"\"\"\n",
    "    # small cube\n",
    "    A1_1 = get_simple_block_op(small_cube, k_int)\n",
    "    Aw_1 = get_simple_block_op(small_cube, k_wal)\n",
    "    # large cube\n",
    "    Aw_w = get_simple_block_op(large_cube, k_wal)\n",
    "    Ae_w = get_simple_block_op(large_cube, k_ext)\n",
    "    # mixed (target, source, k)\n",
    "    Aw_1w = get_mixed_block_op(small_cube, large_cube, k_wal)\n",
    "    Aw_w1 = get_mixed_block_op(large_cube, small_cube, k_wal)\n",
    "   \n",
    "    # assemble the blocks\n",
    "    A = assembly.BlockedOperator(2 * 2, 2 * 2)\n",
    "    assign_inplace_subblock(A, -(Aw_1 + A1_1), 0, 0)\n",
    "    assign_inplace_subblock(A,   Aw_1w,        0, 1)\n",
    "    assign_inplace_subblock(A, - Aw_w1,        1, 0)\n",
    "    assign_inplace_subblock(A,   Aw_w + Ae_w,  1, 1)\n",
    "    \n",
    "    return A\n",
    "\n",
    "    \n",
    "A = PMCHWT_operator(small_cube, large_cube, k['i'], k['w'], k['e'], None, None)"
   ]
  },
  {
   "cell_type": "code",
   "execution_count": 33,
   "metadata": {},
   "outputs": [
    {
     "name": "stdout",
     "output_type": "stream",
     "text": [
      "[<bempp.api.space.space.RWGSpace object at 0x7f69022eafd0>, <bempp.api.space.space.RWGSpace object at 0x7f69022eafd0>, <bempp.api.space.space.RWGSpace object at 0x7f69022fd9e8>, <bempp.api.space.space.RWGSpace object at 0x7f69022fd9e8>]\n",
      "[252, 252, 780, 780]\n",
      "2064\n"
     ]
    }
   ],
   "source": [
    "spaces_in_A = [d.flat_local_dof_count for d in A._range_spaces]\n",
    "print([d for d in A._domain_spaces], sep='\\n')\n",
    "print(spaces_in_A)\n",
    "print(sum(spaces_in_A))"
   ]
  },
  {
   "cell_type": "markdown",
   "metadata": {},
   "source": [
    "# Discretize the incident field"
   ]
  },
  {
   "cell_type": "code",
   "execution_count": 5,
   "metadata": {},
   "outputs": [],
   "source": [
    "#\n",
    "# Antigoni's code\n",
    "#\n",
    "if False:\n",
    "    def incident_field(x):\n",
    "        return np.array([0. * x[2], 0. * x[2], np.exp(1j * k_ext * x[0])])\n",
    "\n",
    "\n",
    "    def dirichlet_trace_fun(x, n, domain_index, result):\n",
    "        result[:] = np.cross(incident_field(x), n)\n",
    "\n",
    "\n",
    "    def curl(incident_field,x):\n",
    "        return np.array([0,  - 1j * k_ext * np.exp(1j * k_ext * x[0]), 0])\n",
    "\n",
    "\n",
    "    def neumann_trace_fun(x, n, domain_index, result):\n",
    "        result[:] = (1/(1j * k_ext)) * np.cross(curl(incident_field,x), n)\n",
    "\n",
    "\n",
    "    incident_field_RWG = number_of_scatterers * [None]\n",
    "    for i in range(number_of_scatterers):\n",
    "        dirichlet_trace_RWG = bempp.api.GridFunction(rwg_space[i], fun=dirichlet_trace_fun)\n",
    "        neumann_trace_RWG = (k_ext/mu_ext) * bempp.api.GridFunction(rwg_space[i], fun = neumann_trace_fun)\n",
    "        incident_field_RWG[i] = dirichlet_trace_RWG.coefficients.tolist() +  neumann_trace_RWG.coefficients.tolist()"
   ]
  },
  {
   "cell_type": "code",
   "execution_count": 92,
   "metadata": {},
   "outputs": [],
   "source": [
    "def incident_field(x):\n",
    "    return np.array([0. * x[2], 0. * x[2], np.exp(1j * k['e'] * x[0])])\n",
    "\n",
    "\n",
    "def dirichlet_trace_fun(x, n, domain_index, result):\n",
    "    result[:] = np.cross(incident_field(x), n)\n",
    "\n",
    "    \n",
    "def curl(incident_field,x):\n",
    "    return np.array([0,  - 1j * k['e'] * np.exp(1j * k['e'] * x[0]), 0])\n",
    "\n",
    "\n",
    "def neumann_trace_fun(x, n, domain_index, result):\n",
    "    result[:] = (1/(1j * k['e'])) * np.cross(curl(incident_field,x), n)\n",
    "\n",
    "# for small cube\n",
    "Dtrace_small = bempp.api.GridFunction(large_cube.domain, fun=dirichlet_trace_fun)\n",
    "Ntrace_small = (k['e']/mu) * bempp.api.GridFunction(large_cube.domain, fun=neumann_trace_fun)\n",
    "# for large cube\n",
    "Dtrace_large = bempp.api.GridFunction(large_cube.domain, fun=dirichlet_trace_fun)\n",
    "Ntrace_large = (k['e']/mu) * bempp.api.GridFunction(large_cube.domain, fun=neumann_trace_fun)\n",
    "# combine\n",
    "u_inc = [\n",
    "    Dtrace_small.coefficients.tolist() + Ntrace_small.coefficients.tolist(),\n",
    "    Dtrace_large.coefficients.tolist() + Ntrace_large.coefficients.tolist()\n",
    "]"
   ]
  },
  {
   "cell_type": "code",
   "execution_count": 93,
   "metadata": {},
   "outputs": [
    {
     "name": "stdout",
     "output_type": "stream",
     "text": [
      "780\n",
      "780\n"
     ]
    }
   ],
   "source": [
    "print(len(u_inc[0]))\n",
    "print(len(u_inc[1]))"
   ]
  },
  {
   "cell_type": "markdown",
   "metadata": {},
   "source": [
    "# Assemble the RHS\n",
    "\n",
    "$$\n",
    "f = \\begin{bmatrix}\n",
    "    - \\mathcal{A_{1w}} \\\\\n",
    "    - (\\mathcal{A_{w}} - \\frac{1}{2} \\mathcal{I})\n",
    "\\end{bmatrix}\n",
    "$$"
   ]
  },
  {
   "cell_type": "code",
   "execution_count": 94,
   "metadata": {},
   "outputs": [],
   "source": [
    "def get_identity_op(space):\n",
    "    \"\"\"\n",
    "    Create an identity operator matching the given space\n",
    "    \"\"\"\n",
    "    i = bempp.api.operators.boundary.sparse.identity(\n",
    "        space.domain, space.range_space, space.dual_to_range\n",
    "    )\n",
    "    I = assembly.BlockedOperator(2, 2)\n",
    "    I[0, 0] = i\n",
    "    I[1, 1] = i\n",
    "    return I\n",
    "    \n",
    "\n",
    "Aw_1w = get_mixed_block_op(small_cube, large_cube, k['w'])\n",
    "Aw_w  = get_simple_block_op(large_cube, k['w'])\n",
    "I = get_identity_op(large_cube)"
   ]
  },
  {
   "cell_type": "code",
   "execution_count": 95,
   "metadata": {},
   "outputs": [
    {
     "name": "stdout",
     "output_type": "stream",
     "text": [
      "[780, 780]\n",
      "[252, 252]\n",
      "[780, 780]\n",
      "[780, 780]\n",
      "780\n"
     ]
    }
   ],
   "source": [
    "print([d.flat_local_dof_count for d in Aw_1w._domain_spaces])\n",
    "print([d.flat_local_dof_count for d in Aw_1w._range_spaces])\n",
    "print([d.flat_local_dof_count for d in Aw_w._domain_spaces])\n",
    "print([d.flat_local_dof_count for d in Aw_w._range_spaces])\n",
    "print(I._domain_spaces[0].flat_local_dof_count)"
   ]
  },
  {
   "cell_type": "code",
   "execution_count": 96,
   "metadata": {},
   "outputs": [
    {
     "data": {
      "text/plain": [
       "780"
      ]
     },
     "execution_count": 96,
     "metadata": {},
     "output_type": "execute_result"
    }
   ],
   "source": [
    "len(u_inc[0])"
   ]
  },
  {
   "cell_type": "code",
   "execution_count": 97,
   "metadata": {},
   "outputs": [
    {
     "data": {
      "text/plain": [
       "<252x780 BlockedDiscreteOperator with dtype=complex128>"
      ]
     },
     "execution_count": 97,
     "metadata": {},
     "output_type": "execute_result"
    }
   ],
   "source": [
    "Aw_1w.weak_form()"
   ]
  },
  {
   "cell_type": "code",
   "execution_count": 98,
   "metadata": {},
   "outputs": [],
   "source": [
    "pre = [\n",
    "    - Aw_1w.weak_form() * u_inc[0],\n",
    "    - (Aw_w.weak_form() - 1/2 * I.weak_form()) * u_inc[1]\n",
    "]\n",
    "# flatten list of lists\n",
    "f = [y for x in pre for y in x]"
   ]
  },
  {
   "cell_type": "markdown",
   "metadata": {},
   "source": [
    "# Solve the Linear System"
   ]
  },
  {
   "cell_type": "code",
   "execution_count": 60,
   "metadata": {},
   "outputs": [],
   "source": [
    "from antigoni.login import gmres"
   ]
  },
  {
   "cell_type": "code",
   "execution_count": 54,
   "metadata": {},
   "outputs": [],
   "source": [
    "if False:\n",
    "    c_PMCHWT_nu_sf, info_PMCHWT_nu_sf, res_PMCHWT_nu_sf = gmres(\n",
    "        PMCHWT_nu_sf, rhs_nu_sf, tol=tolerance, restart=restart,\n",
    "        return_residuals=True, maxiter=maxiter\n",
    "    )"
   ]
  },
  {
   "cell_type": "code",
   "execution_count": 102,
   "metadata": {},
   "outputs": [],
   "source": [
    "# In the last run this stoped convergin around i=4000\n",
    "# consider setting maxiter to this number for testing\n",
    "x, info, residuals = gmres(A.weak_form(), f, return_residuals=True)"
   ]
  },
  {
   "cell_type": "markdown",
   "metadata": {},
   "source": [
    "# Plot"
   ]
  },
  {
   "cell_type": "code",
   "execution_count": 122,
   "metadata": {},
   "outputs": [],
   "source": [
    "import matplotlib.pyplot as plt"
   ]
  },
  {
   "cell_type": "code",
   "execution_count": 128,
   "metadata": {},
   "outputs": [
    {
     "data": {
      "image/png": "[encoded data removed]",
      "text/plain": [
       "<matplotlib.figure.Figure at 0x7f6914d72550>"
      ]
     },
     "metadata": {},
     "output_type": "display_data"
    }
   ],
   "source": [
    "plt.semilogy(residuals);"
   ]
  },
  {
   "cell_type": "code",
   "execution_count": null,
   "metadata": {},
   "outputs": [],
   "source": []
  }
 ],
 "metadata": {
  "kernelspec": {
   "display_name": "Python 3",
   "language": "python",
   "name": "python3"
  },
  "language_info": {
   "codemirror_mode": {
    "name": "ipython",
    "version": 3
   },
   "file_extension": ".py",
   "mimetype": "text/x-python",
   "name": "python",
   "nbconvert_exporter": "python",
   "pygments_lexer": "ipython3",
   "version": "3.5.2"
  }
 },
 "nbformat": 4,
 "nbformat_minor": 2
}
