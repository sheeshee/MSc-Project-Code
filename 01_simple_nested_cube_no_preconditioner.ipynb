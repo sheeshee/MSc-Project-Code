{
 "cells": [
  {
   "cell_type": "markdown",
   "metadata": {},
   "source": [
    "# Application 1:  a simple nested cube with no preconditioner"
   ]
  },
  {
   "cell_type": "code",
   "execution_count": 1,
   "metadata": {},
   "outputs": [],
   "source": [
    "# PARAMETERS\n",
    "\n",
    "## PHYSICS\n",
    "k = {\n",
    "    'e': 1,\n",
    "    'i': 1,\n",
    "    'w': 1,\n",
    "}\n",
    "\n",
    "mu = 1\n",
    "\n",
    "## COMPUTING\n",
    "element_size = 0.5\n",
    "\n",
    "length_cavity = 1\n",
    "length_wall = 2\n",
    "\n",
    "DOMAIN_DISC_CHOICE = \"RWG\"\n",
    "DUAL_DISC_CHOICE = \"RBC\""
   ]
  },
  {
   "cell_type": "markdown",
   "metadata": {},
   "source": [
    "# Imports"
   ]
  },
  {
   "cell_type": "code",
   "execution_count": 2,
   "metadata": {},
   "outputs": [],
   "source": [
    "import time\n",
    "from collections import namedtuple\n",
    "import numpy as np\n",
    "import bempp.api\n",
    "\n",
    "from bempp.api import shapes\n",
    "from bempp.api import function_space, assembly\n",
    "from bempp.api.operators.boundary import maxwell\n",
    "from bempp.api.operators.potential import maxwell as maxwell_potential\n",
    "\n",
    "\n",
    "from bempp.core.common.global_parameters import global_parameters # Interface to define global_parameters for operators\n",
    "\n",
    "bempp.api.set_ipython_notebook_viewer()"
   ]
  },
  {
   "cell_type": "markdown",
   "metadata": {},
   "source": [
    "# Create grid\n",
    "\n",
    "This problem domain consists of two cubes: one large and one small. The small cube is positioned at the center of the large cube."
   ]
  },
  {
   "cell_type": "code",
   "execution_count": 3,
   "metadata": {},
   "outputs": [],
   "source": [
    "def discretize(grid, *methods):\n",
    "    \"\"\"\n",
    "    Returns a named tuple containing the discretised boundaries of the\n",
    "    given grid according to the method specified.\n",
    "    \"\"\"\n",
    "    supported_methods = [\"RWG\", \"RBC\"]\n",
    "    space = {}\n",
    "    assert len(methods) > 0, \"You must provide disretisation methods.\"\n",
    "    for method in methods:\n",
    "        if method not in supported_methods:\n",
    "            raise ValueError(\"Method %s not supported.\" % method)\n",
    "        space[method] = function_space(grid, method, 0)\n",
    "    return space\n",
    "\n",
    "# Cubes are positioned according to their bottom left corner\n",
    "small_cube = discretize(\n",
    "    shapes.cube(length=length_cavity, h=element_size,\n",
    "                origin=(-length_cavity/2, -length_cavity/2, -length_cavity/2)),\n",
    "    DOMAIN_DISC_CHOICE, DUAL_DISC_CHOICE\n",
    ")\n",
    "large_cube = discretize(\n",
    "    shapes.cube(length=length_wall, h=element_size,\n",
    "                origin=(-length_wall/2, -length_wall/2, -length_wall/2)),\n",
    "    DOMAIN_DISC_CHOICE, DUAL_DISC_CHOICE\n",
    ")"
   ]
  },
  {
   "cell_type": "code",
   "execution_count": 4,
   "metadata": {},
   "outputs": [
    {
     "name": "stdout",
     "output_type": "stream",
     "text": [
      "2\n",
      "390\n",
      "780\n",
      "2\n",
      "126\n",
      "252\n",
      "\n",
      "516\n",
      "1032\n"
     ]
    }
   ],
   "source": [
    "x = large_cube[DOMAIN_DISC_CHOICE]\n",
    "print(\n",
    "    x.domain_dimension,\n",
    "    x.global_dof_count,\n",
    "    x.flat_local_dof_count,\n",
    "    sep='\\n'\n",
    ")\n",
    "y = small_cube[DOMAIN_DISC_CHOICE]\n",
    "print(\n",
    "    y.domain_dimension,\n",
    "    y.global_dof_count,\n",
    "    y.flat_local_dof_count,\n",
    "    sep='\\n'\n",
    ")\n",
    "print()\n",
    "print(x.global_dof_count+y.global_dof_count)\n",
    "print(x.flat_local_dof_count+y.flat_local_dof_count)"
   ]
  },
  {
   "cell_type": "code",
   "execution_count": 5,
   "metadata": {},
   "outputs": [
    {
     "data": {
      "text/plain": [
       "6.283185307179586"
      ]
     },
     "execution_count": 5,
     "metadata": {},
     "output_type": "execute_result"
    }
   ],
   "source": [
    "wave_length_w = 2 * np.pi/k['w']\n",
    "wave_length_w"
   ]
  },
  {
   "cell_type": "code",
   "execution_count": 6,
   "metadata": {},
   "outputs": [
    {
     "data": {
      "text/plain": [
       "6.283185307179586"
      ]
     },
     "execution_count": 6,
     "metadata": {},
     "output_type": "execute_result"
    }
   ],
   "source": [
    "wave_length_e = 2 * np.pi/k['e']\n",
    "wave_length_e"
   ]
  },
  {
   "cell_type": "code",
   "execution_count": 7,
   "metadata": {},
   "outputs": [
    {
     "data": {
      "text/plain": [
       "12.566370614359172"
      ]
     },
     "execution_count": 7,
     "metadata": {},
     "output_type": "execute_result"
    }
   ],
   "source": [
    "wave_length_w/element_size"
   ]
  },
  {
   "cell_type": "markdown",
   "metadata": {},
   "source": [
    "# Setup the Operator\n",
    "\n",
    "$$\n",
    "\\mathcal{A}\n",
    "=\n",
    "\\begin{bmatrix}\n",
    "    -(\\mathcal{A}^w_1 + \\mathcal{A}^1_1) & \\mathcal{A}^w_{1,w} \\\\\n",
    "    -\\mathcal{A}^w_{w,1}               & \\mathcal{A}^w_w + \\mathcal{A}^e_w \\\\\n",
    "\\end{bmatrix}\n",
    "$$"
   ]
  },
  {
   "cell_type": "code",
   "execution_count": 8,
   "metadata": {},
   "outputs": [],
   "source": [
    "def to_block_op(mfie, efie, k, mu):\n",
    "    \"\"\"\n",
    "    Build the standard block operator from the given integral equations.\n",
    "    \"\"\"\n",
    "    A = assembly.BlockedOperator(2, 2) # empty operator object\n",
    "    A[0,0] = mfie\n",
    "    A[0,1] = mu/k * efie\n",
    "    A[1,0] = -k/mu * efie\n",
    "    A[1,1] = mfie\n",
    "    return A\n",
    "\n",
    "\n",
    "def get_simple_block_op(space, k, mu):\n",
    "    \"\"\"\n",
    "    Return a 2x2 block operator defining the block matrix that would\n",
    "    act on the given grid.\n",
    "    \n",
    "    This is similar to the `multitrace_operator` constructor, but it\n",
    "    allows us to specify exactly which boundary disretisation functions\n",
    "    to use.\n",
    "    \"\"\"\n",
    "    efie = maxwell.electric_field(\n",
    "        space[DOMAIN_DISC_CHOICE], space[DUAL_DISC_CHOICE], space[DUAL_DISC_CHOICE], k,\n",
    "    )\n",
    "    mfie = maxwell.magnetic_field(\n",
    "        space[DOMAIN_DISC_CHOICE], space[DUAL_DISC_CHOICE], space[DUAL_DISC_CHOICE], k,\n",
    "    )\n",
    "    A = to_block_op(mfie, efie, k, mu)\n",
    "    return A\n",
    "\n",
    "\n",
    "def get_mixed_block_op(target, source, k, mu):\n",
    "    \"\"\"\n",
    "    Return a 2x2 block operator that defines the interferences on\n",
    "    `grid_a` by `grid_b`.\n",
    "    \"\"\"\n",
    "    efie = maxwell.electric_field(\n",
    "        source[DOMAIN_DISC_CHOICE], target[DUAL_DISC_CHOICE], target[DUAL_DISC_CHOICE], k\n",
    "    )\n",
    "    mfie = maxwell.magnetic_field(\n",
    "        source[DOMAIN_DISC_CHOICE], target[DUAL_DISC_CHOICE], target[DUAL_DISC_CHOICE], k\n",
    "    )\n",
    "    A = to_block_op(mfie, efie, k, mu)\n",
    "    return A\n",
    "    \n",
    "\n",
    "def assign_inplace_subblock(A, a, i, j):\n",
    "    \"\"\"\n",
    "    Assigns the 4 elements of a to the 2x2 block of A\n",
    "    specified by the indexes i and j.\n",
    "    \"\"\"\n",
    "    bi = 2*i\n",
    "    bj = 2*j\n",
    "    A[bi, bj]     = a[0, 0]\n",
    "    A[bi, bj+1]   = a[0, 1]\n",
    "    A[bi+1, bj]   = a[1, 0]\n",
    "    A[bi+1, bj+1] = a[1, 1]\n",
    "    \n",
    "\n",
    "def PMCHWT_operator(\n",
    "        small_cube, large_cube, k_int, k_wal, k_ext, mu, parameters\n",
    "    ):\n",
    "    \"\"\"Vector = namedtuple('Vector', ['neumann', 'dirichlet'])\n",
    "    Build the operator for the nested shape problem formulation.\n",
    "    \"\"\"\n",
    "    # small cube\n",
    "    A1_1 = get_simple_block_op(small_cube, k_int, mu)\n",
    "    Aw_1 = get_simple_block_op(small_cube, k_wal, mu)\n",
    "    # large cube\n",
    "    Aw_w = get_simple_block_op(large_cube, k_wal, mu)\n",
    "    Ae_w = get_simple_block_op(large_cube, k_ext, mu)\n",
    "    # mixed (target, source, k)\n",
    "    Aw_1w = get_mixed_block_op(small_cube, large_cube, k_wal, mu)\n",
    "    Aw_w1 = get_mixed_block_op(large_cube, small_cube, k_wal, mu)\n",
    "   \n",
    "    # assemble the blocks\n",
    "    A = assembly.BlockedOperator(2 * 2, 2 * 2)\n",
    "    assign_inplace_subblock(A, -(Aw_1 + A1_1), 0, 0)\n",
    "    assign_inplace_subblock(A,   Aw_1w,        0, 1)\n",
    "    assign_inplace_subblock(A, - Aw_w1,        1, 0)\n",
    "    assign_inplace_subblock(A,   Aw_w + Ae_w,  1, 1)\n",
    "    \n",
    "    return A\n",
    "\n",
    "    \n",
    "A = PMCHWT_operator(small_cube, large_cube, k['i'], k['w'], k['e'], mu, None)"
   ]
  },
  {
   "cell_type": "code",
   "execution_count": 9,
   "metadata": {},
   "outputs": [
    {
     "name": "stdout",
     "output_type": "stream",
     "text": [
      "<bempp.api.space.space.RWGSpace object at 0x7feef8c8bdd8>\n",
      "<bempp.api.space.space.RWGSpace object at 0x7feef8c8bdd8>\n",
      "<bempp.api.space.space.RWGSpace object at 0x7fee842e9828>\n",
      "<bempp.api.space.space.RWGSpace object at 0x7fee842e9828>\n",
      "[2904, 2904, 9312, 9312]\n",
      "24432\n"
     ]
    }
   ],
   "source": [
    "spaces_in_A = [d.flat_local_dof_count for d in A._range_spaces]\n",
    "print(*[d for d in A._domain_spaces], sep='\\n')\n",
    "print(spaces_in_A)\n",
    "print(sum(spaces_in_A))"
   ]
  },
  {
   "cell_type": "markdown",
   "metadata": {},
   "source": [
    "# Discretize the incident field"
   ]
  },
  {
   "cell_type": "code",
   "execution_count": 10,
   "metadata": {},
   "outputs": [],
   "source": [
    "#\n",
    "# Antigoni's code\n",
    "#\n",
    "if False:\n",
    "    def incident_field(x):\n",
    "        return np.array([0. * x[2], 0. * x[2], np.exp(1j * k_ext * x[0])])\n",
    "\n",
    "\n",
    "    def dirichlet_trace_fun(x, n, domain_index, result):\n",
    "        result[:] = np.cross(incident_field(x), n)\n",
    "\n",
    "\n",
    "    def curl(incident_field,x):\n",
    "        return np.array([0,  - 1j * k_ext * np.exp(1j * k_ext * x[0]), 0])\n",
    "\n",
    "\n",
    "    def neumann_trace_fun(x, n, domain_index, result):\n",
    "        result[:] = (1/(1j * k_ext)) * np.cross(curl(incident_field,x), n)\n",
    "\n",
    "\n",
    "    incident_field_RWG = number_of_scatterers * [None]\n",
    "    for i in range(number_of_scatterers):\n",
    "        dirichlet_trace_RWG = bempp.api.GridFunction(rwg_space[i], fun=dirichlet_trace_fun)\n",
    "        neumann_trace_RWG = (k_ext/mu_ext) * bempp.api.GridFunction(rwg_space[i], fun = neumann_trace_fun)\n",
    "        incident_field_RWG[i] = dirichlet_trace_RWG.coefficients.tolist() +  neumann_trace_RWG.coefficients.tolist()"
   ]
  },
  {
   "cell_type": "code",
   "execution_count": 11,
   "metadata": {},
   "outputs": [],
   "source": [
    "def incident_field(x):\n",
    "    return np.array([0. * x[2], 0. * x[2], np.exp(1j * k['e'] * x[0])])\n",
    "\n",
    "\n",
    "def dirichlet_trace_fun(x, n, domain_index, result):\n",
    "    result[:] = np.cross(incident_field(x), n)\n",
    "\n",
    "    \n",
    "def curl(incident_field,x):\n",
    "    return np.array([0,  - 1j * k['e'] * np.exp(1j * k['e'] * x[0]), 0])\n",
    "\n",
    "\n",
    "def neumann_trace_fun(x, n, domain_index, result):\n",
    "    result[:] = (1/(1j * k['e'])) * np.cross(curl(incident_field,x), n)\n",
    "\n",
    "\n",
    "# for large cube\n",
    "Dtrace_inc = bempp.api.GridFunction(large_cube[DOMAIN_DISC_CHOICE], fun=dirichlet_trace_fun)\n",
    "Ntrace_inc = (k['e']/mu) * bempp.api.GridFunction(large_cube[DOMAIN_DISC_CHOICE], fun=neumann_trace_fun)\n",
    "# combine\n",
    "Vector = namedtuple('Vector', ['neumann', 'dirichlet'])\n",
    "u_inc = Vector(\n",
    "    Dtrace_inc.coefficients.tolist(),\n",
    "    Ntrace_inc.coefficients.tolist()\n",
    ")"
   ]
  },
  {
   "cell_type": "code",
   "execution_count": 12,
   "metadata": {},
   "outputs": [],
   "source": [
    "# theta = np.pi / 4 # Incident wave travelling at a 60 degree angle\n",
    "# direction = np.array([np.cos(theta), 0, np.sin(theta)])\n",
    "# polarization = np.array([0, 1.0, 0])\n",
    "\n",
    "# def plane_wave(point):\n",
    "#     return polarization * np.exp(1j * k_ext * np.dot(point, direction))\n",
    "\n",
    "# def dirichlet_trace_fun(point, n, domain_index, result):\n",
    "#     result[:] =  np.cross(plane_wave(point), n)\n",
    "\n",
    "# def plane_wave_curl(point):\n",
    "#     return np.cross(direction, polarization) * 1j * k_ext * np.exp(1j * k_ext * np.dot(point, direction))\n",
    "\n",
    "# def neumann_trace_fun(point, n, domain_index, result):\n",
    "#     result[:] =  1./ (1j * k_ext) * np.cross(plane_wave_curl(point), n)"
   ]
  },
  {
   "cell_type": "code",
   "execution_count": 13,
   "metadata": {},
   "outputs": [
    {
     "name": "stdout",
     "output_type": "stream",
     "text": [
      "390\n",
      "390\n"
     ]
    }
   ],
   "source": [
    "print(len(u_inc[0]))\n",
    "print(len(u_inc[1]))"
   ]
  },
  {
   "cell_type": "markdown",
   "metadata": {},
   "source": [
    "# Assemble the RHS\n",
    "\n",
    "$$\n",
    "f = \\begin{bmatrix}\n",
    "    - \\mathcal{A_{1w}} \\\\\n",
    "    - (\\mathcal{A_{w}} - \\frac{1}{2} \\mathcal{I})\n",
    "\\end{bmatrix}\n",
    "$$"
   ]
  },
  {
   "cell_type": "code",
   "execution_count": 14,
   "metadata": {},
   "outputs": [],
   "source": [
    "def get_identity_op(space):\n",
    "    \"\"\"\n",
    "    Create an identity operator matching the given space\n",
    "    \"\"\"\n",
    "    i = bempp.api.operators.boundary.sparse.identity(\n",
    "        # this can make the kernel crash of not set correctly\n",
    "        space[DOMAIN_DISC_CHOICE], space[DOMAIN_DISC_CHOICE], space[DOMAIN_DISC_CHOICE]\n",
    "    )\n",
    "    I = assembly.BlockedOperator(2, 2)\n",
    "    I[0, 0] = i\n",
    "    I[1, 1] = i\n",
    "    return I\n",
    "    \n",
    "\n",
    "Aw_1w = get_mixed_block_op(small_cube, large_cube, k['w'], mu)\n",
    "Aw_w  = get_simple_block_op(large_cube, k['w'], mu)\n",
    "I = get_identity_op(large_cube)"
   ]
  },
  {
   "cell_type": "code",
   "execution_count": 15,
   "metadata": {},
   "outputs": [
    {
     "name": "stdout",
     "output_type": "stream",
     "text": [
      "[780, 780]\n",
      "[2904, 2904]\n",
      "[780, 780]\n",
      "[9312, 9312]\n",
      "780\n"
     ]
    }
   ],
   "source": [
    "print([d.flat_local_dof_count for d in Aw_1w._domain_spaces])\n",
    "print([d.flat_local_dof_count for d in Aw_1w._range_spaces])\n",
    "print([d.flat_local_dof_count for d in Aw_w._domain_spaces])\n",
    "print([d.flat_local_dof_count for d in Aw_w._range_spaces])\n",
    "print(I._domain_spaces[0].flat_local_dof_count)"
   ]
  },
  {
   "cell_type": "code",
   "execution_count": 16,
   "metadata": {},
   "outputs": [],
   "source": [
    "pre = [\n",
    "    - Aw_1w.weak_form() * (u_inc[0] + u_inc[1]),\n",
    "    - (Aw_w.weak_form() - 1/2 * I.weak_form()) * (u_inc[0] + u_inc[1])\n",
    "]\n",
    "# flatten list of lists\n",
    "f = [y for x in pre for y in x]"
   ]
  },
  {
   "cell_type": "markdown",
   "metadata": {},
   "source": [
    "# Solve the Linear System"
   ]
  },
  {
   "cell_type": "code",
   "execution_count": 17,
   "metadata": {},
   "outputs": [],
   "source": [
    "from antigoni.login import gmres"
   ]
  },
  {
   "cell_type": "code",
   "execution_count": null,
   "metadata": {},
   "outputs": [],
   "source": [
    "# In the last run this stoped convergin around i=4000\n",
    "# consider setting maxiter to this number for testing\n",
    "x, info, residuals = gmres(A.weak_form(), f, return_residuals=True, maxiter=2000)"
   ]
  },
  {
   "cell_type": "markdown",
   "metadata": {},
   "source": [
    "# Plot"
   ]
  },
  {
   "cell_type": "markdown",
   "metadata": {},
   "source": [
    "## Residual"
   ]
  },
  {
   "cell_type": "code",
   "execution_count": null,
   "metadata": {},
   "outputs": [],
   "source": [
    "import matplotlib.pyplot as plt"
   ]
  },
  {
   "cell_type": "code",
   "execution_count": null,
   "metadata": {},
   "outputs": [],
   "source": [
    "plt.semilogy(residuals);"
   ]
  },
  {
   "cell_type": "markdown",
   "metadata": {},
   "source": [
    "## Split result into each domain and then into Neumann and Dirichlet traces"
   ]
  },
  {
   "cell_type": "code",
   "execution_count": null,
   "metadata": {},
   "outputs": [],
   "source": [
    "\n",
    "# Split between different domains in vector\n",
    "u_cavity = Vector(\n",
    "    neumann=x[:small_cube[DOMAIN_DISC_CHOICE].flat_local_dof_count//2],\n",
    "    dirichlet=x[small_cube[DOMAIN_DISC_CHOICE].flat_local_dof_count//2:small_cube[DOMAIN_DISC_CHOICE].flat_local_dof_count]\n",
    ")\n",
    "\n",
    "split_point = small_cube[DOMAIN_DISC_CHOICE].flat_local_dof_count\n",
    "\n",
    "u_scattered = Vector(\n",
    "    neumann=x[split_point:split_point+large_cube[DOMAIN_DISC_CHOICE].flat_local_dof_count//2],\n",
    "    dirichlet=x[split_point+large_cube[DOMAIN_DISC_CHOICE].flat_local_dof_count//2:]\n",
    ")\n",
    "\n",
    "# Check\n",
    "def assert_lengths_match(a, b):\n",
    "    \"\"\"\n",
    "    Raise Error if lengths of a and b do not match.\n",
    "    \"\"\"\n",
    "    if isinstance(a, int):\n",
    "        va = a\n",
    "    else:\n",
    "        va = len(a)\n",
    "    \n",
    "    if isinstance(b, int):\n",
    "        vb = b\n",
    "    else:\n",
    "        vb = len(b)\n",
    "        \n",
    "    assert va == vb, \"Lengths must match. Got %i and %i.\" % (va, vb)\n",
    "\n",
    "    \n",
    "assert_lengths_match(\n",
    "    sum([len(z) for z in [\n",
    "        u_cavity.neumann, u_cavity.dirichlet,\n",
    "        u_scattered.neumann, u_scattered.dirichlet\n",
    "    ]]),\n",
    "    f\n",
    ")\n",
    "\n",
    "assert_lengths_match(*u_cavity)\n",
    "assert_lengths_match(*u_scattered)"
   ]
  },
  {
   "cell_type": "markdown",
   "metadata": {},
   "source": [
    "## Get the trace of the field in the wall from the scattered and incident traces"
   ]
  },
  {
   "cell_type": "code",
   "execution_count": null,
   "metadata": {},
   "outputs": [],
   "source": [
    "u_wall = Vector(\n",
    "    u_inc.neumann + u_scattered.neumann,\n",
    "    u_inc.dirichlet + u_scattered.dirichlet# divide accordingly to achieve smaller particlesrichlet,\n",
    ")"
   ]
  },
  {
   "cell_type": "markdown",
   "metadata": {},
   "source": [
    "## Define the points where we will evaluate the field"
   ]
  },
  {
   "cell_type": "code",
   "execution_count": null,
   "metadata": {},
   "outputs": [],
   "source": [
    "# Number of points in the x-direction\n",
    "nx = 220# divide accordingly to achieve smaller particles\n",
    "\n",
    "# Number of points in the y-direction\n",
    "nz = 220\n",
    "\n",
    "xmin, xmax, zmin, zmax = [\n",
    "    -length_wall/2-1,\n",
    "    length_wall/2+1,\n",
    "    -length_wall/2-1,\n",
    "    length_wall/2+1\n",
    "] \n",
    "# Ask Antigoni, why j's\n",
    "plot_grid = np.mgrid[xmin:xmax:nx * 1j, 0:0:1j, zmin:zmax:nz * 1j]\n",
    "\n",
    "c = 0 # Intersecting plane\n",
    "\n",
    "points = np.vstack((\n",
    "    plot_grid[0].ravel(),\n",
    "    c * np.ones(plot_grid[0].size),\n",
    "    plot_grid[2].ravel()\n",
    "))\n",
    "\n",
    "# Compute interior and exterior indices\n",
    "all_indices = np.ones(points.shape[1], dtype='uint32')"
   ]
  },
  {
   "cell_type": "code",
   "execution_count": null,
   "metadata": {},
   "outputs": [],
   "source": [
    "def point_is_within_cube(upper_bound_length, point):\n",
    "    \"\"\"\n",
    "    Determines whether the given point is contained within the a centered cube with the\n",
    "    bounds specified.\n",
    "    \"\"\"\n",
    "    c =  [-upper_bound_length/2 < px and px < upper_bound_length/2\n",
    "          for px in point]\n",
    "    return all(c)\n",
    "        \n",
    "cavity_indexer = []\n",
    "wall_indexer = []\n",
    "exterior_indexer = []\n",
    "\n",
    "for i, point in enumerate(points.T):\n",
    "    if point_is_within_cube(length_cavity, point):\n",
    "        cavity_indexer.append(i)\n",
    "    elif point_is_within_cube(length_wall, point):\n",
    "        wall_indexer.append(i)\n",
    "    elif point_is_within_cube(np.inf, point):\n",
    "        exterior_indexer.append(i)\n",
    "    else:\n",
    "        raise ValueError(\"Point %s not within domain\" % point)"
   ]
  },
  {
   "cell_type": "code",
   "execution_count": null,
   "metadata": {},
   "outputs": [],
   "source": [
    "# Sanity check\n",
    "print(\n",
    "    len(cavity_indexer), '+',\n",
    "    len(wall_indexer), '+',\n",
    "    len(exterior_indexer), '=',\n",
    "    sum([\n",
    "        len(cavity_indexer),\n",
    "        len(wall_indexer),\n",
    "        len(exterior_indexer)\n",
    "    ])\n",
    ")"
   ]
  },
  {
   "cell_type": "markdown",
   "metadata": {},
   "source": [
    "## Calculate the field form the trace data"
   ]
  },
  {
   "cell_type": "code",
   "execution_count": null,
   "metadata": {},
   "outputs": [],
   "source": [
    "# Cavity\n",
    "cavity_points = points[:, cavity_indexer]\n",
    "\n",
    "E_potential_op = maxwell_potential.electric_field(\n",
    "    small_cube[DOMAIN_DISC_CHOICE], cavity_points, k['i'])\n",
    "H_potential_op = maxwell_potential.magnetic_field(\n",
    "    small_cube[DOMAIN_DISC_CHOICE], cavity_points, k['i'])\n",
    "\n",
    "Ntrace_i = bempp.api.GridFunction(\n",
    "    small_cube[DOMAIN_DISC_CHOICE], coefficients=u_cavity.neumann)\n",
    "Dtrace_i = bempp.api.GridFunction(\n",
    "    small_cube[DOMAIN_DISC_CHOICE], coefficients=u_cavity.dirichlet)\n",
    "\n",
    "cavity_field = H_potential_op * Dtrace_i + E_potential_op * (mu/k['i'] * Ntrace_i)"
   ]
  },
  {
   "cell_type": "code",
   "execution_count": null,
   "metadata": {},
   "outputs": [],
   "source": [
    "# Wall\n",
    "wall_points = points[:, wall_indexer]\n",
    "\n",
    "# Influence of external boundary\n",
    "E_potential_op_w = maxwell_potential.electric_field(\n",
    "    large_cube[DOMAIN_DISC_CHOICE], wall_points, k['w'])\n",
    "H_potential_op_w = maxwell_potential.magnetic_field(\n",
    "    large_cube[DOMAIN_DISC_CHOICE], wall_points, k['w'])\n",
    "\n",
    "Ntrace_w = bempp.api.GridFunction(\n",
    "    large_cube[DOMAIN_DISC_CHOICE], coefficients=u_wall.neumann)\n",
    "Dtrace_w = bempp.api.GridFunction(\n",
    "    large_cube[DOMAIN_DISC_CHOICE], coefficients=u_wall.dirichlet)\n",
    "\n",
    "# Influence of cavity\n",
    "E_potential_op_i = maxwell_potential.electric_field(\n",
    "    small_cube[DOMAIN_DISC_CHOICE], wall_points, k['w'])\n",
    "H_potential_op_i = maxwell_potential.magnetic_field(\n",
    "    small_cube[DOMAIN_DISC_CHOICE], wall_points, k['w'])\n",
    "\n",
    "# Putting them together\n",
    "wall_field = H_potential_op_w * Dtrace_w + E_potential_op_w * (mu/k['w'] * Ntrace_w) \\\n",
    "    - (H_potential_op_i * Dtrace_i + H_potential_op_i * (mu/k['i'] * Ntrace_i))"
   ]
  },
  {
   "cell_type": "code",
   "execution_count": null,
   "metadata": {},
   "outputs": [],
   "source": [
    "# Scattered\n",
    "exterior_points = points[:, exterior_indexer]\n",
    "\n",
    "E_potential_op = maxwell_potential.electric_field(\n",
    "    large_cube[DOMAIN_DISC_CHOICE], exterior_points, k['e'])\n",
    "H_potential_op = maxwell_potential.magnetic_field(\n",
    "    large_cube[DOMAIN_DISC_CHOICE], exterior_points, k['e'])\n",
    "\n",
    "# TO DO include scaling here\n",
    "Ntrace = bempp.api.GridFunction(\n",
    "    large_cube[DOMAIN_DISC_CHOICE], coefficients=u_scattered.neumann)\n",
    "Dtrace = bempp.api.GridFunction(\n",
    "    large_cube[DOMAIN_DISC_CHOICE], coefficients=u_scattered.dirichlet)\n",
    "\n",
    "scattered_field =  - H_potential_op * Dtrace - E_potential_op * (mu/k['e'] * Ntrace)"
   ]
  },
  {
   "cell_type": "markdown",
   "metadata": {},
   "source": [
    "# Combine, Shape and Plot the Results"
   ]
  },
  {
   "cell_type": "code",
   "execution_count": null,
   "metadata": {},
   "outputs": [],
   "source": [
    "total_field = np.empty_like(points, dtype='complex128')"
   ]
  },
  {
   "cell_type": "code",
   "execution_count": null,
   "metadata": {},
   "outputs": [],
   "source": [
    "total_field[:, cavity_indexer] = cavity_field\n",
    "total_field[:, wall_indexer] =   wall_field\n",
    "total_field[:, exterior_indexer] = scattered_field + incident_field(points[:, exterior_indexer])"
   ]
  },
  {
   "cell_type": "code",
   "execution_count": null,
   "metadata": {},
   "outputs": [],
   "source": [
    "# squared_scattered_field = np.sum(np.abs(scattered_field)**2, axis=0)\n",
    "squared_field = np.sum(np.abs(total_field)**2, axis=0)"
   ]
  },
  {
   "cell_type": "code",
   "execution_count": null,
   "metadata": {},
   "outputs": [],
   "source": [
    "plt.imshow(\n",
    "    squared_field.reshape(nx, nz),\n",
    "    extent=[xmin, xmax, zmin, zmax],\n",
    "    clim = (0,2),\n",
    ")\n",
    "plt.colorbar();"
   ]
  }
 ],
 "metadata": {
  "kernelspec": {
   "display_name": "Python 3",
   "language": "python",
   "name": "python3"
  },
  "language_info": {
   "codemirror_mode": {
    "name": "ipython",
    "version": 3
   },
   "file_extension": ".py",
   "mimetype": "text/x-python",
   "name": "python",
   "nbconvert_exporter": "python",
   "pygments_lexer": "ipython3",
   "version": "3.5.2"
  }
 },
 "nbformat": 4,
 "nbformat_minor": 2
}
